{
  "nbformat": 4,
  "nbformat_minor": 0,
  "metadata": {
    "colab": {
      "provenance": [],
      "authorship_tag": "ABX9TyMupd3jxKVBmXmIma4Kr0tO",
      "include_colab_link": true
    },
    "kernelspec": {
      "name": "python3",
      "display_name": "Python 3"
    },
    "language_info": {
      "name": "python"
    }
  },
  "cells": [
    {
      "cell_type": "markdown",
      "metadata": {
        "id": "view-in-github",
        "colab_type": "text"
      },
      "source": [
        "<a href=\"https://colab.research.google.com/github/damianiRiccardo90/BHP/blob/master/C10-Windows_Privilege_Escalation/Winning_The_Race.ipynb\" target=\"_parent\"><img src=\"https://colab.research.google.com/assets/colab-badge.svg\" alt=\"Open In Colab\"/></a>"
      ]
    },
    {
      "cell_type": "markdown",
      "source": [
        "# *__Winning the Race__*\n",
        "\n",
        "Batch, VBScript, and PowerShell scripts make system administrators' lives easier by automating humdrum tasks. They might continually register with a central inventory service, for example, or force updates of software from their own repositories. One common problem is the lack of proper access controls on these scripting files. In a number of cases, on otherwise secure servers, we've found batch or PowerShell scripts that run once a day by the SYSTEM user while being globally writable by any user.\n",
        "\n",
        "If you run your process monitor long enough in an enterprise (or you simply install the sample service provided in the beginning of this chapter), you might see process records that look like this:\n",
        "\n",
        "```\n",
        "wscript.exe C:\\Windows\\TEMP\\bhservice_task.vbs , 20200624102235.287541-240 , C:\\Windows\\\n",
        "SysWOW64\\wscript.exe,2828 , 17516 , ('NT AUTHORITY', 0, 'SYSTEM') , SeLockMemoryPrivilege|SeTcb\n",
        "Privilege|SeSystemProfilePrivilege|SeProfileSingleProcessPrivilege|SeIncreaseBasePriorityPrivil\n",
        "ege|SeCreatePagefilePrivilege|SeCreatePermanentPrivilege|SeDebugPrivilege|SeAuditPrivilege|SeCh\n",
        "angeNotifyPrivilege|SeImpersonatePrivilege|SeCreateGlobalPrivilege|SeIncreaseWorkingSetPrivileg\n",
        "e|SeTimeZonePrivilege|SeCreateSymbolicLinkPrivilege|SeDelegateSessionUserImpersonatePrivilege|\n",
        "```\n",
        "\n",
        "You can see that a SYSTEM process has spawned the __wscript.exe__ binary and passed in the __C:\\WINDOWS\\TEMP\\bhservice_task.vbs__ parameter. The sample __bhservice__ you created at the beginning of the chapter should generate these events once per minute.\n",
        "\n",
        "But if you list the contents of the directory, you won't see this file present. This is because the service creates a file containing VBScript and then executes and removes that VBScript. We've seen this action performed by commercial software in a number of cases; often, software creates files in temporary location, writes commands into the files, executes the resulting program files, and then deletes those files.\n",
        "\n",
        "In order to exploit this condition, we have to effectively win a race against the executing code. When the software or scheduled task creates the file, we need to be able to inject our own code into the file before the process executes and deletes it. The trick to this is in the handy Windows API __ReadDirectoryChangesW__, which enables us to monitor a directory for any changes to files or subdirectories. We can also filter these events so that we're able to determine when the file has been saved. That way, we can quickly inject our code into it before it's executed. You may find it incredibly useful to simply keep an eye on all temporary directories for a period of 24 hours or longer; sometimes, you'll find interesting bugs or information disclosures on top of potential privilege escalations.\n",
        "\n",
        "Let's begin by creating a file monitor. We'll then build on it to automatically inject code. Save a new file called __file_monitor.py__ and hammer out the following:"
      ],
      "metadata": {
        "id": "yLT_NrY-JNlL"
      }
    },
    {
      "cell_type": "code",
      "source": [
        "# Modified example that is originally given here:\n",
        "# http://timgolden.me.uk/python/win32_how_do_i/watch_directory_for_changes.html\n",
        "\n",
        "import os\n",
        "import tempfile\n",
        "import threading\n",
        "import win32con\n",
        "import win32file\n",
        "\n",
        "FILE_CREATED = 1\n",
        "FILE_DELETED = 2\n",
        "FILE_MODIFIED = 3\n",
        "FILE_RENAMED_FROM = 4\n",
        "FILE_RENAMED_TO = 5\n",
        "\n",
        "FILE_LIST_DIRECTORY = 0x0001\n",
        "PATHS = ['c:\\\\WINDOWS\\\\Temp', tempfile.gettempdir()] #[1]\n",
        "\n",
        "def monitor(path_to_watch):\n",
        "    h_directory = win32file.CreateFile( #[2]\n",
        "        path_to_watch,\n",
        "        FILE_LIST_DIRECTORY,\n",
        "        win32con.FILE_SHARE_READ | win32con.FILE_SHARE_WRITE | win32con.FILE_SHARE_DELETE,\n",
        "        None,\n",
        "        win32con.OPEN_EXISTING,\n",
        "        win32con.FILE_FLAG_BACKUP_SEMANTICS,\n",
        "        None\n",
        "    )\n",
        "    while True:\n",
        "        try:\n",
        "            results = win32file.ReadDirectoryChangesW( #[3]\n",
        "                h_directory,\n",
        "                1024,\n",
        "                True,\n",
        "                win32con.FILE_NOTIFY_CHANGE_ATTRIBUTES |\n",
        "                win32con.FILE_NOTIFY_CHANGE_DIR_NAME |\n",
        "                win32con.FILE_NOTIFY_CHANGE_FILE_NAME |\n",
        "                win32con.FILE_NOTIFY_CHANGE_LAST_WRITE |\n",
        "                win32con.FILE_NOTIFY_CHANGE_SECURITY |\n",
        "                win32con.FILE_NOTIFY_CHANGE_SIZE,\n",
        "                None,\n",
        "                None\n",
        "            )\n",
        "            for action, file_name in results: #[4]\n",
        "                full_filename = os.path.join(path_to_watch, file_name)\n",
        "                if action == FILE_CREATED:\n",
        "                    print(f'[+] Created {full_filename}')\n",
        "                elif action == FILE_DELETED:\n",
        "                    print(f'[-] Deleted {full_filename}')\n",
        "                elif action == FILE_MODIFIED:\n",
        "                    print(f'[*] Modified {full_filename}')\n",
        "                    try:\n",
        "                        print('[vvv] Dumping contents ...')\n",
        "                        with open(full_filename) as f: #[5]\n",
        "                            contents = f.read()\n",
        "                            print(contents)\n",
        "                            print('[^^^] Dump complete.')\n",
        "                    except Exception as e:\n",
        "                        print(f'[!!!] Dump failed. {e}')\n",
        "                elif action == FILE_RENAMED_FROM:\n",
        "                    print(f'[>] Renamed from {full_filename}')\n",
        "                elif action == FILE_RENAMED_TO:\n",
        "                    print(f'[<] Renamed to {full_filename}')\n",
        "                elif:\n",
        "                    print(f'[?] Unknown action on {full_filename}')\n",
        "        except Exception:\n",
        "            pass\n",
        "\n",
        "if __name__ == '__main__':\n",
        "    for path in PATHS:\n",
        "        monitor_thread = threading.Thread(target=monitor, args=(path,))\n",
        "        monitor_thread.start()"
      ],
      "metadata": {
        "id": "nJjPAN-hYWHj"
      },
      "execution_count": null,
      "outputs": []
    },
    {
      "cell_type": "markdown",
      "source": [
        "We define a list of directories that we'd like to monitor __[1]__, which in our case are two common temporary file directories. You might want to keep an eye on other places, so edit this list as you see fit.\n",
        "\n",
        "For each of these paths, we'll create a monitoring thread that calls the __start_monitor__ function. The first task of this functions is to acquire a handle to the directory we wish to monitor __[2]__. We then call the __ReadDirectoryChangesW__ function __[3]__, which notifies us when a change occurs. We receive the filename of the changed target file and the type of event that happened __[4]__. From here, we print out useful information about what happened to that particular file, and if we detect that it has been modified, we dump out the contents of the file for reference __[5]__."
      ],
      "metadata": {
        "id": "62cEbZv1cGS9"
      }
    },
    {
      "cell_type": "markdown",
      "source": [
        "### *__Kicking the Tires__*\n",
        "\n",
        "Open a __cmd.exe__ shell and run __file_monitor.py__:\n",
        "\n",
        "```\n",
        "C:\\Users\\tim\\work> python.exe file_monitor.py\n",
        "```\n",
        "\n",
        "Open a second __cmd.exe__ shell and execute the following commands:\n",
        "\n",
        "```\n",
        "C:\\Users\\tim\\work> cd C:\\Windows\\temp\n",
        "C:\\Windows\\Temp> echo hello > filetest.bat\n",
        "C:\\Windows\\Temp> rename filetest.bat file2test\n",
        "C:\\Windows\\Temp> del file2test\n",
        "```\n",
        "\n",
        "You should see output that looks like the following:\n",
        "\n",
        "```\n",
        "[+] Created c:\\WINDOWS\\Temp\\filetest.bat\n",
        "[*] Modified c:\\WINDOWS\\Temp\\filetest.bat\n",
        "[vvv] Dumping contents ...\n",
        "hello\n",
        "\n",
        "[^^^] Dump complete.\n",
        "[>] Renamed from c:\\WINDOWS\\Temp\\filetest.bat\n",
        "[<] Renamed to c:\\WINDOWS\\Temp\\file2test\n",
        "[-] Deleted c:\\WINDOWS\\Temp\\file2test\n",
        "```\n",
        "\n",
        "If everything has worked as planned, we encourage you to keep your file monitor running for 24 hours on a target system. You may be surprised to see files being created, executed, and deleted. You can also use your process-monitoring script to look for additional interesting filepaths to monitor. Software updates could be of particular interest.\n",
        "\n",
        "Let's add the ability to inject code into these files."
      ],
      "metadata": {
        "id": "1W0dSoszwluU"
      }
    }
  ]
}