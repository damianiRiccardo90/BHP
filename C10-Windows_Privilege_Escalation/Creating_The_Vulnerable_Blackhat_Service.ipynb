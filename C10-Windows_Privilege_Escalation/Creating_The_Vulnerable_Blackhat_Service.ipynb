{
  "nbformat": 4,
  "nbformat_minor": 0,
  "metadata": {
    "colab": {
      "provenance": [],
      "authorship_tag": "ABX9TyOkL2flgvA4ocUgJFYgO0z+",
      "include_colab_link": true
    },
    "kernelspec": {
      "name": "python3",
      "display_name": "Python 3"
    },
    "language_info": {
      "name": "python"
    }
  },
  "cells": [
    {
      "cell_type": "markdown",
      "metadata": {
        "id": "view-in-github",
        "colab_type": "text"
      },
      "source": [
        "<a href=\"https://colab.research.google.com/github/damianiRiccardo90/BHP/blob/master/C10-Windows_Privilege_Escalation/Creating_The_Vulnerable_Blackhat_Service.ipynb\" target=\"_parent\"><img src=\"https://colab.research.google.com/assets/colab-badge.svg\" alt=\"Open In Colab\"/></a>"
      ]
    },
    {
      "cell_type": "markdown",
      "source": [
        "# *__Windows Privilege Escalation__*"
      ],
      "metadata": {
        "id": "e55xbEcR0g-c"
      }
    },
    {
      "cell_type": "markdown",
      "source": [
        "### *__Installing the Prerequisites__*"
      ],
      "metadata": {
        "id": "pw-dhpW_0mi7"
      }
    },
    {
      "cell_type": "markdown",
      "source": [
        "### *__Creating the Vulnerable Blackhat Service__*\n",
        "\n"
      ],
      "metadata": {
        "id": "5GGKuwwz0t3u"
      }
    }
  ]
}