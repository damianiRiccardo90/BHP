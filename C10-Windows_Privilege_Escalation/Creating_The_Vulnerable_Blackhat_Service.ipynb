{
  "nbformat": 4,
  "nbformat_minor": 0,
  "metadata": {
    "colab": {
      "provenance": [],
      "authorship_tag": "ABX9TyNPc3XPe313WysGHi2zWEGk",
      "include_colab_link": true
    },
    "kernelspec": {
      "name": "python3",
      "display_name": "Python 3"
    },
    "language_info": {
      "name": "python"
    }
  },
  "cells": [
    {
      "cell_type": "markdown",
      "metadata": {
        "id": "view-in-github",
        "colab_type": "text"
      },
      "source": [
        "<a href=\"https://colab.research.google.com/github/damianiRiccardo90/BHP/blob/master/C10-Windows_Privilege_Escalation/Creating_The_Vulnerable_Blackhat_Service.ipynb\" target=\"_parent\"><img src=\"https://colab.research.google.com/assets/colab-badge.svg\" alt=\"Open In Colab\"/></a>"
      ]
    },
    {
      "cell_type": "markdown",
      "source": [
        "# *__Windows Privilege Escalation__*\n",
        "\n",
        "So you've popped a box inside a nice, juicy Windows network. Maybe you leveraged a remote heap overflow, or you phished your way in. It's time to start looking for ways to escalate privileges.\n",
        "\n",
        "Even if you're already operating as SYSTEM or Administrator, you probably want several ways of achieving those privileges, in case a patch cycle kills your access. It can be important to have a catalog of privilege escalations in your back pocket, as some enterprises run software that may be difficult to analyze in your own environment, and you may not run into that software until you're in an enterprise of the same size or composition.\n",
        "\n",
        "In a typical privilege escalation, you'd exploit a poorly coded driver or native Windows kernel issue, but if you use a low-quality exploit or there's a problem during exploitation, you run the risk of causing system instability.\n",
        "Let's explore some other means of acquiring elevated privileges on Windows. System administrators in large enterprises commonly schedule tasks or services that execute child processes, or run VBScript or PowerShell scripts to automate activities. Vendors, too, often have automated, built-in tasks that behave the same way. We'll try to take advantage of any high-privilege processes that handle files or execute binaries that are writable by low-privilege users. There are countless ways for you to try to escalate privileges on Windows, and we'll cover only a few. However, when you understand these core concepts, you can expand your scripts to begin exploring other dark, musty corners of your Windows targets.\n",
        "\n",
        "We'll start by learning how to apply Windows Management Instrumentation (__WMI__) programming to create a flexible interface that monitors the creation of new processes. We'll harvest useful data such as the filepaths, the user who created the process, and enabled privileges. Then we'll hand off all filepaths to a file-monitoring script that continuously keeps track of any new files created, as well as what gets written to them. This tells us which files the high-privilege processes are accessing. Finally, we'll intercept the file-creation process by injecting our own scripting code into the file and make the high-privilege process execute a command shell. The beauty of this whole process is that it doesn't involve any API hooking, so we can fly under most antivirus software's radar."
      ],
      "metadata": {
        "id": "e55xbEcR0g-c"
      }
    },
    {
      "cell_type": "markdown",
      "source": [
        "### *__Installing the Prerequisites__*\n",
        "\n",
        "We need to install a few libraries to write the tooling in this chapter. Execute the following in a __cmd.exe__ shell on Windows:\n",
        "\n",
        "```\n",
        "C:\\Users\\tim\\work> pip install pywin32 wmi pyinstaller\n",
        "```\n",
        "\n",
        "You may have installed __pyinstaller__ when you made your keylogger and screenshot-taker in Chapter 8, but if not, install it now (you can use __pip__). Next, we'll create the sample service we'll use to test our monitoring scripts."
      ],
      "metadata": {
        "id": "pw-dhpW_0mi7"
      }
    },
    {
      "cell_type": "markdown",
      "source": [
        "### *__Creating the Vulnerable Blackhat Service__*\n",
        "\n",
        "The service we're creating emulates a set of vulnerabilities commonly found in large enterprise networks. We'll be attacking it later in this chapter. This service will periodically copy a script to a temporary directory and execute it from that directory. Open __bhservice.py__ to get started:"
      ],
      "metadata": {
        "id": "5GGKuwwz0t3u"
      }
    },
    {
      "cell_type": "code",
      "source": [
        "import os\n",
        "import servicemanager\n",
        "import shutil\n",
        "import subprocess\n",
        "import sys\n",
        "\n",
        "import win32event\n",
        "import win32service\n",
        "import win32serviceutil\n",
        "\n",
        "SRCDIR = 'C:\\\\Users\\\\tim\\\\work'\n",
        "TGTDIR = 'C:\\\\Windows\\\\TEMP'"
      ],
      "metadata": {
        "id": "2aGmRziYFnfD"
      },
      "execution_count": null,
      "outputs": []
    },
    {
      "cell_type": "markdown",
      "source": [
        "Here, we do our imports, set the source directory for the script file, and then set the target directory where the service will run it. Now, we'll create the actual service using a class:"
      ],
      "metadata": {
        "id": "5jLjvOdPF4sV"
      }
    },
    {
      "cell_type": "code",
      "source": [
        "class BHServerSvc(win32serviceutil.ServiceFramework):\n",
        "    _svc_name = 'BlackHatService'\n",
        "    _svc_display_name = 'Black Hat Service'\n",
        "    _svc_description_ = ('Executes VBScript at regular intervals.' +\n",
        "                         \" What could possibly go wrong?\")\n",
        "\n",
        "    def __init__(self, args): #[1]\n",
        "        self.vbs = os.path.join(TGTDIR, 'bhservice_task.vbs')\n",
        "        self.timeout = 1000 * 60\n",
        "\n",
        "        win32serviceutil.ServiceFramework.__init__(self, args)\n",
        "        self.hWaitStop = win32event.CreateEvent(None, 0, 0, None)\n",
        "\n",
        "    def SvcStop(self): #[2]\n",
        "        self.ReportServiceStatus(win32service.SERVICE_STOP_PENDING)\n",
        "        win32event.SetEvent(self.hWaitStop)\n",
        "\n",
        "    def SvcDoRun(self): #[3]\n",
        "        self.ReportServiceStatus(win32service.SERVICE_RUNNING)\n",
        "        self.main()"
      ],
      "metadata": {
        "id": "6DRut7aZGPxe"
      },
      "execution_count": null,
      "outputs": []
    },
    {
      "cell_type": "markdown",
      "source": [
        "This class is a skeleton of what any service must provide. It inherits from the __win32serviceutil.ServiceFramework__ and defines three methods. In the __\\_\\_init\\_\\___ method, we initialize the framework, define the location of the script to run, set a time out of one minute, and create the event object __[1]__. In the __SvcStop__ method, we set the service status and stop the service __[2]__. In the __SvcDoRun__ method, we start the service and call the __main__ method in which our tasks will run __[3]__. We define this __main__ method next:"
      ],
      "metadata": {
        "id": "qWgozvEHHiiJ"
      }
    },
    {
      "cell_type": "code",
      "source": [
        "    def main(self):\n",
        "        while True: #[1]\n",
        "            ret_code = win32event.WaitForSingleObject(self.hWaitStop,\n",
        "                                                      self.timeout)\n",
        "            if ret_code == win32event.WAIT_OBJECT_0: #[2]\n",
        "                servicemanager.LogInfoMsg('Service is stopping')\n",
        "                break\n",
        "            src = os.path.join(SRCDIR, 'bhservice_task.vbs')\n",
        "            shutil.copy(src, self.vbs)\n",
        "            subprocess.call('cscript.exe %s' % self.vbs, shell=False) #[3]\n",
        "            os.unlink(self.vbs)"
      ],
      "metadata": {
        "id": "eNnwwWP2I-OI"
      },
      "execution_count": null,
      "outputs": []
    },
    {
      "cell_type": "markdown",
      "source": [
        "In __main__, we set up a loop __[1]__ that runs every minute, because of the __self.timeout__ parameter, until the service receives the stop signal __[2]__. While it's running, we copy the script file to the target directory, execute the script, and remove the file __[3]__.\n",
        "\n",
        "In the main block, we handle any command line arguments:"
      ],
      "metadata": {
        "id": "rl_GcHmhKKQ1"
      }
    },
    {
      "cell_type": "code",
      "source": [
        "if __name__ == '__main__':\n",
        "    if len(sys.argv) == 1:\n",
        "        servicemanager.Initialize()\n",
        "        servicemanager.PrepareToHostSingle(BHServerSvc)\n",
        "        servicemanager.StartServiceCtrlDispatcher()\n",
        "    else:\n",
        "        win32serviceutil.HandleCommandLine(BHServerSvc)"
      ],
      "metadata": {
        "id": "sJxqCyo9Krgz"
      },
      "execution_count": null,
      "outputs": []
    },
    {
      "cell_type": "markdown",
      "source": [
        "You may sometimes want to create a real service on a victim machine. This skeleton framework gives you the outline for how to structure one. You can find the __bhservice_tasks.vbs__ script at https://nostarch.com/black-hat-python2E/. Place the file in a directory with __bhservice.py__ and change __SRCDIR__ to point to this directory. Your directory should look like this:\n",
        "\n",
        "```\n",
        "06/22/2020  09:02 AM    <DIR>           .\n",
        "06/22/2020  09:02 AM    <DIR>           ..\n",
        "06/22/2020  11:26 AM              2,099  bhservice.py\n",
        "06/22/2020  11:08 AM              2,501  bhservice_task.vbs\n",
        "```\n",
        "\n",
        "Now create the service executable with __pyinstaller__:\n",
        "\n",
        "```\n",
        "C:\\Users\\tim\\work> pyinstaller -F --hiddenimport win32timezone bhservice.py\n",
        "```\n",
        "\n",
        "This command saves the __bservice.exe__ file in the __dist__ subdirectory. Let's change into that directory to install the service and get it started. As Administrator, run these commands:\n",
        "\n",
        "```\n",
        "C:\\Users\\tim\\work\\dist> bhservice.exe install\n",
        "C:\\Users\\tim\\work\\dist> bhservice.exe start\n",
        "```\n",
        "\n",
        "Now, every minute, the service will write the script file into a temporary directory, execute the script, and delete the file. It will do this until you run the __stop__ command.\n",
        "\n",
        "```\n",
        "C:\\Users\\tim\\work\\dist> bhservice.exe stop\n",
        "```\n",
        "\n",
        "You can start or stop the service as many times as you like. Keep in mind that if you change the code in __bhservice.py__, you'll also have to create a new executable with __pyinstaller__ and have Windows reload the service with the __bhservice update__ command. When you've finished playing around with the service in this chapter, remove it with __bhservice remove__.\n",
        "\n",
        "You should be good to go. Now let's get on with the fun part!"
      ],
      "metadata": {
        "id": "dmNfFxJMLTgY"
      }
    }
  ]
}