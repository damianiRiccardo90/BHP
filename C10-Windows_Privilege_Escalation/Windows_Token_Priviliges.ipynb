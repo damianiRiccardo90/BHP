{
  "nbformat": 4,
  "nbformat_minor": 0,
  "metadata": {
    "colab": {
      "provenance": [],
      "authorship_tag": "ABX9TyNEjcwNey+qxqCMOpw9XYLr",
      "include_colab_link": true
    },
    "kernelspec": {
      "name": "python3",
      "display_name": "Python 3"
    },
    "language_info": {
      "name": "python"
    }
  },
  "cells": [
    {
      "cell_type": "markdown",
      "metadata": {
        "id": "view-in-github",
        "colab_type": "text"
      },
      "source": [
        "<a href=\"https://colab.research.google.com/github/damianiRiccardo90/BHP/blob/master/C10-Windows_Privilege_Escalation/Windows_Token_Priviliges.ipynb\" target=\"_parent\"><img src=\"https://colab.research.google.com/assets/colab-badge.svg\" alt=\"Open In Colab\"/></a>"
      ]
    },
    {
      "cell_type": "markdown",
      "source": [
        "### *__Windows Token Privileges__*\n",
        "\n",
        "A Windows __token__ is, per Microsoft, \"an object that describes the security context of a process or thread\" (see \"Access Tokens\" at https://msdn.microsoft). In other words, the token's permissions and privileges determine which tasks a process or thread can perform.\n",
        "\n",
        "Misunderstanding these tokens can land you in trouble. As part of a security product, a well-intentioned developer might create a system tray application on which they'd like to give an unprivileged user the ability to control the main Windows service, which is a driver. The developer uses the native Windows API function __AdjustTokenPrivileges__ on the process and then, innocently enough, grants the system tray application the __SeLoadDriver__ privilege. What the developer doesn't notice is that if you can climb inside that system tray application, you now have the ability to load or unload any driver you want, which means you can drop a kernel mode rootkit, and that means game over.\n",
        "\n",
        "Bear in mind that if you can't run your process monitor as SYSTEM or Administrator, then you need to keep an eye on what processes you __are__ able to monitor. Are there any additional privileges you can leverage? A process running as a user with the wrong privileges is a fantastic way to get to SYSTEM or run code in the kernel. __Table 10-1__ lists interesting privileges that the authors always look out for. It isn't exhaustive, but it serves as a good starting point. You can find a full list of privileges on the MSDN website.\n",
        "\n",
        "<div align=\"center\" width=\"100%\">\n",
        "<img src=\"https://github.com/damianiRiccardo90/BHP/blob/master/C10-Windows_Privilege_Escalation/Interesting_Privileges.png?raw=true\" alt=\"Interesting Privileges\" width=\"70%\">\n",
        "<p style=\"text-align:center\"><em>Table 10-1: Interesting Privileges</em></p>\n",
        "</div>\n",
        "\n",
        "Now that you know which privileges to look for, let's leverage Python to automatically retrieve the enabled privileges on the processes we're monitoring. We'll make use of the __win32security__, __win32api__, and __win32con__ modules. If you encounter a situation where you can't load these modules, try translating all of the following functions into native calls using the __ctypes__ library. This is possible, though it's a lot more work.\n",
        "\n",
        "Add the following code to __process_monitor.py__ directly above the existing __log_to_file__ function:"
      ],
      "metadata": {
        "id": "FE6QhQ4ir515"
      }
    },
    {
      "cell_type": "code",
      "source": [
        "def get_process_privileges(pid):\n",
        "    try:\n",
        "        hproc = win32api.OpenProcess( #[1]\n",
        "            win32con.PROCESS_QUERY_INFORMATION, False, pid\n",
        "        )\n",
        "        htok = win32security.OpenProcessToken(hproc, win32con.TOKEN_QUERY) #[2]\n",
        "        privs = win32security.GetTokenInformation( #[3]\n",
        "            htok, win32security.TokenPrivileges\n",
        "        )\n",
        "        privileges = ''\n",
        "        for priv_id, flags in privs:\n",
        "            if flag == (win32security.SE_PRIVILEGE_ENABLED | #[4]\n",
        "                        win32security.SE_PRIVILEGE_ENABLED_BY_DEFAULT):\n",
        "                privileges += f'{win32security.LookupPrivilegeName(None, priv_id)}|' #[5]\n",
        "    except Exception:\n",
        "        privileges = 'N/A'\n",
        "\n",
        "    return privileges"
      ],
      "metadata": {
        "id": "F-GObmGrzfC6"
      },
      "execution_count": null,
      "outputs": []
    },
    {
      "cell_type": "markdown",
      "source": [
        "We use the process ID to obtain a handle to the target process __[1]__. Next, we crack open the process token __[2]__ and request the token information for that process __[3]__ by sending the __win32security.TokenPrivileges__ structure. The function call returns a list of tuples, whre the first member of the tuple is the privilege and the second member describes whther the privilege is enabled or not. Because we're concenred with only the nabled ones, we first check for the enabled bits __[4]__ and then look up the human-readable name for that privilege __[5]__.\n",
        "\n",
        "Next, modify the existing code to properly output and log this inforrmation. Change the line of code\n",
        "\n",
        "```\n",
        "privileges = 'N/A'\n",
        "```\n",
        "\n",
        "to the following:\n",
        "\n",
        "```\n",
        "privileges = get_process_privileges(pid)\n",
        "```\n",
        "\n",
        "Now that we've added the privilege-tracking code, let's rerun the __process_monitor.py__ script and check the output. You should see privilege information:\n",
        "\n",
        "```\n",
        "C:\\Users\\tim\\work> python.exe process_monitor.py\n",
        "\"Calculator.exe\",\n",
        "2020062408445.120519-240 ,\n",
        "C:\\Program Files\\WindowsApps\\Microsoft.WindowsCalculator\\Calculator.exe,\n",
        "1204 ,\n",
        "13116 ,\n",
        "('DESKTOP-CC91N7I', 0, 'tim') ,\n",
        "SeChangeNotifyPrivilege|\n",
        "\n",
        "notepad ,\n",
        "20200624084436.727998-240 ,\n",
        "C:\\Windows\\system32\\notepad.exe,\n",
        "10720 ,\n",
        "2732 ,\n",
        "('DESKTOP-CC91N7I', 0, 'tim') ,\n",
        "SeChangeNotifyPrivilege|SeImpersonatePrivilege|SeCreateGlobalPrivilege|\n",
        "```\n",
        "\n",
        "You can see that we've managed to log the enabled privileges for these processes. Now we could easily put some intelligence into the script to log only processes that run as an unprivileged user but have interesting privileges enabled. This use of process monitoring will let us find processes that rely on external files insecurely."
      ],
      "metadata": {
        "id": "N7FC8DZu0wJJ"
      }
    }
  ]
}