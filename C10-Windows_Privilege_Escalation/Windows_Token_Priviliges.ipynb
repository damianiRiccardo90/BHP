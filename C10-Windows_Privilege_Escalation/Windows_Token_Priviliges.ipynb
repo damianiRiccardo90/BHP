{
  "nbformat": 4,
  "nbformat_minor": 0,
  "metadata": {
    "colab": {
      "provenance": [],
      "authorship_tag": "ABX9TyNYLqCzfHUrIZYDbEK1BPRh",
      "include_colab_link": true
    },
    "kernelspec": {
      "name": "python3",
      "display_name": "Python 3"
    },
    "language_info": {
      "name": "python"
    }
  },
  "cells": [
    {
      "cell_type": "markdown",
      "metadata": {
        "id": "view-in-github",
        "colab_type": "text"
      },
      "source": [
        "<a href=\"https://colab.research.google.com/github/damianiRiccardo90/BHP/blob/master/C10-Windows_Privilege_Escalation/Windows_Token_Priviliges.ipynb\" target=\"_parent\"><img src=\"https://colab.research.google.com/assets/colab-badge.svg\" alt=\"Open In Colab\"/></a>"
      ]
    },
    {
      "cell_type": "markdown",
      "source": [
        "### *__Windows Token Privileges__*\n",
        "\n",
        "A Windows __token__ is, per Microsoft, \"an object that describes the security context of a process or thread\" (see \"Access Tokens\" at https://msdn.microsoft). In other words, the token's permissions and privileges determine which tasks a process or thread can perform.\n",
        "\n",
        "Misunderstanding these tokens can land you in trouble. As part of a security product, a well-intentioned developer might create a system tray application on which they'd like to give an unprivileged user the ability to control the main Windows service, which is a driver. The developer uses the native Windows API function __AdjustTokenPrivileges__ on the process and then, innocently enough, grants the system tray application the __SeLoadDriver__ privilege. What the developer doesn't notice is that if you can climb inside that system tray application, you now have the ability to load or unload any driver you want, which means you can drop a kernel mode rootkit, and that means game over.\n",
        "\n",
        "Bear in mind that if you can't run your process monitor as SYSTEM or Administrator, then you need to keep an eye on what processes you __are__ able to monitor. Are there any additional privileges you can leverage? A process running as a user with the wrong privileges is a fantastic way to get to SYSTEM or run code in the kernel. __Table 10-1__ lists interesting privileges that the authors always look out for. It isn't exhaustive, but it serves as a good starting point. You can find a full list of privileges on the MSDN website.\n",
        "\n",
        "<div align=\"center\" width=\"100%\">\n",
        "<img src=\"https://github.com/damianiRiccardo90/BHP/blob/master/C10-Windows_Privilege_Escalation/Interesting_Privileges.png?raw=true\" alt=\"Interesting Privileges\" width=\"70%\">\n",
        "<p style=\"text-align:center\"><em>Table 10-1: Interesting Privileges</em></p>\n",
        "</div>\n",
        "\n",
        "Now that you know which privileges to look for, let's leverage Python to automatically retrieve the enabled privileges on the processes we're monitoring. We'll make use of the __win32security__, __win32api__, and __win32con__ modules."
      ],
      "metadata": {
        "id": "FE6QhQ4ir515"
      }
    }
  ]
}