{
  "nbformat": 4,
  "nbformat_minor": 0,
  "metadata": {
    "colab": {
      "provenance": [],
      "authorship_tag": "ABX9TyNx9XFCCMQj0DABozKUkor2",
      "include_colab_link": true
    },
    "kernelspec": {
      "name": "python3",
      "display_name": "Python 3"
    },
    "language_info": {
      "name": "python"
    }
  },
  "cells": [
    {
      "cell_type": "markdown",
      "metadata": {
        "id": "view-in-github",
        "colab_type": "text"
      },
      "source": [
        "<a href=\"https://colab.research.google.com/github/damianiRiccardo90/BHP/blob/master/C7-Github_Command_And_Control/Configuring_The_Trojan.ipynb\" target=\"_parent\"><img src=\"https://colab.research.google.com/assets/colab-badge.svg\" alt=\"Open In Colab\"/></a>"
      ]
    },
    {
      "cell_type": "markdown",
      "source": [
        "### *__Configuring the Trojan__*\n",
        "\n",
        "We'll want to task our trojan with performing certain actions. This means we need a way to tell it what actions to perform and what modules are responsible for performing them. Using a configuration file gives us that level of control. It also enables us to effectively put a trojan to sleep (by not giving it any tasks) should we choose to. For this system to work, each trojan you deploy should have a unique ID. That way, you'll be able to sort any retrieved data based on these IDs and control which trojans performs certain tasks.\n",
        "\n",
        "We'll configure the trojan to look in the __config__ directory for __TROJANID.json__, which will return a simple __JSON__ document that we can parse out, convert to a Python dictionary, and then use to inform our trojan of which tasks to perform. The __JSON__ format makes it easy to change configuration options as well. Move into your __config__ directory and create a file called __abc.json__ with the following content:\n",
        "```\n",
        "[\n",
        "    {\n",
        "        \"module\" : \"dirlister\"\n",
        "    },\n",
        "    {\n",
        "        \"module\" : \"environment\"\n",
        "    }\n",
        "]\n",
        "```\n",
        "This is just a simple list of modules that the remote trojan should run. Later, you'll see how we read this __JSON__ document and then iterate over each option to load those modules.\n",
        "\n",
        "As you brainstorm module ideas, you may find that it's useful to include additional configuration options, such as an execution duration, the number of times to run the module, or arguments to be passed to the module. You could also add multiple methods of exfiltrating data, as we show you in Chapter 9.\n",
        "\n",
        "Drop into a command line and issue the following commands from your main repo directory:\n",
        "```\n",
        "$ git add .\n",
        "$ git commit -m \"Adds simple configuration.\"\n",
        "$ git push origin master\n",
        "Username: ********\n",
        "Password: ********\n",
        "```\n",
        "Now that you have your configuration files and some simple modules to run, let's start building the main trojan."
      ],
      "metadata": {
        "id": "Hu6aJsXhTAyr"
      }
    }
  ]
}