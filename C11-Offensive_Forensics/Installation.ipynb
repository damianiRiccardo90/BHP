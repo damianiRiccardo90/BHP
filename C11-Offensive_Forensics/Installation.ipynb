{
  "nbformat": 4,
  "nbformat_minor": 0,
  "metadata": {
    "colab": {
      "provenance": [],
      "authorship_tag": "ABX9TyN+N5DrLmM3iqHuV9xqblPC",
      "include_colab_link": true
    },
    "kernelspec": {
      "name": "python3",
      "display_name": "Python 3"
    },
    "language_info": {
      "name": "python"
    }
  },
  "cells": [
    {
      "cell_type": "markdown",
      "metadata": {
        "id": "view-in-github",
        "colab_type": "text"
      },
      "source": [
        "<a href=\"https://colab.research.google.com/github/damianiRiccardo90/BHP/blob/master/C11-Offensive_Forensics/Installation.ipynb\" target=\"_parent\"><img src=\"https://colab.research.google.com/assets/colab-badge.svg\" alt=\"Open In Colab\"/></a>"
      ]
    },
    {
      "cell_type": "markdown",
      "source": [
        "# *__Offensive Forensics__*\n",
        "\n",
        "Forensics folks are often the people called in after a breach, or to determine if an \"incident\" has taken place at all. They typically want a snapshot of the affected machine's RAM in order to capture cryptographic keys or other information that resides only in memory. Lucky for them, a team of talented developers has created an entire Python framework called __Volatility__ that's suitable for this task and is billed as an advanced memory forensics framework. Incident responders, forensic examiners, and malware analysts can use Volatility for a variety of other tasks as well, including inspecting kernel objects, examining and dumping processes, and so on.\n",
        "\n",
        "Although Volatility is software for the defensive side, any sufficiently powerful tool can be used for offense or defense. We will use Volatility to perform reconnaissance on a target user and write our own offensive plug-ins to search for weakly defended processes running on a virtual machine (__VM__). Suppose you infiltrate a machine and discover that the user employs a VM for sensitive work. Chances are good that the user has also made a snapshot of the VM as a safety net in case anything goes wrong with it. We will use the Volatility memory analysis framework to analyze the snapshot to find out how the VM is used and what processes were running. We'll also investigate possible vulnerabilities we can leverage for further exploitation. Let's get started!"
      ],
      "metadata": {
        "id": "qju4tL8YY8_q"
      }
    },
    {
      "cell_type": "markdown",
      "source": [
        "### *__Installation__*\n",
        "\n",
        "Volatility has been around for several years and has just undergone a complete rewrite. Not only is the code base now founded on Python 3, but the entire framework has been refactored so that the component are independent; all state required to run a plug-in is self-contained.\n",
        "\n",
        "Let's create a virtual environment just for our work with Volatility. For this example, we are using Python 3 on a Widows machine in a PowerShell terminal. If you are also working from a Windows machine, make sure you have __git__ installed. You can download it at https://git-scm.com/downloads/."
      ],
      "metadata": {
        "id": "ZpkbE9TaZAv4"
      }
    }
  ]
}