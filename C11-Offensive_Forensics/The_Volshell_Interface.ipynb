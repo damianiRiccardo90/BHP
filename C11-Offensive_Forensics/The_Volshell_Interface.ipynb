{
  "nbformat": 4,
  "nbformat_minor": 0,
  "metadata": {
    "colab": {
      "provenance": [],
      "authorship_tag": "ABX9TyMJw88A6dA9O3/+ux5GxRs6",
      "include_colab_link": true
    },
    "kernelspec": {
      "name": "python3",
      "display_name": "Python 3"
    },
    "language_info": {
      "name": "python"
    }
  },
  "cells": [
    {
      "cell_type": "markdown",
      "metadata": {
        "id": "view-in-github",
        "colab_type": "text"
      },
      "source": [
        "<a href=\"https://colab.research.google.com/github/damianiRiccardo90/BHP/blob/master/C11-Offensive_Forensics/The_Volshell_Interface.ipynb\" target=\"_parent\"><img src=\"https://colab.research.google.com/assets/colab-badge.svg\" alt=\"Open In Colab\"/></a>"
      ]
    },
    {
      "cell_type": "markdown",
      "source": [
        "# *__The volshell Interface__*\n",
        "\n",
        "In addition to the command line interface, you can use Volatility in a custom Python shell with the __volshell__ command. This givbes you all the power of Volatility as well as a full Python shell. Here is an example of using the __pslist__ plug-in on a Windows image using __volshell__:\n",
        "\n",
        "```\n",
        "PS> volshell -w -f WinDev2007Eval-7d959ee5.vmem #[1]\n",
        ">>> from volatility.plugins.windows import pslist #[2]\n",
        ">>> dpo(pslist.PsList, primary=self.current_layer, nt_symbols=self.config['nt_symbols']) #[3]\n",
        "PID PPID ImageFileName Offset(V) Threads Handles SessionId Wow64\n",
        "4 0 System 0xa50bb3e6d040 129 - N/A False\n",
        "72 4 Registry 0xa50bb3fbd080 4 - N/A False\n",
        "6452 4732 OneDrive.exe 0xa50bb4d62080 25 - 1 True\n",
        "6484 4732 FreeDesktopClo 0xa50bbb847300 1 - 1 False\n",
        "```\n",
        "\n",
        "In this brief example, we used the __-w__ switch to tell Volatility that we're analyzing a Windows image and the __-f__ switch to specify the image itself __[1]__. Once we're in the __volshell__ interface, we use it just like a normal Python shell. That is, you can import packages or write functions as you normally would, but now you also have Volatility embedded in the shell. We import the __pslist__ plug-in __[2]__ and display output (the __dpo__ function) from the plug-in __[3]__.\n",
        "\n",
        "You can find more information on using __volshell__ by entering __volshell --help__."
      ],
      "metadata": {
        "id": "nLGycpokcGkQ"
      }
    }
  ]
}