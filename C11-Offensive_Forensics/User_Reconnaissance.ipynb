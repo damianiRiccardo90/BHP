{
  "nbformat": 4,
  "nbformat_minor": 0,
  "metadata": {
    "colab": {
      "provenance": [],
      "authorship_tag": "ABX9TyM9qvNbnXG7d2EM9Rr+MEAb",
      "include_colab_link": true
    },
    "kernelspec": {
      "name": "python3",
      "display_name": "Python 3"
    },
    "language_info": {
      "name": "python"
    }
  },
  "cells": [
    {
      "cell_type": "markdown",
      "metadata": {
        "id": "view-in-github",
        "colab_type": "text"
      },
      "source": [
        "<a href=\"https://colab.research.google.com/github/damianiRiccardo90/BHP/blob/master/C11-Offensive_Forensics/User_Reconnaissance.ipynb\" target=\"_parent\"><img src=\"https://colab.research.google.com/assets/colab-badge.svg\" alt=\"Open In Colab\"/></a>"
      ]
    },
    {
      "cell_type": "markdown",
      "source": [
        "# *__User Reconnaissance__*\n",
        "\n",
        "Now let's do some recon on the user of the VM. The __cmdline__ plug-in lists the command line arguments for each process as they were running at the time the snapshot was made. These processes give us a hint to the user's behavior and intent.\n",
        "\n",
        "```\n",
        "PS>vol -f WinDev2007Eval-7d959ee5.vmem windows.cmdline\n",
        "Volatility 3 Framework 1.2.0-beta.1\n",
        "Progress: 33.01 Scanning primary2 using PdbSignatureScanner\n",
        "PID Process Args\n",
        "72 Registry Required memory at 0x20 is not valid (process exited?)\n",
        "340 smss.exe Required memory at 0xa5f1873020 is inaccessible (swapped)\n",
        "564 lsass.exe C:\\Windows\\system32\\lsass.exe\n",
        "624 winlogon.exe winlogon.exe\n",
        "2160 MsMpEng.exe \"C:\\ProgramData\\Microsoft\\Windows Defender\\platform\\4.18.2008.9-0\\\n",
        "MsMpEng.exe\"\n",
        "4732 explorer.exe C:\\Windows\\Explorer.EXE\n",
        "4848 svchost.exe C:\\Windows\\system32\\svchost.exe -k ClipboardSvcGroup -p\n",
        "4920 dllhost.exe C:\\Windows\\system32\\DllHost.exe /Processid:{AB8902B4-09CA-4BB6-B78DA8F59079A8D5}\n",
        "5084 StartMenuExper \"C:\\Windows\\SystemApps\\Microsoft.Windows. . .\"\n",
        "5388 MicrosoftEdge. \"C:\\Windows\\SystemApps\\Microsoft.MicrosoftEdge_. . .\"\n",
        "6452 OneDrive.exe \"C:\\Users\\Administrator\\AppData\\Local\\Microsoft\\OneDrive\\OneDrive.exe\"\n",
        "/background\n",
        "6484 FreeDesktopClo \"C:\\Program Files\\Free Desktop Clock\\FreeDesktopClock.exe\"\n",
        "7092 cmd.exe \"C:\\Windows\\system32\\cmd.exe\" #[1]\n",
        "3312 notepad.exe notepad #[2]\n",
        "3824 powershell.exe \"C:\\Windows\\System32\\WindowsPowerShell\\v1.0\\powershell.exe\"\n",
        "6448 Calculator.exe \"C:\\Program Files\\WindowsApps\\Microsoft.WindowsCalculator_. . .\"\n",
        "6684 firefox.exe \"C:\\Program Files (x86)\\Mozilla Firefox\\firefox.exe\"\n",
        "6432 PowerToys.exe \"C:\\Program Files\\PowerToys\\PowerToys.exe\"\n",
        "7124 nc64.exe Required memory at 0x2d7020 is inaccessible (swapped)\n",
        "3324 smartscreen.ex C:\\Windows\\System32\\smartscreen.exe -Embedding\n",
        "4768 ipconfig.exe Required memory at 0x840308e020 is not valid (process exited?)\n",
        "```\n",
        "\n",
        "The list shows the process ID, process name, and command line with arguments that started the process. You can see that most processes were started by the system itself, most likely at boot time. The __cmd.exe__ __[1]__ and __notepad.exe__ __[2]__ processes are typical processes a user would start.\n",
        "\n",
        "Let's investigate the running processes a little bit deeper with the __pslist__ plug-in, which lists the proceses that were running at the time of the snapshot."
      ],
      "metadata": {
        "id": "5N-iWqDoZWWz"
      }
    }
  ]
}