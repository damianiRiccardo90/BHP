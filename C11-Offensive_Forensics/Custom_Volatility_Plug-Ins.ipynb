{
  "nbformat": 4,
  "nbformat_minor": 0,
  "metadata": {
    "colab": {
      "provenance": [],
      "authorship_tag": "ABX9TyMhiZCMb4VG3YJtT8bP6yIf",
      "include_colab_link": true
    },
    "kernelspec": {
      "name": "python3",
      "display_name": "Python 3"
    },
    "language_info": {
      "name": "python"
    }
  },
  "cells": [
    {
      "cell_type": "markdown",
      "metadata": {
        "id": "view-in-github",
        "colab_type": "text"
      },
      "source": [
        "<a href=\"https://colab.research.google.com/github/damianiRiccardo90/BHP/blob/master/C11-Offensive_Forensics/Custom_Volatility_Plug-Ins.ipynb\" target=\"_parent\"><img src=\"https://colab.research.google.com/assets/colab-badge.svg\" alt=\"Open In Colab\"/></a>"
      ]
    },
    {
      "cell_type": "markdown",
      "source": [
        "# *__Custom Volatility Plug-Ins__*\n",
        "\n",
        "We've just seen how we can use the Volatility plug-ins to analyze a VM snapshot for existing vulnerabilities, profile the user by checking the commands and processes in use, and dump the password hashes. But since you can write your own custom plug-ins, only your imagination limits what you can do with Volatility. If you need additional information based on clues found from the standard plug-ins, you can make a plug-in of your own.\n",
        "\n",
        "The Volatility team has made it easy to create a plug-in, as long as you follow their pattern. You can even have your new plug-in call other plug-ins to make your job even easier.\n",
        "\n",
        "Let's take a look at the skeleton of a typical plug-in:"
      ],
      "metadata": {
        "id": "RDrYc31lcz3Q"
      }
    },
    {
      "cell_type": "code",
      "source": [
        "#imports ...\n",
        "\n",
        "class CmdLine(interfaces.plugin.PluginInterface): #[1]\n",
        "    @classmethod\n",
        "    def get_requirements(cls): #[2]\n",
        "        pass\n",
        "\n",
        "    def run(self): #[3]\n",
        "        pass\n",
        "\n",
        "    def generator(self, procs): #[4]\n",
        "        pass"
      ],
      "metadata": {
        "id": "g849BPXzRah1"
      },
      "execution_count": null,
      "outputs": []
    },
    {
      "cell_type": "markdown",
      "source": [
        "The main steps here are to create your new class to inherit from the __PluginInterface__ __[1]__, define your plug-in's requirements __[2]__, define the __run__ method __[3]__, and define the __generator__ method __[4]__. The __generator__ method is optional, but separating it from the __run__ method is a useful pattern you'll see in many plug-ins. By separating it and using it as a Python generator, you can get faster results and make your code easier to understand.\n",
        "\n",
        "Let's follow this general pattern to create a custom plug-in that will check for processes that are not protected by Address Space Layout Randomization (__ASLR__). ASLR mixes up the address space of a vulnerable process, which affects the virtual memory location of heaps, stacks, and other operating system allocations. That means that exploit writers cannot determine how the address space of the victim process is laid out at the time of attack. Windows Vista was the first Windows release with ASLR support. In older memory images like Windows XP, you won't see ASLR protection enabled by default. Now, with recent machines (Windows 10), almost all processes are protected.\n",
        "\n",
        "ASLR doesn't mean the attacker is out of business, but it makes the job much more complicated. As a first step in reconnoitering the processes, we'll create a plug-in to check if a process is protected by ASLR.\n",
        "\n",
        "Let's get started. Create a directory called __plugins__. Under that directory, create a __windows__ directory to contain your custom plug-ins for Windows machines. If you create plug-ins to target a Mac or Linux machine, create a directory named __mac__ or __linux__, respectively.\n",
        "\n",
        "Now, in the __plugins/windows__ directory, let's write our ASLR-checking plug-in, __aslrcheck.py__:"
      ],
      "metadata": {
        "id": "Pg9TS-sDRsHQ"
      }
    },
    {
      "cell_type": "code",
      "source": [
        "# Search all processes and check for ASLR protection\n",
        "\n",
        "from typing import Callable, List\n",
        "\n",
        "from volatility.framework import constants, exceptions, interfaces, renderers\n",
        "from volatility.framework.configuration import requirements\n",
        "from volatility.framework.renderers import format_hints\n",
        "from volatility.framework.symbols import intermed\n",
        "from volatility.framework.symbols.windows import extensions\n",
        "from volatility.framework.windows import pslist\n",
        "\n",
        "import io\n",
        "import logging\n",
        "import os\n",
        "import pefile\n",
        "\n",
        "vollog = logging.getLogger(__name__)\n",
        "\n",
        "IMAGE_DLL_CHARACTERISTICS_DYNAMIC_BASE = 0x0040\n",
        "IMAGE_FILE_RELOCS_STRIPPED = 0x0001"
      ],
      "metadata": {
        "id": "bNwHXag5T7vr"
      },
      "execution_count": null,
      "outputs": []
    },
    {
      "cell_type": "markdown",
      "source": [
        "We first handle the imports we'll need, plus the __pefile__ library for analyzing Portable Executable (__PE__) files. Now let's write a helper function to do that analysis:"
      ],
      "metadata": {
        "id": "s85l_IELUhfy"
      }
    },
    {
      "cell_type": "code",
      "source": [
        "def check_aslr(pe): #[1]\n",
        "    pe.parse_data_directories([\n",
        "        pefile.DIRECTORY_ENTRY['IMAGE_DIRECTORY_ENTRY_LOAD_CONFIG']\n",
        "    ])\n",
        "    dynamic = False\n",
        "    stripped = False\n",
        "\n",
        "    if (pe.OPTIONAL_HEADER.DllCharacteristics & #[2]\n",
        "        IMAGE_DLL_CHARACTERISTICS_DYNAMIC_BASE):\n",
        "        dynamic = True\n",
        "    if pe.FILE_HEADER.Characteristics & IMAGE_FILE_RELOCS_STRIPPED: #[3]\n",
        "        stripped = True\n",
        "    if not dynamic or (dynamic and stripped): #[4]\n",
        "        aslr = False\n",
        "    else:\n",
        "        aslr = True\n",
        "    return aslr"
      ],
      "metadata": {
        "id": "yTUWu7GGUzp3"
      },
      "execution_count": null,
      "outputs": []
    },
    {
      "cell_type": "markdown",
      "source": [
        "We pass a PE file object to the __checkaslr__ function __[1]__, parse it, and then check for whether it has been compiled with the DYNAMIC base setting __[2]__ and whether the file relocation data has been stripped out __[3]__. If it's not dynamic, or was perhaps compiled as dynamic but stripped of its relocation data, then the PE file is not protected by ASLR __[4]__.\n",
        "\n",
        "With the __check_aslr__ helper function ready to go, let's create our __AslrCheck__ class:"
      ],
      "metadata": {
        "id": "Gxxu3EnVVomp"
      }
    },
    {
      "cell_type": "code",
      "source": [
        "class AslrCheck(interfaces.plugins.PluginInterface): #[1]\n",
        "\n",
        "    @classmethod\n",
        "    def get_requirements(cls):\n",
        "        return [\n",
        "            requirements.TranslationLayerRequirement( #[2]\n",
        "                name='primary', description='Memory layer for the kernel',\n",
        "                architectures=['Intel32', 'Intel64'],\n",
        "            ),\n",
        "            requirements.SymbolTableREequirement( #[3]\n",
        "                name='nt_symbols', description='Windows kernel symbols'\n",
        "            )\n",
        "            requirements.PluginRequirement( #[4]\n",
        "                name='pslist', plugin=pslist.PsList, version=(1, 0, 0)\n",
        "            )\n",
        "            requirements.ListRequirement( #[5]\n",
        "                name='pid', element_type=int,\n",
        "                description='Process ID to include (all others are excluded)',\n",
        "                optional=True\n",
        "            )\n",
        "        ]"
      ],
      "metadata": {
        "id": "y0vfcoykWRQp"
      },
      "execution_count": null,
      "outputs": []
    },
    {
      "cell_type": "markdown",
      "source": [
        "Step one of creating the plug-in is to inherit from the __PluginInterface__ object __[1]__. Next, define the requirements. You can get a good idea of what you need by reviewing other plug-ins. Every plug-in needs the memory layer, and we define that requirement first __[2]__. Along with the memory layer, we also need the symbols tables __[3]__ .You'll find these two requirements used by almost all plug-ins.\n",
        "\n",
        "We'll also need the __pslist__ plug-in as a requirement in order to get all the processes from memory and re-create the PE file from the process __[4]__. Then we'll pass the re-created PE file from each process and examine it for ASLR protection.\n",
        "\n",
        "We may want to check a single process given a process ID, so we create another optional setting that lets us pass in a list of process IDs to limit checking to just those processes __[5]__."
      ],
      "metadata": {
        "id": "m2KoTVmGXS38"
      }
    },
    {
      "cell_type": "code",
      "source": [
        "    @classmethod\n",
        "    def create_pid_filter(cls, pid_list: List[int] = None) -> Callable[[interfaces.objects.ObjectInterface], bool]:\n",
        "        filter_func = lambda _: False\n",
        "        pid_list = pid_list or []\n",
        "        filter_list = [x for x in pid_list if x is not None]\n",
        "        if filter_list:\n",
        "            filter_func = lambda x: x.UniqueProcessId not in filter_list\n",
        "        return filter_func"
      ],
      "metadata": {
        "id": "5jEz1n5_YyZF"
      },
      "execution_count": null,
      "outputs": []
    },
    {
      "cell_type": "markdown",
      "source": [
        "To handle the optional process ID, we use a class method to create a filter function that returns __False__ for every process ID in the list; that is, the question we're asking the filter function is whether to filter out a process, so we return __True__ only if the PID is not in the list:"
      ],
      "metadata": {
        "id": "XfmCUM2gZkXc"
      }
    },
    {
      "cell_type": "code",
      "source": [
        "    def _generator(self, procs):\n",
        "        pe_table_name = intermed.IntermediateSymbolTable.create( #[1]\n",
        "            self.context,\n",
        "            self.config_path,\n",
        "            'windows',\n",
        "            'pe',\n",
        "            class_types=extensions.pe.class_types\n",
        "        )\n",
        "\n",
        "        procnames = list()\n",
        "        for proc in procs:\n",
        "            procname = proc.ImageFileName.cast('string',\n",
        "                max_length=proc.ImageFileName.vol.count, errors='replace')\n",
        "            if procname in procnames:\n",
        "                continue\n",
        "            procname.append(procname)\n",
        "\n",
        "            proc_id = 'Unknown'\n",
        "            try:\n",
        "                proc_id = proc.UniqueProcessId\n",
        "                proc_layer_name = proc.add_process_layer()\n",
        "            except exceptions.InvalidAddressException as e:\n",
        "                vollog.error(f'Process {proc_id}: invalid address {e} in layer '\n",
        "                    '[e.layer_name]')\n",
        "                continue\n",
        "\n",
        "            peb = self.context.object( #[2]\n",
        "                self.config['nt_symbols'] + constants.BANG + '_PEB',\n",
        "                layer_name=proc_layer_name,\n",
        "                offset=proc.Peb\n",
        "            )\n",
        "\n",
        "            try:\n",
        "                dos_header = self.context.object(\n",
        "                    pe_table_name + constants.BANG + '_IMAGE_DOS_HEADER',\n",
        "                    offset=peb.ImageBaseAddress,\n",
        "                    layer_name=proc_layer_name\n",
        "                )\n",
        "            except Exception as e:\n",
        "                continue\n",
        "\n",
        "            pe_data = io.BytesIO()\n",
        "            for offset, data in dos_header.reconstruct():\n",
        "                pe_data.seek(offset)\n",
        "                pe_data.write(data)\n",
        "            pe_data_raw = pe_data.getvalue() #[3]\n",
        "            pe_data.close()\n",
        "\n",
        "            try:\n",
        "                pe = pefile:PE(data=pe_data_raw) #[4]\n",
        "            except Exception as e:\n",
        "                continue\n",
        "\n",
        "            aslr = check_aslr(pe) #[5]\n",
        "\n",
        "            yield (o, (proc_id, #[6]\n",
        "                       procname,\n",
        "                       format_hints.Hex(pe.OPTIONAL_HEADER.ImageBase),\n",
        "                       aslr,\n",
        "                       ))"
      ],
      "metadata": {
        "id": "wK2FcNlpaF2P"
      },
      "execution_count": null,
      "outputs": []
    },
    {
      "cell_type": "markdown",
      "source": [
        "We create a special data structure called __pe_table_name__ __[1]__ to use as we loop over each process in memory. Then we get the Process Environment Block (__PEB__) memory region associated with each process and put it into an object __[2]__. The __PEB__ is a data structure for the currnt process that contains a wealth of information on the process. We write that region into a file-like object (__pe_data__) __[3]__, create a PE object using the __pefile__ library __[4]__, and pass it to our __check_aslr__ helper method __[5]__. Finally, we yield the tuple of information containing the process ID, process name, memory address of the process, and a Boolean result from the ASLR protection check __[6]__. Now we create the __run__ method, which needs no arguments since all settings are populated in the config object:"
      ],
      "metadata": {
        "id": "QnuuOiPeceAP"
      }
    },
    {
      "cell_type": "code",
      "source": [
        "    def run(self):\n",
        "        procs = pslist.PsList.list_processes(self.context, self.config['primary']), #[1]\n",
        "            self.config['nt_symbols'], filter_func =\n",
        "            self.create_pid_filter(self.config.get('pid', None))\n",
        "\n",
        "        return renderers.TreeGrid([ #[2]\n",
        "            ('PID', int),\n",
        "            ('Filename', str),\n",
        "            ('Base', format_hints.Hex),\n",
        "            ('ASLR', bool),],\n",
        "            self.generator(procs))"
      ],
      "metadata": {
        "id": "0gXKuewadYbo"
      },
      "execution_count": null,
      "outputs": []
    },
    {
      "cell_type": "markdown",
      "source": [
        "We get the list of processes using the __pslist__ plug-in __[1]__ and return the data from the generator using the __TreeGrid__ renderer __[2]__. The __TreeGrid__ renderer is used by many plug-ins. It ensures that we get one line of results for each process analyzed."
      ],
      "metadata": {
        "id": "o3fi-gPPeJch"
      }
    },
    {
      "cell_type": "markdown",
      "source": [
        "# *__Kicking the Tires__*\n",
        "\n",
        "Let's take a look at one of the images made available at the Volatility site: Malware - Cridex. For your custom plug-in, provide the __-p__ switch with the path to your __plugins__ folder:\n",
        "\n",
        "```\n",
        "PS> vol -p .\\plugins\\windows -f cridex.vmem aslrcheck.AslrCheck\n",
        "Volatility 3 Framework 1.2.0-beta.1\n",
        "Progress: 0.00 Scanning primary2 using PdbSignatureScanner\n",
        "PID Filename Base ASLR\n",
        "368 smss.exe 0x48580000 False\n",
        "584 csrss.exe 0x4a680000 False\n",
        "608 winlogon.exe 0x1000000 False\n",
        "652 services.exe 0x1000000 False\n",
        "664 lsass.exe 0x1000000 False\n",
        "824 svchost.exe 0x1000000 False\n",
        "1484 explorer.exe 0x1000000 False\n",
        "1512 spoolsv.exe 0x1000000 False\n",
        "1640 reader_sl.exe 0x400000 False\n",
        "788 alg.exe 0x1000000 False\n",
        "1136 wuauclt.exe 0x400000 False\n",
        "```\n",
        "\n",
        "As you can see, this is a Windows XP machine, and there are no ASLR protections on any process.\n",
        "\n",
        "Next is the result for a clean, up-to-date Windows 10 machine:\n",
        "\n",
        "```\n",
        "PS> vol -p .\\plugins\\windows -f WinDev2007Eval-Snapshot4.vmem aslrcheck.AslrCheck\n",
        "Volatility 3 Framework 1.2.0-beta.1\n",
        "Progress: 33.01 Scanning primary2 using PdbSignatureScanner\n",
        "PID Filename Base ASLR\n",
        "Offensive Forensics 183\n",
        "316 smss.exe 0x7ff668020000 True\n",
        "428 csrss.exe 0x7ff796c00000 True\n",
        "500 wininit.exe 0x7ff7d9bc0000 True\n",
        "568 winlogon.exe 0x7ff6d7e50000 True\n",
        "592 services.exe 0x7ff76d450000 True\n",
        "600 lsass.exe 0x7ff6f8320000 True\n",
        "696 fontdrvhost.ex 0x7ff65ce30000 True\n",
        "728 svchost.exe 0x7ff78eed0000 True\n",
        "\n",
        "Volatility was unable to read a requested page:\n",
        "Page error 0x7ff65f4d0000 in layer primary2_Process928 (Page Fault at entry 0xd40c9d88c8a00400\n",
        "in page entry)\n",
        "\n",
        "* Memory smear during acquisition (try re-acquiring if possible)\n",
        "* An intentionally invalid page lookup (operating system protection)\n",
        "* A bug in the plugin/volatility (re-run with -vvv and file a bug)\n",
        "\n",
        "No further results will be produced\n",
        "```\n",
        "\n",
        "Not too much to see here. Every listed process is protected by ASLR. However, we also see a memory smear. A __memory smear__ occurs when the contents of the memory changes as the memory image is taken. That results in the memory table descriptions not matching the memory itself; alternatively, the virtual memory pointers may reference invalid data. Hacking is hard. As the error description says, you can try reacquiring the image (finding or creating a new snapshot).\n",
        "\n",
        "Let's check the PassMark Windows 10 sample memory image:\n",
        "\n",
        "```\n",
        "PS> vol -p .\\plugins\\windows -f WinDump.mem aslrcheck.AslrCheck\n",
        "Volatility 3 Framework 1.2.0-beta.1\n",
        "Progress: 0.00 Scanning primary2 using PdbSignatureScanner\n",
        "PID Filename Base ASLR\n",
        "356 smss.exe 0x7ff6abfc0000 True\n",
        "2688 MsMpEng.exe 0x7ff799490000 True\n",
        "2800 SecurityHealth 0x7ff6ef1e0000 True\n",
        "5932 GoogleCrashHan 0xed0000 True\n",
        "5380 SearchIndexer. 0x7ff6756e0000 True\n",
        "3376 winlogon.exe 0x7ff65ec50000 True\n",
        "6976 dwm.exe 0x7ff6ddc80000 True\n",
        "9336 atieclxx.exe 0x7ff7bbc30000 True\n",
        "9932 remsh.exe 0x7ff736d40000 True\n",
        "2192 SynTPEnh.exe 0x140000000 False\n",
        "7688 explorer.exe 0x7ff7e7050000 True\n",
        "7736 SynTPHelper.ex 0x7ff7782e0000 True\n",
        "```\n",
        "\n",
        "Nearly all processes are protected. Only the single process __SynTPEnh.exe__ isn't ASLR protected. An online search shows that this is a software component of Synaptics Pointing Device, probably for touch screens. As long as that process is installed in _C:\\Program Files_, it's probably okay, but it may be worth fuzzing later on.\n",
        "\n",
        "In this chapter, you saw that you can leverage the power of the Volatility framework to find more information about a user's behavior and connections as well as to analyze data on any process running memory. You can use that information to better understand the target user and machine as well as to understand the mindset of a defender."
      ],
      "metadata": {
        "id": "6_njN5BMeZ5w"
      }
    },
    {
      "cell_type": "markdown",
      "source": [
        "# *__Onward!__*\n",
        "\n",
        "You should have noticed by now that Python is a great language for hacking, especially when you consider the many libraries and Python-based frameworks you have available. While hackers have a plethora of tools, there's really no substitute for coding your own tools, because this gives you a deeper understanding of what those other tools are doing.\n",
        "\n",
        "Go ahead and quickly code up a custom tool for your special requirements. Whether it's an SSH client for Windws, a web scaper, or a command-and-control system, Python has you covered."
      ],
      "metadata": {
        "id": "-PMxUsvKgZnM"
      }
    }
  ]
}