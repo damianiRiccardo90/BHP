{
  "nbformat": 4,
  "nbformat_minor": 0,
  "metadata": {
    "colab": {
      "provenance": [],
      "authorship_tag": "ABX9TyMu2z7/qVQV67vflKQkZ+2d",
      "include_colab_link": true
    },
    "kernelspec": {
      "name": "python3",
      "display_name": "Python 3"
    },
    "language_info": {
      "name": "python"
    }
  },
  "cells": [
    {
      "cell_type": "markdown",
      "metadata": {
        "id": "view-in-github",
        "colab_type": "text"
      },
      "source": [
        "<a href=\"https://colab.research.google.com/github/damianiRiccardo90/BHP/blob/master/C11-Offensive_Forensics/General_Reconnaissance.ipynb\" target=\"_parent\"><img src=\"https://colab.research.google.com/assets/colab-badge.svg\" alt=\"Open In Colab\"/></a>"
      ]
    },
    {
      "cell_type": "markdown",
      "source": [
        "# *__General Reconnaissance__*\n",
        "\n",
        "Let's get an overview of the machine we're analyzing. The __windows.info__ plug-in shows the operating system and kernel information of the memory sample:\n",
        "\n",
        "```\n",
        "PS> vol -f WinDev2007Eval-Snapshot4.vmem windows.info #[1]\n",
        "Volatility 3 Framework 1.2.0-beta.1\n",
        "Progress:   33.01               Scanning primary2 using PdbSignatureScanner\n",
        "Variable        Value\n",
        "\n",
        "Kernel Base     0xf80067a18000\n",
        "DTB             0x1aa00\n",
        "primary 0       WindowsIntel32e\n",
        "KdVersionBlock  0xf800686272f0\n",
        "Major/Minor     15.19041\n",
        "MachineType     34404\n",
        "KeNumberProcessors      1\n",
        "SystemTime      2020-09-04 00:53:46\n",
        "NtProductType   NtProductWinNt\n",
        "NtMajorVersion  10\n",
        "PE MajorOperatingSystemVersion  10\n",
        "PE Machine      34404\n",
        "```\n",
        "\n",
        "We specify the snapshot filename with the __-f__ switch and the Windows plug-in to use, __windows.info__ __[1]__. Volatility reads and analyzes the memory file and outputs general information about this Windows machine. We can see that we're dealing with a Windows 10.0 VM and that it has a single processor and a single memory layer.\n",
        "\n",
        "You might find it educational to try several plug-ins on the memory image file while reviewing the plug-in code. Spending time reading code and seeing the corresponding out will show you how the code is supposed to work as well as the general mindset of the defenders.\n",
        "\n",
        "Next, with the __registry.printkey__ plug-in, we can print the values of a key in the registry. There is a wealth of information in the registry, and Volatility provides a way to find any value we wish. Here, we look for installed services. The key __/ControlSet001/Services__ shows the Service Control Manager database, which lists all the installed services:\n",
        "\n",
        "```\n",
        "PS>vol -f WinDev2007Eval-7d959ee5.vmem windows.registry.printkey --key 'ControlSet001\\Services'\n",
        "Volatility 3 Framework 1.2.0-beta.1\n",
        "Progress: 33.01 Scanning primary2 using PdbSignatureScanner\n",
        "... Key Name Data Volatile\n",
        "\\REGISTRY\\MACHINE\\SYSTEM\\ControlSet001\\Services .NET CLR Data False\n",
        "\\REGISTRY\\MACHINE\\SYSTEM\\ControlSet001\\Services Appinfo False\n",
        "\\REGISTRY\\MACHINE\\SYSTEM\\ControlSet001\\Services applockerfltr False\n",
        "\\REGISTRY\\MACHINE\\SYSTEM\\ControlSet001\\Services AtomicAlarmClock False\n",
        "\\REGISTRY\\MACHINE\\SYSTEM\\ControlSet001\\Services Beep False\n",
        "\\REGISTRY\\MACHINE\\SYSTEM\\ControlSet001\\Services fastfat False\n",
        "\\REGISTRY\\MACHINE\\SYSTEM\\ControlSet001\\Services MozillaMaintenance False\n",
        "\\REGISTRY\\MACHINE\\SYSTEM\\ControlSet001\\Services NTDS False\n",
        "\\REGISTRY\\MACHINE\\SYSTEM\\ControlSet001\\Services Ntfs False\n",
        "\\REGISTRY\\MACHINE\\SYSTEM\\ControlSet001\\Services ShellHWDetection False\n",
        "\\REGISTRY\\MACHINE\\SYSTEM\\ControlSet001\\Services SQLWriter False\n",
        "\\REGISTRY\\MACHINE\\SYSTEM\\ControlSet001\\Services Tcpip False\n",
        "\\REGISTRY\\MACHINE\\SYSTEM\\ControlSet001\\Services Tcpip6 False\n",
        "\\REGISTRY\\MACHINE\\SYSTEM\\ControlSet001\\Services terminpt False\n",
        "\\REGISTRY\\MACHINE\\SYSTEM\\ControlSet001\\Services W32Time False\n",
        "\\REGISTRY\\MACHINE\\SYSTEM\\ControlSet001\\Services WaaSMedicSvc False\n",
        "\\REGISTRY\\MACHINE\\SYSTEM\\ControlSet001\\Services WacomPen False\n",
        "\\REGISTRY\\MACHINE\\SYSTEM\\ControlSet001\\Services Winsock False\n",
        "\\REGISTRY\\MACHINE\\SYSTEM\\ControlSet001\\Services WinSock2 False\n",
        "\\REGISTRY\\MACHINE\\SYSTEM\\ControlSet001\\Services WINUSB False\n",
        "```\n",
        "\n",
        "This output shows a list of installed services on the machine (abbreviated for space)."
      ],
      "metadata": {
        "id": "s-Ve8XxBiKf6"
      }
    }
  ]
}