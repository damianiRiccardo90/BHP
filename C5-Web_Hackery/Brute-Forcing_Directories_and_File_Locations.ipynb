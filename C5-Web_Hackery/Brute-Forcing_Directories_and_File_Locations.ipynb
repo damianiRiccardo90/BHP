{
  "nbformat": 4,
  "nbformat_minor": 0,
  "metadata": {
    "colab": {
      "provenance": [],
      "authorship_tag": "ABX9TyPi2pHSiPwqfG4trPYqSnai",
      "include_colab_link": true
    },
    "kernelspec": {
      "name": "python3",
      "display_name": "Python 3"
    },
    "language_info": {
      "name": "python"
    }
  },
  "cells": [
    {
      "cell_type": "markdown",
      "metadata": {
        "id": "view-in-github",
        "colab_type": "text"
      },
      "source": [
        "<a href=\"https://colab.research.google.com/github/damianiRiccardo90/BHP/blob/master/C5-Web_Hackery/Brute-Forcing_Directories_and_File_Locations.ipynb\" target=\"_parent\"><img src=\"https://colab.research.google.com/assets/colab-badge.svg\" alt=\"Open In Colab\"/></a>"
      ]
    },
    {
      "cell_type": "markdown",
      "source": [
        "# *__Brute-Forcing Directories and File Locations__*\n",
        "\n",
        "The previous example assumed a lot of knowledge about your target. But when you're attacking a custom web application or large e-commerce system, you often won't be aware of all the files accessible on the web server.\n",
        "\n",
        "Generally, you'll deploy a spider, such as the one included in _Burp Suite_, to crawl the target website in order to discover as much of the web application as possible. But in a lot of cases, you'll want to get ahold of configuration files, leftover development files, debugging scripts, and other security bread-crumbs that can provide sensitive information or expose functionality that the software developer did not intend. The only way to discover this content is to use a brute-forcing tool to hunt down common filenames and directories.\n",
        "\n",
        "We'll build a simple tool that will accept word lists from common brute forcers, such as the __gobuster__ project (_https://github.com/OJ/gobuster/_) and __SVNDigger__ (_https://www.netsparker.com/blog/web-security/svn-digger-better-lists-for-forced-browsing/_), and attempt to discover directories and files that are reachable on the target web server. You'll find many word lists available on the internet, and you already have quite a few in your Kali distribution (see _/usr/share/wordlists_). For this example, we'll use a list from SVNDigger. You can retrieve the files for SVNDigger as follows:\n",
        "```\n",
        "cd ~/Downloads\n",
        "wget https://www.netsparker.com/s/research/SVNDigger.zip\n",
        "unzip SVNDigger.zip\n",
        "```\n",
        "When you unzip this file, the file __all.txt__ will be in your __Downloads__ directory.\n",
        "\n",
        "As before, we'll create a pool of threads to aggressively attempt to discover content. Let's start by creating some functionality to create a __Queue__ out of a word-list file. Open up a new file, name it __bruter.py__, and enter the following code:"
      ],
      "metadata": {
        "id": "u27bIBzbnR7i"
      }
    },
    {
      "cell_type": "code",
      "source": [
        "import queue\n",
        "import requests\n",
        "import threading\n",
        "import sys\n",
        "\n",
        "AGENT = \"Mozilla/5.0 (X11; Linux x86_64; rv:19.0) Gecko/20100101 Firefox/19.\"\n",
        "EXTENSIONS = [\".php\", \".bak\", \".orig\", \".inc\"]\n",
        "TARGET = \"http://testphp.vulnweb.com\"\n",
        "THREADS = 50\n",
        "WORDLIST = \"/home/tim/Downloads/all.txt\"\n",
        "\n",
        "def get_words(resume=None): #[1]\n",
        "\n",
        "    def extend_words(word): #[2]\n",
        "        if '.' in word:\n",
        "            words.put(f\"/{word}\")\n",
        "        else:\n",
        "            words.put(f\"/{word}/\") #[3]\n",
        "\n",
        "        for extension in EXTENSIONS:\n",
        "            words.put(f\"/{word}{extension}\")\n",
        "\n",
        "    with open(WORDLIST) as f:\n",
        "        raw_words = f.read() #[4]\n",
        "    \n",
        "    found_resume = False\n",
        "    words = queue.Queue()\n",
        "    for word in raw_words.split():\n",
        "        if resume is not None: #[5]\n",
        "            if found_resume:\n",
        "                extend_words(word)\n",
        "            elif word == resume:\n",
        "                found_resume = True\n",
        "                print(f\"Resuming wordlist from: {resume}\")\n",
        "        else:\n",
        "            print(word)\n",
        "            extend_words(word)\n",
        "    return words #[6]\n",
        "        "
      ],
      "metadata": {
        "id": "BGg32DvYrgTL"
      },
      "execution_count": null,
      "outputs": []
    },
    {
      "cell_type": "markdown",
      "source": [
        "The __get_words__ helper function __[1]__, which returns the words queue we'll test on the target, contains some special techniques. We read in a word list file __[4]__ and then begin iterating over each line in the file. We then set the __resume__ variable to the last path that the brute forcer tried __[5]__. This functionality allows us to resume a brute-forcing session if our network connectivity is interrupted or the target site goes down. When we've parsed the entire file, we return a __Queue__ full of words to use in our actual brute-forcing function __[6]__.\n",
        "\n",
        "Note that this function has an inner function called __extend_words__ __[2]__. An _inner function_ is a function defined inside another function. We could have written it outside of __get_words__, but because __extend_words__ will always run in the context of the __get_words__ function, we place it inside in order to keep the namespaces tidy and make the code easier to understand.\n",
        "\n",
        "The purpose of this inner function is to apply a list of extensions to test when making requests. In some cases, you want to try not only the __/admin__ extension, for example, but also __admin.php__, __admin.inc__, and __admin.html__ __[3]__. It can be useful here to brainstorm common extensions that developers might use and forget to remove later on, like __.orig__ and __.bak__, on top of the regular programming language extensions. The __extend_words__ inner function provides this capability, using these rules: If the word contains a dot (_._), we'll append it to the URL (for example, __/test.php__), otherwise, we'll treat it like a directory name (such as __/admin/__).\n",
        "\n",
        "In either case, we'll add each of the possible extensions to the result. For example, if we have two words, __test.php__ and __admin__, we will put the following additional words into our words queue:\n",
        "```\n",
        "/test.php.bak, /test.php.inc, /test.php.orig, /test.php.php\n",
        "/admin/admin.bak, /admin/admin.inc, /admin/admin.orig, /admin/admin.php\n",
        "```\n",
        "Now let's write the main brute-forcing function:"
      ],
      "metadata": {
        "id": "Rj9T_W5wEO-n"
      }
    },
    {
      "cell_type": "code",
      "source": [
        "def dir_bruter(words):\n",
        "    headers = {\"User-Agent\": AGENT} #[1]\n",
        "    while not words.empty():\n",
        "        url = f\"{TARGET}{words.get()}\" #[2]\n",
        "        try:\n",
        "            r = requests.get(url, headers=headers)\n",
        "        except requests.exceptions.ConnectionError: #[3]\n",
        "            sys.stderr.write('x')\n",
        "            sys.stderr.flush()\n",
        "            continue\n",
        "\n",
        "        if r.status_code == 200:\n",
        "            print(f\"\\nSuccess ({r.status_code}: {url})\") #[4]\n",
        "        elif r.status_code == 404:\n",
        "            sys.stderr.write('.') #[5]\n",
        "            sys.stderr.flush()\n",
        "        else:\n",
        "            print(f\"{r.status_code} => {url}\")\n",
        "\n",
        "if __name__ == \"__main__\":\n",
        "    words = get_words() #[6]\n",
        "    print(\"Press return to continue.\")\n",
        "    sys.stdin.readline()\n",
        "    for _ in range(THREADS):\n",
        "        t = threading.Thread(target=dir_bruter, args=(words,))\n",
        "        t.start()"
      ],
      "metadata": {
        "id": "bauuVsMVuTUK"
      },
      "execution_count": null,
      "outputs": []
    },
    {
      "cell_type": "markdown",
      "source": [
        "The __dir_bruter__ function accepts a __Queue__ object that is populated with words we prepared in the __get_words__ function. We defined a __User-Agent__ string at the beginning of the program to use in the HTTP request so that our requests look like the normal ones coming from nice people. We add that information into the __headers__ variable __[1]__. We then loop through the __words__ queue. For each iteration, we create a URL with which to request on the target application __[2]__ and send the request to the remote web server.\n",
        "\n",
        "This function prints some output directly to the console and some output to __stderr__. We will use this technique to present output in a flexible way. It enables us to display different portions of output, depending on what we want to see.\n",
        "\n",
        "It would be nice to know about any connection errors we get __[3]__, print an __x__ to __stderr__ when that happens. Otherwise, if we have a success (indicated by a status of 200), print the complete URL to the console __[4]__. You could also create a queue and put the results there, as we did last time. If we get a 404 response, we print a dot (.) to __stderr__ and continue __[5]__. If we get any other response code, we print the URL as well, because this could indicate something interesting on the remote web server. (That is, something besides a \"file not found\" error.) It's useful to pay attention to your output because, depending on the configuration of the remote web server, you may have to filter out additional HTTP error codes in order to clean up your results.\n",
        "\n",
        "In the __\\_\\_main\\_\\___ block, we get the list of words to brute-force __[6]__ and then spin up a bunch of threads to do the brute-forcing."
      ],
      "metadata": {
        "id": "D6WTxVSPvd3f"
      }
    },
    {
      "cell_type": "markdown",
      "source": [
        "# *__Kicking the Tires__*\n",
        "\n",
        "OWASP has a list of vulnerable web applications, both online and offline, such as virtual machines and disk images, that you can test your tooling against. In this case, the URL referenced in the source code points to an intentionally buggy web application hosted by Acunetix. The cool thing about attacking these applications is that it shows you how effetive brute forcing can be.\n",
        "\n",
        "We recommend you set the __THREADS__ variable to something sane, such as 5, and run the script. A value too low will take a long time to run, while a high value can overload the server. In short order, you should start seeing results such as the following ones:\n",
        "```\n",
        "(bph) rick@kali:~/bhp/bhp$ python bruter.py\n",
        "Press return to continue.\n",
        "--snip--\n",
        "Success (200: http://testphp.vulnweb.com/CVS/)\n",
        "...............................................\n",
        "Success (200: http://testphp.vulnweb.com/admin/).\n",
        ".......................................................\n",
        "```\n",
        "If you want to see only the successes, since you used __sys.stderror__ to write the x and dot (.) characters, invoke the script and redirect __stderr__ to _/dev/null_ so that only the files you found are displayed on the console:\n",
        "```\n",
        "python bruter.py 2> /dev/null\n",
        "\n",
        "Success (200: http://testphp.vulnweb.com/CVS/)\n",
        "Success (200: http://testphp.vulnweb.com/admin/)\n",
        "Success (200: http://testphp.vulnweb.com/index.php)\n",
        "Success (200: http://testphp.vulnweb.com/index.bak)\n",
        "Success (200: http://testphp.vulnweb.com/search.php)\n",
        "Success (200: http://testphp.vulnweb.com/login.php)\n",
        "Success (200: http://testphp.vulnweb.com/images)\n",
        "Success (200: http://testphp.vulnweb.com/index.php)\n",
        "Success (200: http://testphp.vulnweb.com/logout.php)\n",
        "Success (200: http://testphp.vulnweb.com/categories.php)\n",
        "```\n",
        "Notice that we're pulling some interesting results from the remote website, some of which may surprise you. For example, you may find backup files or code snippets left behind by an overworked web developer. What could be in that __index.bak__ file? With that information, you can remove files that could provide an easy compromise of your application."
      ],
      "metadata": {
        "id": "BnFNzvO04bUb"
      }
    }
  ]
}