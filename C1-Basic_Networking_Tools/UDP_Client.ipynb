{
  "nbformat": 4,
  "nbformat_minor": 0,
  "metadata": {
    "colab": {
      "provenance": [],
      "authorship_tag": "ABX9TyPdnzGCci9kOq1kaZlpM23G",
      "include_colab_link": true
    },
    "kernelspec": {
      "name": "python3",
      "display_name": "Python 3"
    },
    "language_info": {
      "name": "python"
    }
  },
  "cells": [
    {
      "cell_type": "markdown",
      "metadata": {
        "id": "view-in-github",
        "colab_type": "text"
      },
      "source": [
        "<a href=\"https://colab.research.google.com/github/damianiRiccardo90/BHP/blob/master/C1-Basic_Networking_Tools/UDP_Client.ipynb\" target=\"_parent\"><img src=\"https://colab.research.google.com/assets/colab-badge.svg\" alt=\"Open In Colab\"/></a>"
      ]
    },
    {
      "cell_type": "markdown",
      "source": [
        "# *__UDP Client__*\n",
        "\n",
        "A Python __UDP__ client is not much different from a __TCP__ client; we need to make only two small changes to get it to send packets in __UDP__ form:"
      ],
      "metadata": {
        "id": "vcm_g3VbFBzx"
      }
    },
    {
      "cell_type": "code",
      "execution_count": null,
      "metadata": {
        "id": "T3YDcqQNE_28"
      },
      "outputs": [],
      "source": [
        "import socket\n",
        "\n",
        "target_host = \"127.0.0.1\"\n",
        "target_port = 9997\n",
        "\n",
        "# create a socket object\n",
        "client = socket.socket(socket.AF_INET, socket.SOCK_DGRAM) #[1]"
      ]
    },
    {
      "cell_type": "markdown",
      "source": [
        "As you can see, we change the socket type to __SOCK_DGRAM__ __[1]__ when creating the socket object."
      ],
      "metadata": {
        "id": "taOy3QsRFif3"
      }
    },
    {
      "cell_type": "code",
      "source": [
        "# send some data\n",
        "client.sendto(b\"AAABBBCCC\", (target_host, target_port)) #[2]"
      ],
      "metadata": {
        "id": "2InqrRJzFxpc"
      },
      "execution_count": null,
      "outputs": []
    },
    {
      "cell_type": "markdown",
      "source": [
        "The next step is to simply call __sendto()__ __[2]__, passing in the data and the server you want to send the data to. Because __UDP__ is a connectionless protocol, there is no call to __connect()__ beforehand."
      ],
      "metadata": {
        "id": "NSKp7Mb9F4E2"
      }
    },
    {
      "cell_type": "code",
      "source": [
        "# receive some data\n",
        "data, addr = client.recvfrom(4096) #[3]\n",
        "\n",
        "print(data.decode())\n",
        "client.close()"
      ],
      "metadata": {
        "id": "KoGWnyZLGFuK"
      },
      "execution_count": null,
      "outputs": []
    },
    {
      "cell_type": "markdown",
      "source": [
        "The last step is to call __recvfrom()__ __[3]__ to receive __UDP__ data back. You will also notice that it returns both the data and the details of the remote host and port."
      ],
      "metadata": {
        "id": "HRXh5St8GNkP"
      }
    },
    {
      "cell_type": "markdown",
      "source": [
        "Again, we're not looking to be superior network programmers; we want it to be quick, easy, and reliable enough to handle our day-to-day hacking tasks. Let's move on to creating some simple servers."
      ],
      "metadata": {
        "id": "QgI0QG9qGX9k"
      }
    }
  ]
}