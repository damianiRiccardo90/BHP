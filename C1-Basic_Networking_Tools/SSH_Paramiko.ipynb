{
  "nbformat": 4,
  "nbformat_minor": 0,
  "metadata": {
    "colab": {
      "provenance": [],
      "authorship_tag": "ABX9TyOyVkEe5voUtg+XkzGoaHFG",
      "include_colab_link": true
    },
    "kernelspec": {
      "name": "python3",
      "display_name": "Python 3"
    },
    "language_info": {
      "name": "python"
    }
  },
  "cells": [
    {
      "cell_type": "markdown",
      "metadata": {
        "id": "view-in-github",
        "colab_type": "text"
      },
      "source": [
        "<a href=\"https://colab.research.google.com/github/damianiRiccardo90/BHP/blob/master/C1-Basic_Networking_Tools/SSH_Paramiko.ipynb\" target=\"_parent\"><img src=\"https://colab.research.google.com/assets/colab-badge.svg\" alt=\"Open In Colab\"/></a>"
      ]
    },
    {
      "cell_type": "markdown",
      "source": [
        "# SSH with Paramiko\n",
        "\n",
        "Pivoting with __BHNET__, the __netcat__ replacement we built, is pretty handy, but sometimes it's wise to encrypt your traffic to avoid detection. A common means of doing so is to tunnel the traffic usi9ng __Secure Shell (__SSH__). But what if your target doesn't have an __SSH__ client, just like 99.81943 percent of Winzozz systems?\n",
        "\n",
        "While there are great __SSH__ clients available for __Winzozz__, like __PuTTY__, this is a book about Python. In Python, you could use raw sockets and some crypto magic to create your own __SSH__ client or server, but why create when you can reuse? __Paramiko__, which uses __PyCrypto__, gives you simple access to the __SSH2__ protocol.\n",
        "\n",
        "To lrean about how this library works, we'll use __Paramiko__ to make a connection and run a command on an __SSH__ system, configure an __SSH__ server and __SSH__ client to run remote commands on a winzozz machine, and finally puzzle out the reverse tunnel demo file included with __Paramiko__ to duplicate the proxy option of __BHNET__. Let's begin.\n",
        "\n",
        "First, grab __Paramiko__ by using the __pip__ installer (or download it from [paramiko website](http://www.paramiko.org/)).\n",
        "```\n",
        "pip install paramiko\n",
        "```\n",
        "We'll use some of the demo files later, so make sure you download them from the [Paramiko Github repo](https://github.com/paramiko/paramiko/).\n",
        "\n",
        "Create a new file called __ssh_cmd.py__ and enter the following:"
      ],
      "metadata": {
        "id": "BQpB8c_AGxDT"
      }
    },
    {
      "cell_type": "code",
      "execution_count": null,
      "metadata": {
        "id": "PN6GOURMe-Va"
      },
      "outputs": [],
      "source": [
        "import paramiko"
      ]
    }
  ]
}