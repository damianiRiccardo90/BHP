{
  "nbformat": 4,
  "nbformat_minor": 0,
  "metadata": {
    "colab": {
      "provenance": [],
      "collapsed_sections": [],
      "authorship_tag": "ABX9TyOOdf29F5IMIphjHMJecbOw",
      "include_colab_link": true
    },
    "kernelspec": {
      "name": "python3",
      "display_name": "Python 3"
    },
    "language_info": {
      "name": "python"
    }
  },
  "cells": [
    {
      "cell_type": "markdown",
      "metadata": {
        "id": "view-in-github",
        "colab_type": "text"
      },
      "source": [
        "<a href=\"https://colab.research.google.com/github/damianiRiccardo90/BHP/blob/master/C1-Basic_Networking_Tools/TCP_Client.ipynb\" target=\"_parent\"><img src=\"https://colab.research.google.com/assets/colab-badge.svg\" alt=\"Open In Colab\"/></a>"
      ]
    },
    {
      "cell_type": "markdown",
      "source": [
        "# TCP Client\n",
        "\n",
        "Countless times during penetration test, we (the authors) have needed to whip up a TCP client to test for services, send garbage data, fuzz, or perform any number of other tasks. If you are working within the confines of large enterprise environments, you won't have the luxury of using networking tools or compilers, and sometimes you'll even be missing the absolute basics, like the ability to copy/paste or connect to the internet. This is where being able to quickly create a TCP client comes in extremely handy. But enough jabbering, let's get coding. Here is a simple TCP client:"
      ],
      "metadata": {
        "id": "MsmKm_5M7Mev"
      }
    },
    {
      "cell_type": "code",
      "execution_count": null,
      "metadata": {
        "id": "-bqpj3hY7F6J"
      },
      "outputs": [],
      "source": [
        "import socket \n",
        "\n",
        "target_host = \"www.goolge.com\"\n",
        "target_port = 80\n",
        "\n",
        "# create a socket object\n",
        "client = socket.socket(socket.AF_INET, socket.SOCK_STREAM)"
      ]
    },
    {
      "cell_type": "markdown",
      "source": [
        "We first create a socket object with the __AF_INET__ and __SOCK_STREAM__ parameters. The __AF_INET__ parameter indicates we'll use a standard __IPv4__ address or hostname, and __SOCK_STREAM__ indicates that this will be a __TCP__ client."
      ],
      "metadata": {
        "id": "iNEQh_5F8x9F"
      }
    },
    {
      "cell_type": "code",
      "source": [
        "# connect the client\n",
        "client.connect((target_host, target_port))\n",
        "\n",
        "# send some data\n",
        "client.send(b\"GET / HTTP/1.1\\r\\nHost: google.com\\r\\n\\r\\n\")"
      ],
      "metadata": {
        "id": "AjtwzZ7hCNeN"
      },
      "execution_count": null,
      "outputs": []
    },
    {
      "cell_type": "markdown",
      "source": [
        "We then connect the client to the server and send it some data as bytes"
      ],
      "metadata": {
        "id": "jk0hAsYWCj0Y"
      }
    },
    {
      "cell_type": "code",
      "source": [
        "# receive some data\n",
        "response = client.recv(4096)\n",
        "\n",
        "print(response.decode())\n",
        "client.close()"
      ],
      "metadata": {
        "id": "udC0tYc2Cj5x"
      },
      "execution_count": null,
      "outputs": []
    },
    {
      "cell_type": "markdown",
      "source": [
        "The last step is to receive some data back and print out the response and then close the socket."
      ],
      "metadata": {
        "id": "35XuJ1oTDTSq"
      }
    },
    {
      "cell_type": "markdown",
      "source": [
        "This is the simplest form of a __TCP__ client, but it's the one you'll write most often.\n",
        "This code snippet makes some serious assumptions about sockets that you definitely want to be aware of. The first assumption is that our connection will always succeed, and the second is that the server expects us to send data first (some servers expect to send data to you first and await your response). Our third assumption is that the server will always return data to us in a timely fashion. We make these assumptions largely for simplicity's sake. While programmers have varied opinions about how to deal with blocking sockets, exception handling in sockets, and the like, it's quite rare for pentersters to build these niceties into their quick-and-dirty tools for recon or exploitation work, so we'll omit them in this chapter."
      ],
      "metadata": {
        "id": "_pfhEeCrDX1t"
      }
    }
  ]
}