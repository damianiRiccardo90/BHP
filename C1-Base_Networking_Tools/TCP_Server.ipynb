{
  "nbformat": 4,
  "nbformat_minor": 0,
  "metadata": {
    "colab": {
      "provenance": [],
      "authorship_tag": "ABX9TyN0E+L0H0+htdoyd5gWttJ2",
      "include_colab_link": true
    },
    "kernelspec": {
      "name": "python3",
      "display_name": "Python 3"
    },
    "language_info": {
      "name": "python"
    }
  },
  "cells": [
    {
      "cell_type": "markdown",
      "metadata": {
        "id": "view-in-github",
        "colab_type": "text"
      },
      "source": [
        "<a href=\"https://colab.research.google.com/github/damianiRiccardo90/BHP/blob/master/C1-Base_Networking_Tools/TCP_Server.ipynb\" target=\"_parent\"><img src=\"https://colab.research.google.com/assets/colab-badge.svg\" alt=\"Open In Colab\"/></a>"
      ]
    },
    {
      "cell_type": "markdown",
      "source": [
        "# TCP Server\n",
        "\n",
        "Creating __TCP__ servers in Python is just as easy as creating a client. You might want to use your own __TCP__ server wh nwriting command shells or crafting a proxy (both of which we'll do later). Let's start by creating a standard multi-threaded __TCP__ server. Crank out the following code:"
      ],
      "metadata": {
        "id": "YxQY9AUoH8HL"
      }
    },
    {
      "cell_type": "code",
      "execution_count": null,
      "metadata": {
        "id": "mfUwgRo9H7hU"
      },
      "outputs": [],
      "source": [
        "import socket\n",
        "import threading\n",
        "\n",
        "IP = '0.0.0.0'\n",
        "PORT = 9998\n",
        "\n",
        "def main():\n",
        "    server = socket.socket(socket.AF_INET, socket.SOCK_STREAM)\n",
        "    server.bind((IP, PORT)) #[1]\n",
        "    server.listewn(5) #[2]\n",
        "    print(f'[*] Listening on {IP}:{PORT}')\n",
        "\n",
        "    while True:\n",
        "        client, address = server.accept() #[3]\n",
        "        print(f'[*] Accepted connection from {address[0]}:{address[1]}')\n",
        "        client_handler = threading.Thread(target=handle_client, args=(client,))\n",
        "        client_handler.start() #[4]\n",
        "\n",
        "def handle_client(client_socket): #[5]\n",
        "    with client_socket as sock:\n",
        "        request = sock.recv(1024)\n",
        "        print(f'[*] Received: {request.decode(\"utf-8\")}')\n",
        "        sock.send(b'ACK')\n",
        "\n",
        "if __name__ == '__main__':\n",
        "    main()"
      ]
    },
    {
      "cell_type": "markdown",
      "source": [
        "To start off, we pass in the __IP__ address and port we want the server to listen on __[1]__. Next, we tell the server to start listening __[2]__, with a maximum backlog of connections set to __5__. We then put the server into its main loop, where it waits for an incoming connection. When a client connects __[3]__, we receive the client socket in the __client__ variable and the remote connection details in the __address__ variable. We then create a new thread object that points to our __handle_client()__ function, and we pass it the client socket object as an argument. We then start the thread to handle the client connection __[4]__, at which point the main serrver llop is ready to handle another incoming connection. The __handle_client()__ function __[5]__ performs the __recv()__ and then sends a simple message back to the client."
      ],
      "metadata": {
        "id": "c2V6gG_JKxgs"
      }
    },
    {
      "cell_type": "markdown",
      "source": [
        "If you use the __TCP__ client that we built earlier, you can send some test packets to the server. You should see output like the following:\n",
        "\n",
        ">$\\color{grey}{\\text{[*] Listening on 0.0.0.0:9998}}$\n",
        ">\n",
        ">$\\color{grey}{\\text{[*] Accepted connection from: 127.0.0.1:62512}}$ \n",
        ">\n",
        ">$\\color{grey}{\\text{[*] Received: ABCDEF}}$ "
      ],
      "metadata": {
        "id": "Dwygk8YDPxoe"
      }
    },
    {
      "cell_type": "markdown",
      "source": [
        "That's it! While pretty simple, this is a very useful piece of code. We'll extend it in the next couple of sections, when we build a netcat replacement and a __TCP__ proxy."
      ],
      "metadata": {
        "id": "3vxKd4M4PyrE"
      }
    }
  ]
}