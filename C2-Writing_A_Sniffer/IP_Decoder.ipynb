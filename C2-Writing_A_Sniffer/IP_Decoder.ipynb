{
  "nbformat": 4,
  "nbformat_minor": 0,
  "metadata": {
    "colab": {
      "provenance": [],
      "authorship_tag": "ABX9TyMBQyJZQdGsfkxV195/qxJN",
      "include_colab_link": true
    },
    "kernelspec": {
      "name": "python3",
      "display_name": "Python 3"
    },
    "language_info": {
      "name": "python"
    }
  },
  "cells": [
    {
      "cell_type": "markdown",
      "metadata": {
        "id": "view-in-github",
        "colab_type": "text"
      },
      "source": [
        "<a href=\"https://colab.research.google.com/github/damianiRiccardo90/BHP/blob/master/C2-Writing_A_Sniffer/IP_Decoder.ipynb\" target=\"_parent\"><img src=\"https://colab.research.google.com/assets/colab-badge.svg\" alt=\"Open In Colab\"/></a>"
      ]
    },
    {
      "cell_type": "markdown",
      "source": [
        "# *__Decoding the IP Layer__*\n",
        "\n",
        "In its current form, our sniffer receives all of the __IP headers__, along with any higher protocols such as __TCP__, __UDP__, or __ICMP__. The information is packed into binary form and, as shown previously, is quite difficult to understand. Let's work on decoding the IP portion of a packet so that we can pull useful information from it, such as the protocol type (__TCP__, __UDP__, or __ICMP__) and the source and destination IP addresses. This will serve as a foundation for further protocol parsing later on.\n",
        "\n",
        "If we examine what an actual packet looks like on the network, you should understand how we need to decode the incoming packets. Refer to __Figure 3-1__ for the makeup of an __IP header__.\n",
        "\n",
        "<div align=\"center\" width=\"100%\">\n",
        "<img src=\"https://github.com/damianiRiccardo90/BHP/blob/master/C2-Writing_A_Sniffer/IPv4_Header.png?raw=true\" alt=\"From Client to Server\" width=\"50%\">\n",
        "<p style=\"text-align:center\"><strong><em>Figure 3-1</strong></em></p>\n",
        "</div>\n",
        "\n",
        "We will decode the entire IP Header (except the Options field) and extract the protocol type, source, and destination IP address. This means we'll be working directly with the binary, and we'll have to come up with a strategy for separating each part of the IP header using Python.\n",
        "\n",
        "In Python, there are a couple of ways to get external binary data into a data structure. You can use either the __ctype__ module or the __struct__ module to define the data structure. The __ctype__ module is a foreign function library for Python. It provides a bridge to C-based languages, enabling you to use C-compatible data types and call functions in shared libraries. On the other hand, __struct__ converts between Python values and C structs represented as Python byte object. In other words, the __ctype__ module handles binary data types in addition to providing a lot of other functionalities, while the __struct__ module primarily handles binary data.\n",
        "\n",
        "You will see both methods used when you explore tool repositories on the web. This esction shows you how to use each one to read an __IPv4 header__ off the network. It's up to you to decide which method you prefer, either will work fine."
      ],
      "metadata": {
        "id": "0tMKWQt_eqtT"
      }
    },
    {
      "cell_type": "markdown",
      "source": [
        "# *__The ctypes Module__*\n",
        "\n",
        "The following code snippet defines a new class, __IP__, that can read a packet and parse the header into its separate fields:"
      ],
      "metadata": {
        "id": "MJyyJF4S3pDx"
      }
    },
    {
      "cell_type": "code",
      "execution_count": null,
      "metadata": {
        "id": "Egpgx8U9en2f"
      },
      "outputs": [],
      "source": [
        "from ctypes import *\n",
        "import socket\n",
        "import struct\n",
        "\n",
        "class IP(Structure):\n",
        "    _fields_ = [\n",
        "        (\"version\",      c_ubyte,  4),  # 4 bit unsigned char\n",
        "        (\"ihl\",          c_ubyte,  4),  # 4 bit unsigned char\n",
        "        (\"tos\",          c_ubyte,  8),  # 1 byte char\n",
        "        (\"len\",          c_ushort, 16), # 2 byte unsigned short\n",
        "        (\"id\",           c_ushort, 16), # 2 byte unsigned short\n",
        "        (\"offset\",       c_ushort, 16), # 2 byte unsigned short\n",
        "        (\"ttl\",          c_ubyte,  8),  # 1 byte char\n",
        "        (\"protocol_num\", c_ubyte,  8),  # 1 byte char\n",
        "        (\"sum\",          c_ushort, 16), # 2 byte unsigned short\n",
        "        (\"src\",          c_uint32, 32), # 4 byte unsigned int\n",
        "        (\"dst\",          c_uint32, 32), # 4 byte unsigned int\n",
        "    ]\n",
        "\n",
        "    def __new__(cls, socket_buffer=None):\n",
        "        return cls.from_buffer_copy(socket_buffer)\n",
        "\n",
        "    def __init__(self, socket_buffer=None):\n",
        "        # Human readable IP addresses\n",
        "        self.src_address = socket.inet_ntoa(struct.pack(\"<L\", self.src))\n",
        "        self.dst_address = socket.inet_ntoa(struct.pack(\"<L\", self.dst))"
      ]
    }
  ]
}