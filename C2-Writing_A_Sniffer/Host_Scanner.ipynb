{
  "nbformat": 4,
  "nbformat_minor": 0,
  "metadata": {
    "colab": {
      "provenance": [],
      "authorship_tag": "ABX9TyPKVztS6SAI9t3dHsffisJG",
      "include_colab_link": true
    },
    "kernelspec": {
      "name": "python3",
      "display_name": "Python 3"
    },
    "language_info": {
      "name": "python"
    }
  },
  "cells": [
    {
      "cell_type": "markdown",
      "metadata": {
        "id": "view-in-github",
        "colab_type": "text"
      },
      "source": [
        "<a href=\"https://colab.research.google.com/github/damianiRiccardo90/BHP/blob/master/C2-Writing_A_Sniffer/Host_Scanner.ipynb\" target=\"_parent\"><img src=\"https://colab.research.google.com/assets/colab-badge.svg\" alt=\"Open In Colab\"/></a>"
      ]
    },
    {
      "cell_type": "markdown",
      "source": [
        "# *__Decoding ICMP__*\n",
        "\n",
        "Now that we can fully decode the IP layer of any sniffed packets, we have to be able to decode the __ICMP__ responses that our scanner will elicit from sending __UDP__ datagrams to closed ports. ICMP messages can vary greatly in their contents, but each message contains three elements that stay consistent: The type, code, and checksum fields. The type and code fields tell the receiving host what type of ICMP message is arriving, which then dictates how to decode it properly.\n",
        "\n",
        "For the purpose of our scanner, we are looking for a type value of 3 and a code value of 3. This corresponds to the __Destination Unreachable__ class of ICMP messages, and the code value of 3 indicates that the __Port Unreachable__ error has been caused. Refer to __Figure 3-3__ for a diagram of a Destination Unreachable ICMP message.\n",
        "\n",
        "<div align=\"center\" width=\"100%\">\n",
        "<img src=\"https://github.com/damianiRiccardo90/BHP/blob/master/C2-Writing_A_Sniffer/ICMP_Destination_Unreachable_Message.png?raw=true\" alt=\"From Client to Server\" width=\"50%\">\n",
        "<p style=\"text-align:center\"><em><strong>Figure 3-3:</strong> Diagram of Destination Unreachable ICMP message</em></p>\n",
        "</div>\n",
        "\n",
        "As you can see, the first 8 bits are the type, and the second 8 bits contain our ICMP code. One interesting thing to note is that when a host sends one of these ICMP messages, it actually includes the IP header of the originating message that generated the response. We can also see that we will double-check against 8 bytes of the original datagram that was sent in order to make sure our scanner generated the ICMP response. To do so, we simply slice off the last 8 bytes of the received buffer to pull out the magic string that our scanner sends.\n",
        "\n",
        "Let's add some more code to our previous sniffer to inlcude the ability to decode ICMP packets. Let's save our previous file as __sniffer_with_icmp.py__ and add the following code:"
      ],
      "metadata": {
        "id": "hEYVAKvpnwjJ"
      }
    },
    {
      "cell_type": "code",
      "source": [
        "import ipaddress\n",
        "import os\n",
        "import socket\n",
        "import struct\n",
        "import sys\n",
        "\n",
        "class IP:\n",
        "    def __init__(self, buff=None):\n",
        "        header = struct.unpack('<' + \"BBHHHBBH4s4s\", buff)\n",
        "        self.ver = header[0] >> 4\n",
        "        self.ihl = header[0] & 0xF\n",
        "\n",
        "        self.tos = header[1]\n",
        "        self.len = header[2]\n",
        "        self.id = header[3]\n",
        "        self.offset = header[4]\n",
        "        self.ttl = header[5]\n",
        "        self.protocol_num = header[6]\n",
        "        self.sum = header[7]\n",
        "        self.src = header[8]\n",
        "        self.dst = header[9]\n",
        "\n",
        "        self.src_address = ipaddress.ip_address(self.src)\n",
        "        self.dst_address = ipaddress.ip_address(self.dst)\n",
        "\n",
        "        self.protocol_map = {1: \"ICMP\", 6: \"TCP\", 17: \"UDP\"}\n",
        "        try:\n",
        "            self.protocol = self.protocol_map[self.protocol_num]\n",
        "        except Exception as e:\n",
        "            print(\"%s No protocol for %s\" % (e, self.protocol_num))\n",
        "            self.protocol = str(self.protocol_num)\n",
        "\n",
        "class ICMP: #[1]\n",
        "    def __init__(self, buff):\n",
        "        header = struct.unpack(\"<\" + \"BBHHH\", buff)\n",
        "        self.type = header[0]\n",
        "        self.code = header[1]\n",
        "        self.sum = header[2]\n",
        "        self.id = header[3]\n",
        "        self.seq = header[4]\n",
        "\n",
        "def sniff(host):\n",
        "    if os.name == \"nt\":\n",
        "        socket_protocol = socket.IPPROTO_IP\n",
        "    else:\n",
        "        socket_protocol = socket.IPPROTO_ICMP\n",
        "\n",
        "    sniffer = socket.socket(socket.AF_INET, socket.SOCK_RAW, socket_protocol)\n",
        "    sniffer.bind((host, 0))\n",
        "    sniffer.setsockopt(socket.IPPROTO_IP, socket.IP_HDRINCL, 1)\n",
        "\n",
        "    if os.name == \"nt\":\n",
        "        sniffer.ioctl(socket.STO_RCVALL, socket.RCVALL_ON)\n",
        "\n",
        "    try:\n",
        "        while True:\n",
        "            raw_buffer = sniffer.recvfrom(65535)[0]\n",
        "            ip_header = IP(raw_buffer[0:20])\n",
        "            # If it's ICMP, we want it\n",
        "            if ip_header.protocol == \"ICMP\": #[2]\n",
        "                print(\"Protocol: %s %s -> %s\" % (ip_header.protocol,\n",
        "                                                 ip_header.src_address,\n",
        "                                                 ip_header.dst_address))\n",
        "                print(f\"Version: {ip_header.ver}\")\n",
        "                print(f\"Header Length: {ip_header.ihl} TTL: {ip_header.ttl}\")\n",
        "\n",
        "                # Calculate where our ICMP packet starts\n",
        "                offset = ip_header.ihl * 4 #[3]\n",
        "                buff = raw_buffer[offset:offset + 8]\n",
        "                # Create our ICMP structure\n",
        "                icmp_header = ICMP(buff) #[4]\n",
        "                print(\"ICMP -> Type: %s Code: %s\\n\" % \n",
        "                      (icmp_header.type, icmp_header.code))\n",
        "                \n",
        "    except KeyboardInterrupt:\n",
        "        if os.name == \"nt\":\n",
        "            sniffer.ioctl(socket.SIO_RCVALL, socket.RCVALL_OFF)\n",
        "        sys.exit()\n",
        "\n",
        "if __name__ == \"__main__\":\n",
        "    if len(sys.argv) == 2:\n",
        "        host = sys.argv[1]\n",
        "    else:\n",
        "        host = \"192.168.1.203\"\n",
        "    sniff(host)"
      ],
      "metadata": {
        "id": "55_VFCnAu22v"
      },
      "execution_count": null,
      "outputs": []
    },
    {
      "cell_type": "markdown",
      "source": [
        "This simple piece of code creates an ICMP structure __[1]__ underneath our existing IP structure. When the main packet-receiving loop determines that we have received an ICMP packet __[2]__, we calculate the offset in the raw packet where the ICMP body lives __[3]__ and then create our buffer __[4]__ and print out the __type__ and __code__ fields. The length calculation is based on the IP header __ihl__ field, which indicates the number of 32-bit words (4-byte chunks) contained in the IP header. So by multiplying this field by 4, we know the size of the IP header and thus when the next network layer (ICMP in this case) begins.\n",
        "\n",
        "If we quickly run this code with our typical ping test, our output should now be slightly different:\n",
        "```\n",
        "Protocol: ICMP 74.125.226.78 -> 192.168.0.190\n",
        "ICMP -> Type: 0 Code: 0\n",
        "```\n",
        "This indicates that the ping (__ICMP Echo__) responses are being correctly received and decoded. We are now ready to implement the last bit of logic to send out the UDP datagrams and to interpret their results.\n",
        "\n",
        "Now let's add the use of the __ipaddress__ module so that we can cover an entire subnet with our host discovery scan. Save your __sniffer_with_icmp.py__ script as __scanner.py__ and add the following code:"
      ],
      "metadata": {
        "id": "zqz02CxzBs2N"
      }
    },
    {
      "cell_type": "code",
      "source": [
        "import ipaddress\n",
        "import os\n",
        "import socket\n",
        "import struct\n",
        "import sys\n",
        "import threading\n",
        "import time\n",
        "\n",
        "# Subnet to target\n",
        "SUBNET = \"192.168.1.0/24\"\n",
        "# Magic string we'll check ICMP responses for\n",
        "MESSAGE = \"DIOBOIA\" #[1]\n",
        "\n",
        "class IP:\n",
        "    def __init__(self, buff=None):\n",
        "        header = struct.unpack('<' + \"BBHHHBBH4s4s\", buff)\n",
        "        self.ver = header[0] >> 4\n",
        "        self.ihl = header[0] & 0xF\n",
        "\n",
        "        self.tos = header[1]\n",
        "        self.len = header[2]\n",
        "        self.id = header[3]\n",
        "        self.offset = header[4]\n",
        "        self.ttl = header[5]\n",
        "        self.protocol_num = header[6]\n",
        "        self.sum = header[7]\n",
        "        self.src = header[8]\n",
        "        self.dst = header[9]\n",
        "\n",
        "        self.src_address = ipaddress.ip_address(self.src)\n",
        "        self.dst_address = ipaddress.ip_address(self.dst)\n",
        "\n",
        "        self.protocol_map = {1: \"ICMP\", 6: \"TCP\", 17: \"UDP\"}\n",
        "        try:\n",
        "            self.protocol = self.protocol_map[self.protocol_num]\n",
        "        except Exception as e:\n",
        "            print(\"%s No protocol for %s\" % (e, self.protocol_num))\n",
        "            self.protocol = str(self.protocol_num)\n",
        "\n",
        "class ICMP:\n",
        "    def __init__(self, buff):\n",
        "        header = struct.unpack(\"<\" + \"BBHHH\", buff)\n",
        "        self.type = header[0]\n",
        "        self.code = header[1]\n",
        "        self.sum = header[2]\n",
        "        self.id = header[3]\n",
        "        self.seq = header[4]\n",
        "\n",
        "# This sprays out UDP datagrams with our magic message\n",
        "def udp_sender(): #[2]\n",
        "    with socket.socket(socket.AF_INET, socket.SOCK_DGRAM) as sender:\n",
        "        for ip in ipaddress.ip_network(SUBNET).hosts():\n",
        "            sender.sendto(bytes(MESSAGE, \"utf-8\"), (str(ip), 65212))\n",
        "\n",
        "class Scanner: #[3]\n",
        "    def __init__(self, host):\n",
        "        self.host = host\n",
        "        if os.name == \"nt\":\n",
        "            socket_protocol = socket.IPPROTO_IP\n",
        "        else:\n",
        "            socket_protocol = socket.IPPROTO_ICMP\n",
        "        \n",
        "        self.socket = socket.socket(socket.AF_INET, socket.SOCK_RAW, \n",
        "                                    socket_protocol)\n",
        "        self.socket.bind((host, 0))\n",
        "\n",
        "        self.socket.setsockopt(socket.IPPROTO_IP, socket.IP_HDRINCL, 1)\n",
        "\n",
        "        if os.name == \"nt\":\n",
        "            self.socket.ioctl(socket.SIO_RCVALL, socket.RCVALL_ON)\n",
        "\n",
        "    def sniff(self): #[4]\n",
        "        hosts_up = set([f\"{str(self.host)} *\"])\n",
        "        try:\n",
        "            while True:\n",
        "                # Read a packet\n",
        "                raw_buffer = self.socket.recvfrom(65535)[0]\n",
        "                # Create an IP header from the first 20 bytes\n",
        "                ip_header = IP(raw_buffer[0:20])\n",
        "                # If it's ICMP, we want it\n",
        "                if ip_header.protocol == \"ICMP\":\n",
        "                    offset = ip_header.ihl * 4\n",
        "                    buff = raw_buffer[offset:offset + 8]\n",
        "                    icmp_header = ICMP(buff)\n",
        "                    # Check for CODE 3 and TYPE 3\n",
        "                    if icmp_header.code == 3 and icmp_header.type == 3:\n",
        "                        if ipaddress.ip_address(ip_header.src_address) in #[5]\n",
        "                            ipaddress.IPv4Network(SUBNET):\n",
        "                            # Make sure it has our magic message\n",
        "                            if raw_buffer[len(raw_buffer) - len(MESSAGE):] == #[6]\n",
        "                                bytes(MESSAGE, \"utf-8\"):\n",
        "                                tgt = str(ip_header.src_address)\n",
        "                                if tgt != self.host and tgt not in hosts_up:\n",
        "                                    hosts_up.add(str(ip_header.src_address))\n",
        "                                    print(f\"Host Up: {tgt}\") #[7]\n",
        "        # Handle CTRL-C\n",
        "        except KeyboardInterrupt: #[8]\n",
        "            if os.name == \"nt\":\n",
        "                self.socket.ioctl(socket.SIO_RCVALL, socket.RCVALL_OFF)\n",
        "\n",
        "            print(\"\\nUser interrupted.\")\n",
        "            if hosts_up:\n",
        "                print(f\"\\n\\nSummary: Hosts up on {SUBNET}\")\n",
        "            for host in sorted(hosts_up):\n",
        "                print(f\"{host}\")\n",
        "            print('')\n",
        "            sys.exit()\n",
        "\n",
        "if __name__ == \"__main__\":\n",
        "    if len(sys.argv) == 2:\n",
        "        host = sys.argv[1]\n",
        "    else:\n",
        "        host = \"192.168.1.203\"\n",
        "    s = Scanner(host)\n",
        "    time.sleep(5)\n",
        "    t = threading.Thread(target=udp_sender) #[9]\n",
        "    t.start()\n",
        "    s.sniff()"
      ],
      "metadata": {
        "id": "T4M0thwHJiz-"
      },
      "execution_count": null,
      "outputs": []
    },
    {
      "cell_type": "markdown",
      "source": [
        "This last bit of code should be fairly straightforward to understand. We define a simple string signature __[1]__ so that we can test that the responses are coming from UDP packets that we sent originally. Our __udp_sender__ function __[2]__ simply takes in a subnet that we specify at the top of our script, iterates through all IP addresses in that subnet, and fires UDP datagram at them.\n",
        "\n",
        "We then define a __Scanner__ class __[3]__. To initialize it, we pass it a host as an argument. As it initializes, we create a socket, turn on promiscuous mode if running Winzozz, and make the socket an attribute of the __Scanner__ class.\n",
        "\n",
        "The __sniff__ method __[4]__ sniffs the network, following the same steps as in the previous example, except that this time it keeps a record of which hosts are up. If we detect the anticipated ICMP message, we first check to make sure that the ICMP response is coming from within our target subnet __[5]__. We then perform our final check of making sure that the ICMP response has our magic string in it __[6]__. If all of these checks pass, we print out the IP address of the host where the ICMP message originated __[7]__. When we end the sniffing process by using CTRL-C, we handle the keyboard interrupt __[8]__. That is, we turn off promiscuous mode if on Winzozz and print out a sorted list of live hosts.\n",
        "\n",
        "The __\\_\\_main\\_\\___ block does the work of setting things up: It creates the __Scanner__ object, sleeps just a few seconds, and then, before calling the __sniff__ method, spawns __udp_sender__ in a separate thread __[9]__ to ensure that we aren't interfering with our ability to sniff responses. Let's try it out."
      ],
      "metadata": {
        "id": "BwgwGzGJNmVv"
      }
    },
    {
      "cell_type": "markdown",
      "source": [
        "### *__The ipaddress module__*\n",
        "\n",
        "Our scanner will use a library called __ipaddress__, which will allow us to feed in a subnet mask such as 192.168.0.0/24 and have our scanner handle it appropriately.\n",
        "\n",
        "The __ipaddress__ module makes working with subnets and addressing very easy. For example, you can run simple tests like the following using the __Ipv4Network__ object:"
      ],
      "metadata": {
        "id": "ggnYxZr7Sjda"
      }
    },
    {
      "cell_type": "code",
      "source": [
        "ip_address = \"192.168.112.3\"\n",
        "\n",
        "if ip_address in Ipv4Network(\"192.168.112.0/24\"):\n",
        "    print(True)"
      ],
      "metadata": {
        "id": "OZbK-2pUTKmM"
      },
      "execution_count": null,
      "outputs": []
    },
    {
      "cell_type": "markdown",
      "source": [
        "Or we can create simple iterators if you want to send packets to an entire network:"
      ],
      "metadata": {
        "id": "wV2R66cSTZBW"
      }
    },
    {
      "cell_type": "code",
      "source": [
        "for ip in Ipv4Network(\"192.168.112.1/24\"):\n",
        "    s = socket.socket()\n",
        "    s.connect((ip, 25))\n",
        "    # Send mail packets"
      ],
      "metadata": {
        "id": "IAYN-32ETeFG"
      },
      "execution_count": null,
      "outputs": []
    },
    {
      "cell_type": "markdown",
      "source": [
        "This will greatly simplify your programming life when dealing with entire networks at a time, and it is ideally suited for our host discovery tool."
      ],
      "metadata": {
        "id": "nKwE1CxeTtH9"
      }
    },
    {
      "cell_type": "markdown",
      "source": [
        "# *__Kicking the Tires__*\n",
        "\n",
        "Now let's take our scanner and run it against the local network. You can use Linux or Winzozz for this, as the results will be the same. In the authors' case, the IP address of the local machine we were on was 192.168.0.187, so we set our scanner to hit 192.168.0.0/24. If the output is too noisy when you run your scanner, simply comment out all print statements except for the last one that tells you what hosts are responding.\n",
        "```\n",
        "python.exe scanner.py\n",
        "Host Up: 192.168.0.1\n",
        "Host Up: 192.168.0.190\n",
        "Host Up: 192.168.0.192\n",
        "Host Up: 192.168.0.195\n",
        "```\n",
        "For a quick scan like the one we performed, it took only a few seconds to get the results. By cross-referencing these IP addresses with the DHCP table in a home router, we were able to verify that the results were accurate.\n",
        "You can easily expand what you've learned in this chapter to decode TCP and UDP packets as well as to build additional tooling around the scanner.\n",
        "This scanner is also useful for the trojan framework we will begin building in Chapter 7. This would allow a deployed trojan to scan the local network for additional targets.\n",
        "Now that you know the basics of how networks work on a high and low level, let's explore a very mature Python library called __Scapy__."
      ],
      "metadata": {
        "id": "1wrU9duzRpQj"
      }
    }
  ]
}