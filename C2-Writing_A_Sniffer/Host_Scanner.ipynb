{
  "nbformat": 4,
  "nbformat_minor": 0,
  "metadata": {
    "colab": {
      "provenance": [],
      "authorship_tag": "ABX9TyOHXVHbegbqA3ch0Gs2aepd",
      "include_colab_link": true
    },
    "kernelspec": {
      "name": "python3",
      "display_name": "Python 3"
    },
    "language_info": {
      "name": "python"
    }
  },
  "cells": [
    {
      "cell_type": "markdown",
      "metadata": {
        "id": "view-in-github",
        "colab_type": "text"
      },
      "source": [
        "<a href=\"https://colab.research.google.com/github/damianiRiccardo90/BHP/blob/master/C2-Writing_A_Sniffer/Host_Scanner.ipynb\" target=\"_parent\"><img src=\"https://colab.research.google.com/assets/colab-badge.svg\" alt=\"Open In Colab\"/></a>"
      ]
    },
    {
      "cell_type": "markdown",
      "source": [
        "# *__Decoding ICMP__*\n",
        "\n",
        "Now that we can fully decode the IP layer of any sniffed packets, we have to be able to decode the __ICMP__ responses that our scanner will elicit from sending __UDP__ datagrams to closed ports. ICMP messages can vary greatly in their contents, but each message contains three elements that stay consistent: The type, code, and checksum fields. The type and code fields tell the receiving host what type of ICMP message is arriving, which then dictates how to decode it properly.\n",
        "\n",
        "For the purpose of our scanner, we are looking for a type value of 3 and a code value of 3. This corresponds to the __Destination Unreachable__ class of ICMP messages, and the code value of 3 indicates that the __Port Unreachable__ error has been caused. Refer to __Figure 3-3__ for a diagram of a Destination Unreachable ICMP message.\n",
        "\n",
        "<div align=\"center\" width=\"100%\">\n",
        "<img src=\"https://github.com/damianiRiccardo90/BHP/blob/master/C2-Writing_A_Sniffer/ICMP_Destination_Unreachable_Message.png?raw=true\" alt=\"From Client to Server\" width=\"50%\">\n",
        "<p style=\"text-align:center\"><em><strong>Figure 3-3:</strong> Diagram of Destination Unreachable ICMP message</em></p>\n",
        "</div>\n",
        "\n",
        "As you can see, the first 8 bits are the type, and the second 8 bits contain our ICMP code. One interesting thing to note is that when a host sends one of these ICMP messages, it actually includes the IP header of the originating message that generated the response. We can also see that we will double-check against 8 bytes of the original datagram that was sent in order to make sure our scanner generated the ICMP response. To do so, we simply slice off the last 8 bytes of the received buffer to pull out the magic string that our scanner sends.\n",
        "\n",
        "Let's add some more code to our previous sniffer to inlcude the ability to decode ICMP packets. Let's save our previous file as __sniffer_with_icmp.py__ and add the following code:"
      ],
      "metadata": {
        "id": "hEYVAKvpnwjJ"
      }
    },
    {
      "cell_type": "code",
      "source": [
        "import ipaddress\n",
        "import os\n",
        "import socket\n",
        "import struct\n",
        "import sys\n",
        "\n",
        "### CODE FROM PREVIOUS PARAGRAPH ###\n",
        "class IP:\n",
        "    def __init__(self, buff=None):\n",
        "        header = struct.unpack('<' + \"BBHHHBBH4s4s\", buff)\n",
        "        self.ver = header[0] >> 4\n",
        "        self.idl = header[0] & 0xF\n",
        "\n",
        "        self.tos = header[1]\n",
        "        self.len = header[2]\n",
        "        self.id = header[3]\n",
        "        self.offset = header[4]\n",
        "        self.ttl = header[5]\n",
        "        self.protocol_num = header[6]\n",
        "        self.sum = header[7]\n",
        "        self.src = header[8]\n",
        "        self.dst = header[9]\n",
        "\n",
        "        # Human readable IP addresses\n",
        "        self.src_address = ipaddress.ip_address(self.src)\n",
        "        self.dst_address = ipaddress.ip_address(self.dst)\n",
        "\n",
        "        # Map protocol constants to their names\n",
        "        self.protocol_map = {1: \"ICMP\", 6: \"TCP\", 17: \"UDP\"}\n",
        "        try:\n",
        "            self.protocol = self.protocol_map[self.protocol_num]\n",
        "        except Exception as e:\n",
        "            print(\"%s No protocol for %s\" % (e, self.protocol_num))\n",
        "            self.protocol = str(self.protocol_num)\n",
        "####################################\n",
        "\n",
        "class ICMP:\n",
        "    def __init__(self, buff):\n",
        "        header = struct.unpack(\"<\" + \"BBHHH\", buff)\n",
        "        self.type = header[0]\n",
        "        self.code = header[1]\n",
        "        self.sum = header[2]\n",
        "        self.id = header[3]\n",
        "        self.seq = header[4]\n",
        "\n",
        "def sniff(host):\n",
        "    ### CODE FROM PREVIOUS PARAGRAPH ###\n",
        "    if os.name == \"nt\":\n",
        "        socket_protocol = socket.IPPROTO_IP\n",
        "    else:\n",
        "        socket_protocol = socket.IPPROTO_ICMP\n",
        "\n",
        "    sniffer = socket.socket(socket.AF_INET, socket.SOCK_RAW, socket_protocol)\n",
        "    sniffer.bind((host, 0))\n",
        "    sniffer.setsockopt(socket.IPPROTO_IP, socket.IP_HDRINCL, 1)\n",
        "\n",
        "    if os.name == \"nt\":\n",
        "        sniffer.ioctl(socket.STO_RCVALL, socket.RCVALL_ON)\n",
        "\n",
        "    try:\n",
        "        while True:\n",
        "            raw_buffer = sniffer.recvfrom(65535)[0]\n",
        "            ip_header = IP(raw_buffer[0:20])\n",
        "            print(\"Protocol: %s %s -> %s\" % (ip_header.protocol, \n",
        "                                             ip_header.src_address, \n",
        "                                             ip_header.dst_address))\n",
        "    except KeyboardInterrupt:\n",
        "        if os.name == \"nt\":\n",
        "            sniffer.ioctl(socket.SIO:RCVALL, socket.RCVALL_OFF)\n",
        "        sys.exit()\n",
        "    ####################################\n",
        "\n",
        "    "
      ],
      "metadata": {
        "id": "55_VFCnAu22v"
      },
      "execution_count": null,
      "outputs": []
    }
  ]
}