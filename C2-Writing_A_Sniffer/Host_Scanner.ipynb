{
  "nbformat": 4,
  "nbformat_minor": 0,
  "metadata": {
    "colab": {
      "provenance": [],
      "authorship_tag": "ABX9TyNxd5sVpvZUWu/7tf1zlD7K",
      "include_colab_link": true
    },
    "kernelspec": {
      "name": "python3",
      "display_name": "Python 3"
    },
    "language_info": {
      "name": "python"
    }
  },
  "cells": [
    {
      "cell_type": "markdown",
      "metadata": {
        "id": "view-in-github",
        "colab_type": "text"
      },
      "source": [
        "<a href=\"https://colab.research.google.com/github/damianiRiccardo90/BHP/blob/master/C2-Writing_A_Sniffer/Host_Scanner.ipynb\" target=\"_parent\"><img src=\"https://colab.research.google.com/assets/colab-badge.svg\" alt=\"Open In Colab\"/></a>"
      ]
    },
    {
      "cell_type": "markdown",
      "source": [
        "# *__Decoding ICMP__*\n",
        "\n",
        "Now that we can fully decode the IP layer of any sniffed packets, we have to be able to decode the __ICMP__ responses that our scanner will elicit from sending __UDP__ datagrams to closed ports. ICMP messages can vary greatly in their contents, but each message contains three elements that stay consistent: The type, code, and checksum fields. The type and code fields tell the receiving host what type of ICMP message is arriving, which then dictates how to decode it properly.\n",
        "\n",
        "For the purpose of our scanner, we are looking for a type value of 3 and a code value of 3. This corresponds to the __Destination Unreachable__ class of ICMP messages, and the code value of 3 indicates that the __Port Unreachable__ error has been caused. Refer to __Figure 3-3__ for a diagram of a __Destination Unreachable__ ICMP message.\n",
        "\n"
      ],
      "metadata": {
        "id": "hEYVAKvpnwjJ"
      }
    }
  ]
}