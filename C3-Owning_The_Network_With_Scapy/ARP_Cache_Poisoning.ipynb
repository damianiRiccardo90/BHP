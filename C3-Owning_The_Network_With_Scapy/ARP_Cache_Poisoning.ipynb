{
  "nbformat": 4,
  "nbformat_minor": 0,
  "metadata": {
    "colab": {
      "provenance": [],
      "authorship_tag": "ABX9TyMHn6qmm+PIDuzFpXqQHUhw",
      "include_colab_link": true
    },
    "kernelspec": {
      "name": "python3",
      "display_name": "Python 3"
    },
    "language_info": {
      "name": "python"
    }
  },
  "cells": [
    {
      "cell_type": "markdown",
      "metadata": {
        "id": "view-in-github",
        "colab_type": "text"
      },
      "source": [
        "<a href=\"https://colab.research.google.com/github/damianiRiccardo90/BHP/blob/master/C3-Owning_The_Network_With_Scapy/ARP_Cache_Poisoning.ipynb\" target=\"_parent\"><img src=\"https://colab.research.google.com/assets/colab-badge.svg\" alt=\"Open In Colab\"/></a>"
      ]
    },
    {
      "cell_type": "markdown",
      "source": [],
      "metadata": {
        "id": "MHego-pA4Si8"
      }
    },
    {
      "cell_type": "markdown",
      "source": [
        "# *__ARP Cache Poisoning with Scapy__*\n",
        "\n",
        "ARP poisoning is one of the oldest yet most effective tricks in a hacker's toolkit. Quite simply, we will convince a target machine that we have become its gateway, and we will also convince the gateway that in order to reach the target machine, all traffic has to go through us. Every computer on a network maintains an __ARP cache__ that stores the most recent media access control (__MAC__) addresses matching the IP addresses on the local network. We'll poison this cache with entries that we control to achieve this attack. Because the Address Resolution Protocol, and ARP poisoning in general, is covered in numerous other materials, we'll leave it to you to do any necessary research to understand how this attack works at a lower level.\n",
        "\n",
        "Now that we know what we need to do, let's put it into practice. When the authors tested this, we attacked a real Mac machine from a Kali VM. We have also tested this code against various mobile devices connected to a wireless access point, and it worked great. The first thing we'll do is check the ARP cache on the target Mac machine so we can see the attack in action later on. Examine the following to see how to inspect the ARP cache on your Mac:\n",
        "```\n",
        "MacBook-Pro-Merd:~ victim$ ifconfig en0\n",
        "en0: flags=8863<UP,BROADCAST,SMART,RUNNING,SIMPLEX,MULTICAST> mtu 1500\n",
        "ether 38:f9:d3:63:5c:48\n",
        "inet6 fe80::4bc:91d7:29ee:51d8%en0 prefixlen 64 secured scopeid 0x6\n",
        "inet 192.168.1.193 netmask 0xffffff00 broadcast 192.168.1.255\n",
        "inet6 2600:1700:c1a0:6ee0:1844:8b1c:7fe0:79c8 prefixlen 64 autoconf secured\n",
        "inet6 2600:1700:c1a0:6ee0:fc47:7c52:affd:f1f6 prefixlen 64 autoconf temporary\n",
        "inet6 2600:1700:c1a0:6ee0::31 prefixlen 64 dynamic\n",
        "nd6 options=201<PERFORMNUD,DAD>\n",
        "media: autoselect\n",
        "status: active\n",
        "```\n",
        "The _ifconfig_ command displays the network configuration for the specified interface (here, it's _en0_) or for all interfaces if you don't specify one. The output shows that the _inet_ (IPv4) address for the device is 192.168.1.193. Also listed are the MAC address (38:f9:d3:63:5c:48, labeled as _ether_) and a few IPv6 addresses. ARP poisoning works only for IPv4 addresses, so we'll ignore the IPv6 ones.\n",
        "\n",
        "Now let's see what the Mac has in its ARP address cache. The following shows what it thinks the MAC addresses are for its neighbors on the network:\n",
        "```\n",
        "MacBook-Pro-Merd:~ victim$ arp -a\n",
        "kali.attlocal.net (192.168.1.203) at a4:5e:60:ee:17:5d on en0 ifscope #[1]\n",
        "dsldevice.attlocal.net (192.168.1.254) at 20:e5:64:c0:76:d0 on en0 ifscope #[2]\n",
        "? (192.168.1.255) at ff:ff:ff:ff:ff:ff on en0 ifscope [ethernet]\n",
        "```\n",
        "We can see that the IP address of the Kali machine belonging to the attacker __[1]__ is 192.168.1.203 and its MAC address is a4:5e:60:ee:17:5d. The gateway connects both attacker and victim machines to the internet. Its IP address __[2]__ is at 192.168.1.254 and its associated ARP cache entry has a MAC address of 20:e5:64:c0:76:d0. We will take note of these values because we can view the ARP cache while the attack is occurring and see that we have changed the gateway's registered MAC address. Now that we know the gateway and the target IP address, let's begin coding the ARP poisoning script. Open a new Python file, call it _arper.py_, and enter the following code. We'll start by stubbing out the skeleton of the file to give you a sense of how we'll construct the poisoner:"
      ],
      "metadata": {
        "id": "-ktx6tJh4UUY"
      }
    },
    {
      "cell_type": "code",
      "source": [
        "from multiprocessing import Process\n",
        "from scapy.all import (ARP, Ether, conf, get_if_hwaddr, \n",
        "                       send, sniff, sndrcv, srp,wrpcap)\n",
        "import os\n",
        "import sys\n",
        "import time\n",
        "\n",
        "def get_mac(targetip): #[1]\n",
        "    pass\n",
        "\n",
        "class Arper:\n",
        "    def __init__(self, victim, gateway, interface=\"en0\"):\n",
        "        pass\n",
        "    \n",
        "    def run(self):\n",
        "        pass\n",
        "\n",
        "    def poison(self): #[2]\n",
        "        pass\n",
        "    \n",
        "    def sniff(self, count=200): #[3]\n",
        "        pass\n",
        "\n",
        "    def restore(self): #[4]\n",
        "        pass\n",
        "\n",
        "if __name__ == \"__main__\":\n",
        "    (victim, gateway, interface) = (sys.argv[1], sys.argv[2], sys.argv[3])\n",
        "    myarp = Arper(victim, gateway, interface)\n",
        "    myarp.run()"
      ],
      "metadata": {
        "id": "a5hh0Pz0ippn"
      },
      "execution_count": null,
      "outputs": []
    },
    {
      "cell_type": "markdown",
      "source": [
        "As you can see, we'll define a helper function to get the MAC address for any given machine __[1]__ and an __Arper__ class to _poison_ __[2]__, _sniff_ __[3]__, and _restore_ __[4]__ the network settings. Let's fill out each section, starting with the _get_mac_ function, which returns a MAC address for a given IP address. We need the MAC addresses of the victim and the gateway."
      ],
      "metadata": {
        "id": "Ccj3wuoZjny9"
      }
    },
    {
      "cell_type": "code",
      "source": [
        "def get_mac(targetip):\n",
        "    packet = Ether(dst=\"ff:ff:ff:ff:ff:ff\")/ARP(op=\"who-has\", pdst=targetip) #[1]\n",
        "    resp, _ = srp(packet, timeout=2, retry=10, verbose=False) #[2]\n",
        "    for _, r in resp:\n",
        "        return r[Ether].src\n",
        "    return None"
      ],
      "metadata": {
        "id": "0qCkyBzNkOqC"
      },
      "execution_count": null,
      "outputs": []
    },
    {
      "cell_type": "markdown",
      "source": [
        "We pass in the target IP address and create a packet __[1]__. The __Ether__ function specifies that this packet is to be broadcast, and the __ARP__ function specifies the request for the MAC address, asking each node whether it has the target IP. We send the packet with the Scapy function __srp__ __[2]__, which sends and receives a packet on network layer 2. We get the answer in the __resp__ variable, which should contain the Ether layer source (the MAC address) for the target IP.\n",
        "\n",
        "Next, let's begin writing the __Arper__ class:"
      ],
      "metadata": {
        "id": "6JX_G_FNlRKT"
      }
    }
  ]
}