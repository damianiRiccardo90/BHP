{
  "nbformat": 4,
  "nbformat_minor": 0,
  "metadata": {
    "colab": {
      "provenance": [],
      "authorship_tag": "ABX9TyPu9p2ufNLVJRuCBBlo5YZ2",
      "include_colab_link": true
    },
    "kernelspec": {
      "name": "python3",
      "display_name": "Python 3"
    },
    "language_info": {
      "name": "python"
    }
  },
  "cells": [
    {
      "cell_type": "markdown",
      "metadata": {
        "id": "view-in-github",
        "colab_type": "text"
      },
      "source": [
        "<a href=\"https://colab.research.google.com/github/damianiRiccardo90/BHP/blob/master/C1-Setting_Up_Your_Python_Environment/Code_Hygiene.ipynb\" target=\"_parent\"><img src=\"https://colab.research.google.com/assets/colab-badge.svg\" alt=\"Open In Colab\"/></a>"
      ]
    },
    {
      "cell_type": "markdown",
      "source": [
        "# *__Code Hygiene__*\n",
        "\n",
        "No matter what you use to write your programs, it is a good idea to follow a code-formatting guideline. A code style guide provides recommendations to improve the readability and consistency of your Python code. It makes it easier for you to understand your own code when you read it later or for others if you decide to share it. The python community has such a guideline, called __PEP 8__. You can read the full PEP 8 guide here: https://www.python.org/dev/peps/pep-0008/.\n",
        "\n",
        "The examples in this book generally follow PEP 8, with a few differences. You'll see that the code in this book follows a pattern like this:"
      ],
      "metadata": {
        "id": "RN5uAwV6_UKZ"
      }
    },
    {
      "cell_type": "code",
      "source": [
        "from lxml import etree #[1]\n",
        "from subprocess import Popen\n",
        "\n",
        "import argparse #[2]\n",
        "import os\n",
        "\n",
        "def get_ip(machine_name): #[3]\n",
        "    pass\n",
        "\n",
        "class Scanner: #[4]\n",
        "    def __init__(self):\n",
        "        pass\n",
        "\n",
        "if __name__ == '__main__': #[5]\n",
        "    scan = Scanner()\n",
        "    print('hello')"
      ],
      "metadata": {
        "id": "ZA6ECI1sbR0l"
      },
      "execution_count": null,
      "outputs": []
    },
    {
      "cell_type": "markdown",
      "source": [
        "At the top of our program, we import the packages we need. The first import block __[1]__ is in the form of __from XXX import YYY__ type. Each import line is in alphabetical order.\n",
        "\n",
        "The same holds true for the module imports, they, too, are in alphabetical order __[2]__. This ordering lets you see at a glance whether you've imported a package without reading every line of imports, and it ensures that you don't import a package twice. The intent is to keep your code clean and lessen the amount you have to think when you reread your code.\n",
        "\n",
        "Next come the functions __[3]__, then class definitions __[4]__, if you have any. Some coders prefer to never have classes and rely only on functions. There's no hard-and-fast rule here, but if you find you're trying to maintain state with global variables or passing the same data structures to several functions, that may be an indication that your program would be easier to understand if you refactor it to use a class.\n",
        "\n",
        "Finally, the main block at the bottom __[5]__ gives you the opportunity to use your code in two ways. First, you can use it from the command line. In this case, the module's internal name is __main__ and the main block is executed. For example, if the name of the file containing the code is __scan.py__, you could invoke it from the command line as follows:\n",
        "\n",
        "```\n",
        "python scan.py\n",
        "```\n",
        "\n",
        "This will load the functions and classes in __scan.py__ and execute the main block. You would see the response __hello__ on the console.\n",
        "\n",
        "Second, you can import your code into another program with no side effects. For example, you would import the code with:\n",
        "\n",
        "```\n",
        "import scan\n",
        "```\n",
        "\n",
        "Since its internal name is the name of the Python module, __scan__, and not ____main____, you have access to all the module's defined functions and classes, but the main block is not executed.\n",
        "\n",
        "You'll also notice we avoid variables with generic names. The better you get at naming your variables, the easier it will be to understand the program.\n",
        "\n",
        "You should have a virtual machine, Python 3, a virtual environment, and an IDE. Now let's get into some actual fun!"
      ],
      "metadata": {
        "id": "15lJ_VD_blcd"
      }
    }
  ]
}