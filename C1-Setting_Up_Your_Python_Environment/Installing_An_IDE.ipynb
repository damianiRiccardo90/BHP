{
  "nbformat": 4,
  "nbformat_minor": 0,
  "metadata": {
    "colab": {
      "provenance": [],
      "authorship_tag": "ABX9TyPTUfTmx8EH25OhrWNNFlDs",
      "include_colab_link": true
    },
    "kernelspec": {
      "name": "python3",
      "display_name": "Python 3"
    },
    "language_info": {
      "name": "python"
    }
  },
  "cells": [
    {
      "cell_type": "markdown",
      "metadata": {
        "id": "view-in-github",
        "colab_type": "text"
      },
      "source": [
        "<a href=\"https://colab.research.google.com/github/damianiRiccardo90/BHP/blob/master/C1-Setting_Up_Your_Python_Environment/Installing_An_IDE.ipynb\" target=\"_parent\"><img src=\"https://colab.research.google.com/assets/colab-badge.svg\" alt=\"Open In Colab\"/></a>"
      ]
    },
    {
      "cell_type": "markdown",
      "source": [
        "# *__Installing an IDE__*\n",
        "\n",
        "An integrated development environment (__IDE__) provides a set of tools for coding. Typically, it includes a code editor, with syntax highlighting and automatic linting, and a debugger. The purpose of the IDE is to make it easier to code and debug your programs. You don't have to use one to program in Python; for small test programs, you might use any text editor (such as __vim__, __nano__, __Notepad__, or __emacs__). But for larger, more complex project, an IDE will be of enormous help to you, whether by indicating variables you have defined but not used, finding misspelled variable names, or locating missing package imports.\n",
        "\n",
        "In a recent Python developer survey, the top two favorite IDEs were __PyCharm__ (which has commercial and free versions available) and __Visual Studio Code__ (free). Justin is a fan of __WingIDE__ (commercial and free versions available), and Tim uses Visual Studio Code (VS Code). All three IDEs can be used on Windows, macOS, or Linux.\n",
        "\n",
        "You can install PyCharm from https://www.jetbrains.com/pycharm/download/ or WingIDE from https://wingware.com/downloads/. You can install VS Code from the Kali command line:\n",
        "\n",
        "```\n",
        "tim@kali#: apt-get install code\n",
        "```\n",
        "\n",
        "Or, to get the latest version of VS Code, download it from https://code.visualstudio.com/download/ and install with __apt_get__:\n",
        "\n",
        "```\n",
        "tim@kali#: apt-get install -f ./code_1.39.2-1571154070_amd64.deb\n",
        "```\n",
        "\n",
        "The release number, which is part of the filename, will likely be different from the one shown here, so make sure the filename you use matches the one you downloaded."
      ],
      "metadata": {
        "id": "WgW1yl7W_Esi"
      }
    }
  ]
}