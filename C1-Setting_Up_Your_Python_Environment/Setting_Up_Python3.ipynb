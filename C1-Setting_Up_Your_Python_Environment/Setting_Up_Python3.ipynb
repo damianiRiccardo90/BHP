{
  "nbformat": 4,
  "nbformat_minor": 0,
  "metadata": {
    "colab": {
      "provenance": [],
      "authorship_tag": "ABX9TyNGXdAWVqT2MhCDu5HbvQwa",
      "include_colab_link": true
    },
    "kernelspec": {
      "name": "python3",
      "display_name": "Python 3"
    },
    "language_info": {
      "name": "python"
    }
  },
  "cells": [
    {
      "cell_type": "markdown",
      "metadata": {
        "id": "view-in-github",
        "colab_type": "text"
      },
      "source": [
        "<a href=\"https://colab.research.google.com/github/damianiRiccardo90/BHP/blob/master/C1-Setting_Up_Your_Python_Environment/Setting_Up_Python3.ipynb\" target=\"_parent\"><img src=\"https://colab.research.google.com/assets/colab-badge.svg\" alt=\"Open In Colab\"/></a>"
      ]
    },
    {
      "cell_type": "markdown",
      "source": [
        "# *__Setting up Python3__*\n",
        "\n",
        "Dio stronzo"
      ],
      "metadata": {
        "id": "0Vbt0zEY-ruU"
      }
    }
  ]
}