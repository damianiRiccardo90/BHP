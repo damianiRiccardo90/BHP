{
  "nbformat": 4,
  "nbformat_minor": 0,
  "metadata": {
    "colab": {
      "provenance": [],
      "authorship_tag": "ABX9TyNJMdFr5dDKnEnOrHAIJNTs",
      "include_colab_link": true
    },
    "kernelspec": {
      "name": "python3",
      "display_name": "Python 3"
    },
    "language_info": {
      "name": "python"
    }
  },
  "cells": [
    {
      "cell_type": "markdown",
      "metadata": {
        "id": "view-in-github",
        "colab_type": "text"
      },
      "source": [
        "<a href=\"https://colab.research.google.com/github/damianiRiccardo90/BHP/blob/master/C1-Setting_Up_Your_Python_Environment/Setting_Up_Python3.ipynb\" target=\"_parent\"><img src=\"https://colab.research.google.com/assets/colab-badge.svg\" alt=\"Open In Colab\"/></a>"
      ]
    },
    {
      "cell_type": "markdown",
      "source": [
        "# *__Setting up Python3__*\n",
        "\n",
        "The first thing we'll do is ensure that the correct version of Python is installed. (The projects in this book use __Python 3.6__ or higher.) Invoke Python from the Kali shell and have a look:\n",
        "\n",
        "```\n",
        "tim@kali:~$ python\n",
        "```\n",
        "\n",
        "This is what it looks like on our Kali machine:\n",
        "\n",
        "```\n",
        "Python 2.7.17 (default, Oct 19 2019, 23:36:22)\n",
        "[GCC 9.2.1 20191008] on linux2\n",
        "Type \"help\", \"copyright\", \"credits\" or \"license\" for more information.\n",
        ">>>\n",
        "```\n",
        "\n",
        "Not exactly what we're looking for. At the time of this writing, the default version of Python on the current Kali installation is Python 2.7.18. But this isn't really a problem; you should have Python 3 installed as well:\n",
        "\n",
        "```\n",
        "tim@kali:~$ python3\n",
        "Python 3.7.5 (default, Oct 27 2019, 15:43:29)\n",
        "[GCC 9.2.1 20191022] on linux\n",
        "Type \"help\", \"copyright\", \"credits\", or \"license\" for more information.\n",
        ">>>\n",
        "```\n",
        "\n",
        "The version of Python listed here is 3.7.5. If yours is lower than 3.4.6, upgrade your distribution with the following:\n",
        "\n",
        "```\n",
        "$ sudo apt-get upgrade python3\n",
        "```\n",
        "\n",
        "We will use Python3 with a __virtual environment__, which is a self-contained directory tree that includes a Python installation and the set of any extra packages you install. The virtual environment is among the most essential tools for a Python developer. Using one, you can separate projects that have different needs. For example, you might use one virtual environment for projects involving packet inspection and a different one for projects on binary analysis.\n",
        "\n",
        "By having separate environments, you keep your projects simple and clean. This ensures that each environment can have its own set of dependencies and modules without disrupting any of your other projects.\n",
        "\n",
        "Let's create a virtual environment now. To get started, we need to install the __python3-venv__ package:\n",
        "\n",
        "```\n",
        "tim@kali:~$ sudo apt-get install python3-venv\n",
        "[sudo] password for tim:\n",
        "...\n",
        "```\n",
        "\n",
        "Now we can create a virtual environment. Let's make a new directory to work in and create the environment:\n",
        "\n",
        "```\n",
        "tim@kali:~$ mkdir bhp\n",
        "tim@kali:~$ cd bhp\n",
        "tim@kali:~/bhp$ python3 -m venv venv3\n",
        "tim@kali:~/bhp$ source venv3/bin/activate\n",
        "(venv3) tim@kali:~/bhp$ python\n",
        "```\n",
        "\n",
        "That creates a new directory, __bhp__, in the current directory. We create a new virtual environment by calling the __venv__ package with the __-m__ switch and the name you want the new environment to have. We've called our __venv3__, but you can use any name you like. The scripts, packages, and Python executable for the environment will live in that directory. Next, we activate the environment by running the __activate__ script. Notice that the prompt changes once the environment is activated. The name of the environment is prepended to your usual prompt (__venv3__ in our case). Later on, when you're ready to exit the environment, use the command __deactivate__.\n",
        "\n",
        "Now you have Python set up and have activated a virtual environment. Since we set up the environment to use Python 3, when you invoke Python, you no longer have to specify __python3__, just __python__ is fine, since that is what we installed into the virtual environment. In other words, after activation, every Python command will be relative to your virtual environment. Please note that using a different version of Python might break some of the code examples in this book.\n",
        "\n",
        "We can use the __pip__ executable to install Python packages into the virtual environment. This is much like the __apt__ package manager because it enables you to directly install Python libraries into your virtual environment without having to manually download, unpack, and install them.\n",
        "\n",
        "You can search for packages and install them into your virtual environment with __pip__:\n",
        "\n",
        "```\n",
        "(venv3) tim@kali:~/bhp$: pip search hashcrack\n",
        "```\n",
        "\n",
        "Let's do a quick test and install the __lxml__ module, which we'll use in Chapter 5 to build a web scraper. Enter the following into your terminal:\n",
        "\n",
        "```\n",
        "(venv3) tim@kali:~/bhp$: pip install lxml\n",
        "```\n",
        "\n",
        "You should see output in your terminal indicating that the library is being downloaded and installed. Then drop into a Python shell and validate that it was installed correctly:\n",
        "\n",
        "```\n",
        "(venv3) tim@kali:~/bhp$: python\n",
        "Python 3.7.5 (default, Oct 27 2019, 15:43:29)\n",
        "[GCC 9.2.1 20191022] on linux\n",
        "Type \"help\", \"copyright\", \"credits\" or \"license\" for more information.\n",
        ">>> from lxml import etree\n",
        ">>> exit()\n",
        "(venv3) tim@kali:~/bhp$\n",
        "```\n",
        "\n",
        "if you get an error or a version of Python 2, make sure you followed all the preceding steps and that you have the up-to-date version of Kali.\n",
        "\n",
        "Keep in mind that for most examples throughout this book, you can develop your code in a variety of environments, including macOS, Linux, and Windows. You may also want to set up a different virtual environment for separate projects or chapters. Some chapters are Windows specific, which we'll make sure to mention at the beginning of the chapter.\n",
        "\n",
        "Now that we have our hacking virtual machine and a Python 3 virtual environment set up, let's install a Python IDE for development."
      ],
      "metadata": {
        "id": "0Vbt0zEY-ruU"
      }
    }
  ]
}