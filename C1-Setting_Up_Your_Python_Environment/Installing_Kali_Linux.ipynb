{
  "nbformat": 4,
  "nbformat_minor": 0,
  "metadata": {
    "colab": {
      "provenance": [],
      "authorship_tag": "ABX9TyPoqWLoAng7NbrpWMXTMEz3",
      "include_colab_link": true
    },
    "kernelspec": {
      "name": "python3",
      "display_name": "Python 3"
    },
    "language_info": {
      "name": "python"
    }
  },
  "cells": [
    {
      "cell_type": "markdown",
      "metadata": {
        "id": "view-in-github",
        "colab_type": "text"
      },
      "source": [
        "<a href=\"https://colab.research.google.com/github/damianiRiccardo90/BHP/blob/master/C1-Setting_Up_Your_Python_Environment/Installing_Kali_Linux.ipynb\" target=\"_parent\"><img src=\"https://colab.research.google.com/assets/colab-badge.svg\" alt=\"Open In Colab\"/></a>"
      ]
    },
    {
      "cell_type": "markdown",
      "source": [
        "# *__Setting up your Python Environment__*\n",
        "\n",
        "This is the least fun, but nevertheless critical, part of the book, where we walk though setting up an environment in which to write and test Python. We'll do a crash course in setting up a __Kali Linux__ virtual machine (__VM__), creating a virtual environment for __Python 3__, and installing a nice Integrated Development Environment (__IDE__) so that you have everything you need to develop code. By the end of this chapter, you should be ready to tackle the exercises and code examples in the remainder of the book.\n",
        "\n",
        "Before you get started, if you don't have a __Hypervisor Virtualization Client__ such as __VMware Player__, __VirtualBox__, or __Hyper-V__, download and install one. We also recommend that you have a Windows 10 VM at the ready. You can get an evaluation Windows 10 VM here: https://developer.microsoft.com/en-us/windows/downloads/virtual-machines/."
      ],
      "metadata": {
        "id": "KfErVguf95SJ"
      }
    },
    {
      "cell_type": "markdown",
      "source": [
        "### *__Installing Kali Linux__*\n",
        "\n",
        "__Kali__, the successor to the __BackTrack Linux__ distribution, was designed by __Offensice Security__ as a penetration testing operating system. It comes with a number of tools preinstalled and is based on __Debian Linux__, so you'll be able to install a wide variety of additional tools and libraries.\n",
        "\n",
        "You will use Kali as your guest virtual machine. That is, you'll download a Kali virtual machine and run it on your host machine using your hypervisor of choice. You can download the kali VM from https://www.kali.org/downloads/ and install it in your hypervisor of choice. Follow the instructions given in the Kali documentation: https//www.kali.org/docs/installation/.\n",
        "\n",
        "When you're gone through the steps of the installation, you should have the full Kali desktop environment, as shown in __Figure 1-1__.\n",
        "\n",
        "<div align=\"center\" width=\"100%\">\n",
        "<img src=\"https://github.com/damianiRiccardo90/BHP/blob/master/C1-Setting_Up_Your_Python_Environment/The_Kali_Linux_Desktop.png?raw=true\" alt=\"The Kali Linux desktop\" width=\"70%\">\n",
        "<p style=\"text-align:center\"><em>Figure 1-1: The Kali Linux desktop</em></p>\n",
        "</div>\n",
        "\n",
        "Because there may have been important updates since the Kali image was created, let's update the machine with the latest version. In the Kali shell (__Application -> Accessories -> Terminal__), execute the following:\n",
        "\n",
        "```\n",
        "tim@kali:~$ sudo apt update\n",
        "tim@kali:~$ apt list --upgradable\n",
        "tim@kali:~$ sudo apt upgrade\n",
        "tim@kali:~$ sudo apt dist-upgrade\n",
        "tim@kali:~$ sudo apt autoremove\n",
        "```"
      ],
      "metadata": {
        "id": "EiUmmceM_0bK"
      }
    }
  ]
}