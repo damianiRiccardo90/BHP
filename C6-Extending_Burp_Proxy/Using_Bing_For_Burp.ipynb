{
  "nbformat": 4,
  "nbformat_minor": 0,
  "metadata": {
    "colab": {
      "provenance": [],
      "authorship_tag": "ABX9TyORHf27S/wUMErzEybPAU7J",
      "include_colab_link": true
    },
    "kernelspec": {
      "name": "python3",
      "display_name": "Python 3"
    },
    "language_info": {
      "name": "python"
    }
  },
  "cells": [
    {
      "cell_type": "markdown",
      "metadata": {
        "id": "view-in-github",
        "colab_type": "text"
      },
      "source": [
        "<a href=\"https://colab.research.google.com/github/damianiRiccardo90/BHP/blob/master/C6-Extending_Burp_Proxy/Using_Bing_For_Burp.ipynb\" target=\"_parent\"><img src=\"https://colab.research.google.com/assets/colab-badge.svg\" alt=\"Open In Colab\"/></a>"
      ]
    },
    {
      "cell_type": "markdown",
      "source": [
        "# *__Using Bing for Burp__*\n",
        "\n",
        "It's not uncommon for a single web server to serve several web applications, some of which you might not be aware of. If you're attacking the server, you should do your best to discover these other hostnames, because they might give you an easier way to get a shell. It's not rare to find an insecure web application, or even development resources, located on the same machine as your target. Microsoft's __Bing__ search engine has search capabilities that allow you to query Bing for all websites it finds on a single IP address using the _\"IP\"_ search modifier. Bing will also tell you all of the subdomains of a given domain if you use the _\"domain\"_ search modifier.\n",
        "\n",
        "Now, we could use a scraper to submit these queries to Bing and then get the HTML in the results, but that would be bad manners (and also violate most search engines' term of use). In order to stay out of trouble, we'll instead use the Bing API to submit these queries programmatically and parse the results ourselves. (Visit _http://www.microsoft.com/en-us/bing/apis/bing-web-search-api/_ to get set up with your own free Bing API key). Except for a context menu, we won't implement any fancy Burp GUI additions with this extension, we'll simply output the resutls into Burp each time we run a query, and any detected URLs to Burp's target scope will be added automatically.\n",
        "\n",
        "Because we already walked you through how to read the Burp API documentation and translate it into Python, let's get right to the code. Crack open __bhp_bing.py__ and hammer out the following:"
      ],
      "metadata": {
        "id": "Fwahtx3Bwi-o"
      }
    },
    {
      "cell_type": "code",
      "execution_count": null,
      "metadata": {
        "id": "1_DWupehwWyv"
      },
      "outputs": [],
      "source": [
        "from burp import IBurpExtender\n",
        "from burp import IContextMenuFactory\n",
        "\n",
        "from java.net import URL\n",
        "from java.util import ArrayList\n",
        "from javax.swing import JMenuItem\n",
        "from thread import start_new_thread\n",
        "\n",
        "import json\n",
        "import socket\n",
        "import urllib\n",
        "\n",
        "API_KEY = \"YOURKEY\" #[1]\n",
        "API_HOST = \"api.cognitive.microsoft.com\"\n",
        "\n",
        "class BurpExtender(IBurpExtender, IContextMenuFactory): #[2]\n",
        "    def registerExtenderCallbacks(self, callbacks):\n",
        "        self._callbacks = callbacks\n",
        "        self._helpers = callbacks.getHelpers()\n",
        "        self.context = None\n",
        "\n",
        "        # We set up our extension\n",
        "        callbacks.setExtensionName(\"BHP Bing\")\n",
        "        callbacks.registerContextMenuFactory(self) #[3]\n",
        "\n",
        "        return\n",
        "\n",
        "    def createMenuItems(self, context_menu):\n",
        "        self.context = context_menu\n",
        "        menu_list = ArrayList()\n",
        "        menu_list.add(JMenuItem(\"Send to Bing\", actionPerformed=self.bing_menu)) #[4]\n",
        "        return menu_list"
      ]
    },
    {
      "cell_type": "markdown",
      "source": [
        "This is the first bit of our Bing extension. Make sure you paste your Bing API key in place __[1]__. You're allowed 1000 free searches per month. We begin by defining a __BurpExtender__ class __[2]__ that implements the standard __IBurpExtender__ interface, and the __IContextMenuFactory__, which allows us to provide a context menu when a user right-clicks a requests in Burp. This menu will display a _\"Send to Bing\"_ selection. We register a menu handler __[3]__ that will determine which site the user clicked, enabling us to construct our Bing queries. Then we set up a __createMenuItem__ method, which will receive an __IContextMenuInvocation__ object and use it to determine which HTTP request the user selected. The last step is to render the menu item and handle the click event with the __bing_menu__ method __[4]__.\n",
        "\n",
        "Now let's perform the Bing query, output the results, and add any discovered virtual hosts to Burp's target scope:"
      ],
      "metadata": {
        "id": "7kAJwdZh0X-j"
      }
    },
    {
      "cell_type": "code",
      "source": [
        "def bing_menu(self, event):\n",
        "\n",
        "    # Grab the details of what the user clicked\n",
        "    http_traffic = self.context.getSelectedMessages() #[1]\n",
        "\n",
        "    print(\"%d requests highlighted\" % len(http_traffic))\n",
        "\n",
        "    for traffic in http_traffic:\n",
        "        http_service = traffic.getHttpService()\n",
        "        host = http_service.getHost()\n",
        "\n",
        "        print(\"User selected host: %s\" % host)\n",
        "        self.bing_search(host)"
      ],
      "metadata": {
        "id": "3SCErLIo3UIE"
      },
      "execution_count": null,
      "outputs": []
    }
  ]
}