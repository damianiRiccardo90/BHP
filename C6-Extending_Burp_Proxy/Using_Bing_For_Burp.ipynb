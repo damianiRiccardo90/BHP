{
  "nbformat": 4,
  "nbformat_minor": 0,
  "metadata": {
    "colab": {
      "provenance": [],
      "authorship_tag": "ABX9TyMfckNbGJ0oZotQeIqlmVJa",
      "include_colab_link": true
    },
    "kernelspec": {
      "name": "python3",
      "display_name": "Python 3"
    },
    "language_info": {
      "name": "python"
    }
  },
  "cells": [
    {
      "cell_type": "markdown",
      "metadata": {
        "id": "view-in-github",
        "colab_type": "text"
      },
      "source": [
        "<a href=\"https://colab.research.google.com/github/damianiRiccardo90/BHP/blob/master/C6-Extending_Burp_Proxy/Using_Bing_For_Burp.ipynb\" target=\"_parent\"><img src=\"https://colab.research.google.com/assets/colab-badge.svg\" alt=\"Open In Colab\"/></a>"
      ]
    },
    {
      "cell_type": "markdown",
      "source": [
        "# *__Using Bing for Burp__*\n",
        "\n",
        "It's not uncommon for a single web server to serve several web applications, some of which you might not be aware of. If you're attacking the server, you should do your best to discover these other hostnames, because they might give you an easier way to get a shell. It's not rare to find an insecure web application, or even development resources, located on the same machine as your target. Microsoft's __Bing__ search engine has search capabilities that allow you to query Bing for all websites it finds on a single IP address using the _\"IP\"_ search modifier. Bing will also tell you all of the subdomains of a given domain if you use the _\"domain\"_ search modifier.\n",
        "\n",
        "Now, we could use a scraper to submit these queries to Bing and then get the HTML in the results, but that would be bad manners (and also violate most search engines' term of use). In order to stay out of trouble, we'll instead use the Bing API to submit these queries programmatically and parse the results ourselves. (Visit _http://www.microsoft.com/en-us/bing/apis/bing-web-search-api/_ to get set up with your own free Bing API key). Except for a context menu, we won't implement any fancy Burp GUI additions with this extension, we'll simply output the resutls into Burp each time we run a query, and any detected URLs to Burp's target scope will be added automatically.\n",
        "\n",
        "Because we already walked you through how to read the Burp API documentation and translate it into Python, let's get right to the code. Crack open __bhp_bing.py__ and hammer out the following:"
      ],
      "metadata": {
        "id": "Fwahtx3Bwi-o"
      }
    },
    {
      "cell_type": "code",
      "execution_count": null,
      "metadata": {
        "id": "1_DWupehwWyv"
      },
      "outputs": [],
      "source": [
        "from burp import IBurpExtender\n",
        "from burp import IContextMenuFactory\n",
        "\n",
        "from java.net import URL\n",
        "from java.util import ArrayList\n",
        "from javax.swing import JMenuItem\n",
        "from thread import start_new_thread\n",
        "\n",
        "import json\n",
        "import socket\n",
        "import urllib\n",
        "\n",
        "API_KEY = \"YOURKEY\" #[1]\n",
        "API_HOST = \"api.cognitive.microsoft.com\"\n",
        "\n",
        "class BurpExtender(IBurpExtender, IContextMenuFactory): #[2]\n",
        "    def registerExtenderCallbacks(self, callbacks):\n",
        "        self._callbacks = callbacks\n",
        "        self._helpers = callbacks.getHelpers()\n",
        "        self.context = None\n",
        "\n",
        "        # We set up our extension\n",
        "        callbacks.setExtensionName(\"BHP Bing\")\n",
        "        callbacks.registerContextMenuFactory(self) #[3]\n",
        "\n",
        "        return\n",
        "\n",
        "    def createMenuItems(self, context_menu):\n",
        "        self.context = context_menu\n",
        "        menu_list = ArrayList()\n",
        "        menu_list.add(JMenuItem(\"Send to Bing\", actionPerformed=self.bing_menu)) #[4]\n",
        "        return menu_list"
      ]
    },
    {
      "cell_type": "markdown",
      "source": [
        "This is the first bit of our Bing extension. Make sure you paste your Bing API key in place __[1]__. You're allowed 1000 free searches per month. We begin by defining a __BurpExtender__ class __[2]__ that implements the standard __IBurpExtender__ interface, and the __IContextMenuFactory__, which allows us to provide a context menu when a user right-clicks a requests in Burp. This menu will display a _\"Send to Bing\"_ selection. We register a menu handler __[3]__ that will determine which site the user clicked, enabling us to construct our Bing queries. Then we set up a __createMenuItem__ method, which will receive an __IContextMenuInvocation__ object and use it to determine which HTTP request the user selected. The last step is to render the menu item and handle the click event with the __bing_menu__ method __[4]__.\n",
        "\n",
        "Now let's perform the Bing query, output the results, and add any discovered virtual hosts to Burp's target scope:"
      ],
      "metadata": {
        "id": "7kAJwdZh0X-j"
      }
    },
    {
      "cell_type": "code",
      "source": [
        "class BurpExtender(IBurpExtender, IContextMenuFactory):\n",
        "    def bing_menu(self, event):\n",
        "        # Grab the details of what the user clicked\n",
        "        http_traffic = self.context.getSelectedMessages() #[1]\n",
        "\n",
        "        print(\"%d requests highlighted\" % len(http_traffic))\n",
        "\n",
        "        for traffic in http_traffic:\n",
        "            http_service = traffic.getHttpService()\n",
        "            host = http_service.getHost()\n",
        "\n",
        "            print(\"User selected host: %s\" % host)\n",
        "            self.bing_search(host)\n",
        "\n",
        "        return\n",
        "\n",
        "    def bing_search(self, host):\n",
        "        # Check if we have an IP or hostname\n",
        "        try:\n",
        "            is_ip = bool(socket.inet_aton(host)) #[2]\n",
        "        except socket.error:\n",
        "            is_ip = False\n",
        "\n",
        "        if is_ip:\n",
        "            ip_address = host\n",
        "            domain = False\n",
        "        else:\n",
        "            ip_address = socket.gethostbyname(host)\n",
        "            domain = True\n",
        "\n",
        "        start_new_thread(self.bing_query, (\"ip:%s\" % ip_address,)) #[3]\n",
        "\n",
        "        if domain:\n",
        "            start_new_thread(self.bing_query, (\"domain:%s\" % host,)) #[4]"
      ],
      "metadata": {
        "id": "3SCErLIo3UIE"
      },
      "execution_count": null,
      "outputs": []
    },
    {
      "cell_type": "markdown",
      "source": [
        "The __bing_menu__ method gets triggered when the user clicks the context menu item we defined. We retrieve the highlighted HTTP requests __[1]__. Then we retrieve the host portion of each request and send it to the __bing_search__ method for further processing. The __bing_search__ method first determines if the host portion is an IP address or a hostname __[2]__. We then query Bing for all virtual hosts that have the same IP address __[3]__ as the host. If our extension received a domain as well, then we do a secondary search for any subdomains that Bing may have indexed __[4]__.\n",
        "\n",
        "Now let's install the plumbing we'll need in order to send the request to Bing and parse the results using Burp's HTTP API. Add the following code within the __BurpExtender__ class:"
      ],
      "metadata": {
        "id": "Kdn8sDk26dfE"
      }
    },
    {
      "cell_type": "code",
      "source": [
        "class BurpExtender(IBurpExtender, IContextMenuFactory):\n",
        "    def bing_query(self, bing_query_string):\n",
        "        print(\"Performing Bing search: %s\" % bing_query_string)\n",
        "        http_request = \"GET https://%s//bing//v7.0/search?\" % API_HOST\n",
        "        # Encode our query\n",
        "        http_request += \"q=%s HTTP/1.1\\r\\n\" % urllib.quote(bing_query_string)\n",
        "        http_request += \"Host: %s\\r\\n\" % API_HOST\n",
        "        http_request += \"Connection:close\\r\\n\"\n",
        "        http_request += \"Ocp-Apim_Subscription-Key: %s\\r\\n\" % API_KEY #[1]\n",
        "        http_request += \"User-Agent: Black Hat Python\\r\\n\\r\\n\"\n",
        "\n",
        "        json_body = self._callbacks.makeHttpRequest(\n",
        "            API_HOST, 443, True, http_request).toString() #[2]\n",
        "        json_body = json_body.split(\"\\r\\n\\r\\n\", 1)[1] #[3]\n",
        "\n",
        "        try:\n",
        "            response = json.loads(json_body) #[4]\n",
        "        except (TypeError, ValueError) as err:\n",
        "            print(\"No results from Bing %s\" % err)\n",
        "        else:\n",
        "            sites = list()\n",
        "            if response.get(\"webPages\"):\n",
        "                sites = response[\"webPages\"][\"value\"]\n",
        "            if len(sites):\n",
        "                for site in sites:\n",
        "                    print('*' * 100) #[5]\n",
        "                    print(\"Name: %s\" % site[\"name\"])\n",
        "                    print(\"URL: %s\" % site[\"url\"])\n",
        "                    print(\"Description: %s\" % site[\"snippet\"])\n",
        "                    print('*' * 100)\n",
        "\n",
        "                    java_url = URL(site[\"url\"])\n",
        "                    if not self._callbacks.isInScope(java_url): #[6]\n",
        "                        print(\"Adding %s to Burp scope\" % site[\"url\"])\n",
        "                        self._callbacks.includeInScope(java_url)\n",
        "                    else:\n",
        "                        print(\"Empty response from Bing.: %s\" % bing_query_string)\n",
        "\n",
        "        return"
      ],
      "metadata": {
        "id": "fjNIARGY8iWw"
      },
      "execution_count": null,
      "outputs": []
    },
    {
      "cell_type": "markdown",
      "source": [
        "Burp's HTTP API requires that we build the entire HTTP request as a string before sending it. We also need to add our Bing API key to make the API call __[1]__. We then send the HTTP request __[2]__ to the Micropenis servers. When the response returns, we split off the headers __[3]__ and then pass it to our JSON parser __[4]__. For each set of results, we output some information about the site that we discovered __[5]__. If the discovered site isn't in Burp's target scope __[6]__, we automatically add it.\n",
        "\n",
        "In doing so, we've blended the Jython API and pure Python in a Burp extension. This should help us do additional recon work when we're attacking a particular target. Let's take it for a spin."
      ],
      "metadata": {
        "id": "fWeDVndRbNhG"
      }
    },
    {
      "cell_type": "markdown",
      "source": [
        "# *__Kicking the Tires__*\n",
        "\n",
        "To get the Bing search extension working, use the same procedure we used for the fuzzing extension. When it's loaded, browse to _http://testphp.vulnweb.com/_ and then right-click the _GET_ request you just issued. If the extension loads properly, you should see the menu option Send to Bing displayed, as shown in _Figure 6-9_.\n",
        "\n",
        "<div align=\"center\" width=\"100%\">\n",
        "<img src=\"https://github.com/damianiRiccardo90/BHP/blob/master/C6-Extending_Burp_Proxy/New_Menu_Option_Showing_Our_Extension.png?raw=true\" alt=\"New Menu Option Showing Our Extension\" width=\"70%\">\n",
        "<p style=\"text-align:center\"><strong><em>Figure 6-9</strong></em></p>\n",
        "</div>\n",
        "\n",
        "When you click this menu option, you should start to see results from Bing, as in _Figure 6-10_. The kind of result you get will depend on the output you chose when you loaded the extension.\n",
        "\n",
        "<div align=\"center\" width=\"100%\">\n",
        "<img src=\"https://github.com/damianiRiccardo90/BHP/blob/master/C6-Extending_Burp_Proxy/Our_Extension_Providing_Output_From_The_Bing_API_Search.png?raw=true\" alt=\"Our Extension Providing Output From The Bing API Search\" width=\"70%\">\n",
        "<p style=\"text-align:center\"><strong><em>Figure 6-10</strong></em></p>\n",
        "</div>\n",
        "\n",
        "If you click the __Target__ tab in Burp and select __Scope__, you should see new items automatically added to the target scope, as shown in _Figure 6-11_.\n",
        "The target scope limits activities such as attacks, spidering, and scans to the defined hosts only.\n",
        "\n",
        "<div align=\"center\" width=\"100%\">\n",
        "<img src=\"https://github.com/damianiRiccardo90/BHP/blob/master/C6-Extending_Burp_Proxy/Discovered_Hosts_Are_Automatically_Added_To_Burp's_Target_Scope.png?raw=true\" alt=\"Discovered Hosts Are Automatically Added To Burp's Target Scope\" width=\"70%\">\n",
        "<p style=\"text-align:center\"><strong><em>Figure 6-11</strong></em></p>\n",
        "</div>"
      ],
      "metadata": {
        "id": "9o7k68dQcG1V"
      }
    }
  ]
}