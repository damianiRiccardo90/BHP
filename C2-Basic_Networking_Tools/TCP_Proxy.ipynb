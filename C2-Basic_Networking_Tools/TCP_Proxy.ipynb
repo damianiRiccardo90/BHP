{
  "nbformat": 4,
  "nbformat_minor": 0,
  "metadata": {
    "colab": {
      "provenance": [],
      "authorship_tag": "ABX9TyN24D4dUoY4GyfMoBN3Ozd3",
      "include_colab_link": true
    },
    "kernelspec": {
      "name": "python3",
      "display_name": "Python 3"
    },
    "language_info": {
      "name": "python"
    }
  },
  "cells": [
    {
      "cell_type": "markdown",
      "metadata": {
        "id": "view-in-github",
        "colab_type": "text"
      },
      "source": [
        "<a href=\"https://colab.research.google.com/github/damianiRiccardo90/BHP/blob/master/C2-Basic_Networking_Tools/TCP_Proxy.ipynb\" target=\"_parent\"><img src=\"https://colab.research.google.com/assets/colab-badge.svg\" alt=\"Open In Colab\"/></a>"
      ]
    },
    {
      "cell_type": "markdown",
      "source": [
        "# *__Building a TCP Proxy__*\n",
        "\n",
        "There are several reasons to have a __TCP__ proxy in your tool belt. You might use one for forwarding traffic to bounce from host to host, or when assessing network based software. When performing penetration tests in enterprise environments, you probably won't be able to run __Wireshark__; nor will you be able to load drivers to sniff the loopback on Windows, and network segmentation will prevent you from running your tools directly against your target host. We've built simple Python proxies, like this one, in various cases to help you understand unknown protocols, modify traffic being sent to an application, and create test cases for fuzzers. \n",
        "\n",
        "The proxy has a few moving parts. Let's summarize the four main functions we need to write. We need to display the communication between the local and remote machines to the console (__hexdump__). We need to receive data from an incoming socket from either the local or remote machine (__receive_from__). We need to manage the traffic direction between remote and local machines (__proxy_handler__). Finally, we need to set up a listening socket and pass it to our __proxy_handler__ (__server_loop__).\n",
        "\n",
        "Let's get to it. Open a new file called __proxy.py__:"
      ],
      "metadata": {
        "id": "m-fm55tJgmRJ"
      }
    },
    {
      "cell_type": "code",
      "execution_count": null,
      "metadata": {
        "id": "cX5eTDS9gj60"
      },
      "outputs": [],
      "source": [
        "import sys\n",
        "import socket\n",
        "import threading\n",
        "\n",
        "HEX_FILTER = ''.join(\n",
        "    [len(repr(chr(i))) == 3) and chr(i) or '.' for i in range(256)]) #1\n",
        "\n",
        "def hexdump(src, length=16, show=True):\n",
        "    if isinstance(src, bytes): #2\n",
        "        src = src.decode()\n",
        "\n",
        "    results = list()\n",
        "    for i in range(0, len(src), length):\n",
        "        word = str(src[i:i+length]) #3\n",
        "\n",
        "        printable = word.translate(HEX_FILTER) #4\n",
        "        hexa = ' '.join([f\"{ord(c):02X}\" for c in word])\n",
        "        hexwidth = length * 3\n",
        "        results.append(f\"{i:04x}  {hexa:<{hexwidth}}  {printable}\") #5\n",
        "    if show:\n",
        "        for line in results:\n",
        "            print(line)\n",
        "    else:\n",
        "        return results"
      ]
    },
    {
      "cell_type": "markdown",
      "source": [
        "We start with a few imports. Then we define a __hexdump__ function that takes some input as bytes or a string and prints a __hexdump__ to the console. That is, it will output the packet details with both their hexadecimal values and __ASCII__ printable characters. This is useful for understanding unknown protocols, finding user credentials in plaintext protocols, and much more. We create a __HEX_FILTER__ string __[1]__ that contains __ASCII__ printable characters, if one exists, or a dot (.) if such a representation doesn't exist. For an example of what this string could contain, let's look at the character representations of two integers, __30__ and __65__, in an interactive Python shell:\n",
        "```\n",
        ">>> chr(65)\n",
        "'A'\n",
        ">>> chr(30)\n",
        "'\\x1e'\n",
        ">>> len(repr(chr(65)))\n",
        "3\n",
        ">>> len(repr(chr(30)))\n",
        "6\n",
        "```"
      ],
      "metadata": {
        "id": "36heVGDq4EK4"
      }
    },
    {
      "cell_type": "markdown",
      "source": [
        "The character representation of __65__ is printable and the character representation of __30__ is not. As you can see, the representation of the printable character ha s a length of __3__. We use that fact to create the final __HEX_FILTER__ string: Provide the character if possible and a dot (.) if not.\n",
        "\n",
        "The list comprehension used to create the string employs a __Boolean short circuit__ technique, which sounds pretty fancy. Let's break it down: For each integer in the range of __0__ to __255__, if the length of the corresponding character equals __3__, we get the character (chr(i)). Otherwise, we get a dot (.). Then we __join__ that list into a string so it looks something like this:\n",
        "```\n",
        "'............................... !\"#&\\'()*+,-./0123456789:;<=>?@ABCDEFGHIJKLMNOPQRSTUVWXYZ[.]^_`abcdefghijklmnopqrstuvwxyz{|}~.................................. OTHER WEIRD CHARACTERS FOR YOU MAH NIGGAS'\n",
        "```"
      ],
      "metadata": {
        "id": "4YGcnauH7OwY"
      }
    },
    {
      "cell_type": "markdown",
      "source": [
        "The list comprehension gives a printable character representation of the first 256 integers. Now we can create the __hexdump__ function. First, we make sure we have a string, decoding the bytes if a byte string was passed in __[2]__. Then we grab a piece of the string to dump and put it into the __word__ variable __[3]__. We use the __translate__ built-in function to substitute the string representation of each character for the corresponding character in the raw string (__printable__) __[4]__. Likewise, we substitute the hex representation of the integer value of every chacater in the raw string (__hexa__). Finally, we create a new array to hold the strings, __result__, that contains the hex value of the index of the first byte in the word, the hex value of the word, and its printable representation __[5]__. The ouput looks like this:\n",
        "```\n",
        ">>> hexdump('python rocks\\n and proxies roll\\n')\n",
        "0000 70 79 74 68 6F 6E 20 72 6F 63 6B 73 0A 20 61 6E python rocks. an\n",
        "0010 64 20 70 72 6F 78 69 65 73 20 72 6F 6C 6C 0A    d proxies roll.\n",
        "```"
      ],
      "metadata": {
        "id": "CQ19Dxw49QG_"
      }
    },
    {
      "cell_type": "markdown",
      "source": [
        "This function provides us with a way to watch the communication going throught the proxy in real time. Now let's create a function that the two ends of the proxy will use to receive data:"
      ],
      "metadata": {
        "id": "56X2hpOZAFXw"
      }
    },
    {
      "cell_type": "code",
      "source": [
        "def receive_from(connection):\n",
        "    buffer = b''\n",
        "    connection.settimeout(5)\n",
        "    try:\n",
        "        while True:\n",
        "            data = connection.recv(4096)\n",
        "            if not data:\n",
        "                break\n",
        "            buffer += data\n",
        "    except Exception as e:\n",
        "        pass\n",
        "    return buffer"
      ],
      "metadata": {
        "id": "RLsoY6H5APCP"
      },
      "execution_count": null,
      "outputs": []
    },
    {
      "cell_type": "markdown",
      "source": [
        "For receiving both local and remote data, we pass in the socket object to be used. We create an empty byte string, __buffer__, that will accumulate responses from the socket __[1]__. By default, we set a five second time-out, which might be aggressive if you're proxying traffic to other countries or over lossy networks, so increase the time-out as necessary. We set up a loop to read response data into the __buffer__ __[2]__ until there's no more data or we time out. Finally, we return the __buffer__ byte string to the caller, which could be either the local or remote machine.\n",
        "\n",
        "Sometimes you may want to modify the response or request packets before the proxy sends them on their way. Let's add a couple of functions (__request_handler__ and __response_handler__) to do just that:"
      ],
      "metadata": {
        "id": "Re21j8xGAzf9"
      }
    },
    {
      "cell_type": "code",
      "source": [
        "def request_handler(buffer):\n",
        "    # Perform packet modifications\n",
        "    return buffer\n",
        "\n",
        "def response_handler(buffer):\n",
        "    # Perform packet modifications\n",
        "    return buffer"
      ],
      "metadata": {
        "id": "ZlFFu7-YZBF8"
      },
      "execution_count": null,
      "outputs": []
    },
    {
      "cell_type": "markdown",
      "source": [
        "Inside these functions, you can modify the packet contents, perform fuzzing tasks, test for authentication issues, or do whatever else your heart desires. This can be useful, for example, if you find plain-text user credentials being sent and want to try to elevate privileges on an application by passing in __admin__ instead of your own username.\n",
        "\n",
        "Let's dive into the __proxy_handler__ function now by adding this code:"
      ],
      "metadata": {
        "id": "xSD7wVxdaIvG"
      }
    },
    {
      "cell_type": "code",
      "source": [
        "def proxy_handler(client_socket, remote_host, remote_port, receive_first):\n",
        "    remote_socket = socket.socket(socket.AF_INET, socket.SOCK_STREAM)\n",
        "    remote_socket.connect((remote_host, remote_port)) #1\n",
        "\n",
        "    if receive_first: #2\n",
        "        remote_buffer = receive_from(remote_socket)\n",
        "        hexdump(remove_buffer)\n",
        "\n",
        "    remote_buffer = response_handler(remote_buffer) #3\n",
        "    if len(remote_buffer):\n",
        "        print(\"[<==] Sending %d bytes to localhost.\" % len(remote_buffer))\n",
        "        client_socket.send(remote_buffer)\n",
        "\n",
        "    while True:\n",
        "        local_buffer = receive_from(client_socket)\n",
        "        if len(local_buffer):\n",
        "            line = \"[==>] Received %d bytes from localhost.\" % len(local_buffer)\n",
        "            print(line)\n",
        "            hexdump(local_buffer)\n",
        "\n",
        "            local_buffer = request_handler(local_buffer)\n",
        "            remote_socket.send(local_buffer)\n",
        "            print(\"[==>] Sent to remote.\")\n",
        "\n",
        "        remote_buffer = receive_from(remote_socket)\n",
        "        if len(remote_buffer):\n",
        "            print(\"[<==] Received %d byte from remote.\" % len(remote_buffer))\n",
        "            hexdump(remote_buffer)\n",
        "\n",
        "            remote_buffer = response_handler(remote_buffer)\n",
        "            client_socket.send(remote_buffer)\n",
        "            print(\"[<==] Sent to localhost.\")\n",
        "\n",
        "        if not len(local_buffer) or not len(remote_buffer): #4\n",
        "            client_socket.close()\n",
        "            remote_socket.close()\n",
        "            print(\"[*] No more data. Closing connections.\")\n",
        "            break"
      ],
      "metadata": {
        "id": "KkbIn2OBav14"
      },
      "execution_count": null,
      "outputs": []
    },
    {
      "cell_type": "markdown",
      "source": [
        "This function contains the bulk of the logic for our proxy. To start off, we connect to the remote host __[1]__. Then we check to make sure we don't need to first initiate a connection to the remote side and request data before going inot the main loop __[2]__. Some server daemons will expect you yo do this (__FTP__ servers typically send a banner first, for example). We then use the __receive_from__ function for both sides of the communication. It accepts a connected socket object and performs a receive. We dump the contents of the packet so that we can inspect it for anything interesting. Next, we hand the output to the __response_handler__ function __[3]__ and then send the received buffer to the local client. The rest of the proxy code is straightforward: We set up our loop to continually read from the local client, process the data, send it to the remote client, read from the remote client, process the data, and send it to the local client until we no longer detect any data. When there's no more data to send on either side of the connection __[4]__, we close both the local and remote sockets and break out of the loop.\n",
        "\n",
        "Let's put together the __server_loop__ function to set up and manage the connection:"
      ],
      "metadata": {
        "id": "zgrVbBPUdCLg"
      }
    },
    {
      "cell_type": "code",
      "source": [
        "def server_loop(local_host, local_port, remote_host, remote_port, receive_first):\n",
        "    server = socket.socket(socket.AF_INET, socket.SOCK_STREAM) #1\n",
        "    try:\n",
        "        server.bind((local_host, local_port)) #2\n",
        "    except Exception as e:\n",
        "        print(\"Problem on bind: %r\" % e)\n",
        "\n",
        "        print(\"[!!] Failed to listen on %s:%d\" % (local_host, local_port))\n",
        "        print(\"[!!] Check for other listening sockets or correct permissions.\")\n",
        "        sys.exit(0)\n",
        "\n",
        "    print(\"[*] Listening on %s:%d\" % (local_host, local_port))\n",
        "    server.listen(5)\n",
        "    while True: #3\n",
        "        client_socket, addr = server.accept()\n",
        "        # Print out the local connection information\n",
        "        line = \"> Received incoming connection from %s:%d\" % (addr[0], addr[1])\n",
        "        print(line)\n",
        "        # Start a thread to talk to the remote host\n",
        "        proxy_thread = threading.Thread( #4\n",
        "            target=proxy_handler,\n",
        "            args=(client_socket, remote_host, remote_port, receive_first)\n",
        "        )\n",
        "        proxy_thread.start()"
      ],
      "metadata": {
        "id": "hzn85mV7gFUU"
      },
      "execution_count": null,
      "outputs": []
    },
    {
      "cell_type": "markdown",
      "source": [
        "The __server_loop__ function creates a socket __[1]__ and then binds to the local host and listens __[2]__. In the main loop __[3]__, when a fresh connection request comes in, we hand it off to the __proxy_handler__ in a new thread __[4]__, which does all of the sending and receiving of juicy bits to either side of the data stream.\n",
        "\n",
        "The only part left to write is the __main__ function:"
      ],
      "metadata": {
        "id": "3x4zRUOChkyF"
      }
    },
    {
      "cell_type": "code",
      "source": [
        "def main():\n",
        "    if len(sys.args[1:]) != 5:\n",
        "        print(\"Usage: ./proxy.py [localhost] [localport]\", end='')\n",
        "        print(\"[remotehost] [remoteport] [receive_first]\")\n",
        "        print(\"Example: ./proxy.py 127.0.0.1 9000 10.12.132.1 9000 True\")\n",
        "        sys.exit(0)\n",
        "\n",
        "    local_host = sys.argv[1]\n",
        "    local_port = int(sus.argv[2])\n",
        "    \n",
        "    remote_host = sys.argv[3]\n",
        "    remote_port = int(sys.argv[4])\n",
        "\n",
        "    receive_first = sys.argv[5]\n",
        "\n",
        "    if \"True\" in receive_first:\n",
        "        receive_first = True\n",
        "    else:\n",
        "        receive_first = False\n",
        "\n",
        "    server_loop(local_host, local_port, remote_host, remote_port, receive_first)\n",
        "\n",
        "if __name__ == \"__main__\":\n",
        "    main()"
      ],
      "metadata": {
        "id": "K01tWfy9iAdl"
      },
      "execution_count": null,
      "outputs": []
    },
    {
      "cell_type": "markdown",
      "source": [
        "In the __main__ function, we take in some command line arguments and then fire up the server loop that listens for connections."
      ],
      "metadata": {
        "id": "mnzhBllajGOr"
      }
    },
    {
      "cell_type": "markdown",
      "source": [
        "# *__Kicking the Tires__*\n",
        "\n",
        "Now that we have the core proxy loop and the supporting functions in place, let's test it against an __FTP__ server. Fire up the proxy with the following options:\n",
        "```\n",
        "tim@kali: sudo python proxy.py 192.168.1.203 21 ftp.sun.ac.za 21 True\n",
        "```"
      ],
      "metadata": {
        "id": "xtfmG1XvjQWo"
      }
    },
    {
      "cell_type": "markdown",
      "source": [
        "We used __sudo__ here because port 21 is a privileged port, so listening on it requires administrative or root privileges. Now launch any __FTP__ client and set it to use localhost and port 21 as its remote host and port. Of course, you'll want to point your proxy to an __FTP__ server that will actually respond yo you. When we ran this against a test __FTP__ server, we got the following result:\n",
        "```\n",
        "[*] Listening on 192.168.1.203:21\n",
        "> Received incoming connection from 192.168.1.203:47360\n",
        "[<==] Received 30 bytes from remote.\n",
        "0000  32 32 30 20 57 65 6C 63 6F 6D 65 20 74 6F 20 66   220 Welcome to f\n",
        "0010  74 70 2E 73 75 6E 2E 61 63 2E 7A 61 0D 0A         tp.sun.ac.za..\n",
        "0000  55 53 45 52 20 61 6E 6F 6E 79 6D 6F 75 73 0D 0A   USER anonymous..\n",
        "0000  33 33 31 20 50 6C 65 61 73 65 20 73 70 65 63 69   331 Please speci\n",
        "0010  66 79 20 74 68 65 20 70 61 73 73 77 6F 72 64 2E   fy the password.\n",
        "0020  0D 0A                                             ..\n",
        "0000  50 41 53 53 20 73 65 6B 72 65 74 0D 0A            PASS sekret..\n",
        "0000  32 33 30 20 4C 6F 67 69 6E 20 73 75 63 63 65 73   230 Login succes\n",
        "0010  73 66 75 6C 2E 0D 0A                              sful...\n",
        "[==>] Sent to local.\n",
        "[<==] Received 6 bytes from local.\n",
        "0000  53 59 53 54 0D 0A                                 SYST..\n",
        "0000  32 31 35 20 55 4E 49 58 20 54 79 70 65 3A 20 4C   215 UNIX Type: L\n",
        "0010  38 0D 0A                                          8..\n",
        "[<==] Received 28 bytes from local.\n",
        "0000  50 4F 52 54 20 31 39 32 2C 31 36 38 2C 31 2C 32   PORT 192,168,1,2\n",
        "0010  30 33 2C 31 38 37 2C 32 32 33 0D 0A               03, 187,223..\n",
        "0000  32 30 30 20 50 4F 52 54 20 63 6F 6D 6D 61 6E 64   200 PORT command\n",
        "0010  20 73 75 63 63 65 73 73 66 75 6C 2E 20 43 6F 6E    successful. Con\n",
        "0020  73 69 64 65 72 20 75 73 69 6E 67 20 50 41 53 56   sider using PASV\n",
        "0030  2E 0D 0A                                          ...\n",
        "[<==] Received 6 bytes from local.\n",
        "0000  4C 49 53 54 0D 0A                                 150 Here comes t\n",
        "0010  68 65 20 64 69 72 65 63 74 6F 72 79 20 6C 69 73   he directory lis\n",
        "0020  74 69 6E 67 2E 0D 0A 32 32 36 20 44 69 72 65 63   ting...226 Direc\n",
        "0030  74 6F 72 79 20 73 65 6E 64 20 4F 4B 2E 0D 0A      tory send OK...\n",
        "0000  50 4F 52 54 20 31 39 32 2C 31 36 38 2C 31 2C 32   PORT 192,168,1,2\n",
        "0010  30 33 2C 32 31 38 2C 31 31 0D 0A                  03,218,11..\n",
        "0000  32 30 30 20 50 4F 52 54 20 63 6F 6D 6D 61 6E 64   200 PORT command\n",
        "0010  20 73 75 63 63 65 73 73 66 75 6C 2E 20 43 6F 6E    successful. Con\n",
        "0020  73 69 64 65 72 20 75 73 69 6E 67 20 50 41 53 56   sider using PASV\n",
        "0030  2E 0D 0A                                          ...\n",
        "0000  51 55 49 54 0D 0A                                 QUIT..\n",
        "[==>] Sent to remote.\n",
        "0000  32 32 31 20 47 6F 6F 64 62 79 65 2E 0D 0A         221 Goodbye...\n",
        "[==>] Sent to local.\n",
        "[*] No more data. Closing connections.\n",
        "```"
      ],
      "metadata": {
        "id": "qZKRR_e4jo35"
      }
    },
    {
      "cell_type": "markdown",
      "source": [
        "In another terminal on the Kali machine, we started an __FTP__ session to the Kali machine's IP address using the default port, 21:\n",
        "```\n",
        "tim@kali:$ ftp 192.168.1.203\n",
        "Connected to 192.168.1.203.\n",
        "220 Welcome to ftp.sun.ac.za\n",
        "Name (192.168.1.203:tim): anonymous\n",
        "331 Please specify the password.\n",
        "Password:\n",
        "230 Login successful.\n",
        "Remote system type is UNIX.\n",
        "Using binary mode to transfer files.\n",
        "ftp> ls\n",
        "200 PORT command successful. Consider using PASV.\n",
        "150 Here comes the directory listing.\n",
        "lrwxrwxrwx    1 1001     1001          48 Jul 17  2008 CPAN -> pub/mirrors/ftp.funet.fi/pub/languages/perl/CPAN\n",
        "lrwxrwxrwx    1 1001     1001          21 Oct 21  2009 CRAN -> pub/mirrors/ubuntu.com\n",
        "drwxr-xr-x    2 1001     1001        4096 Apr 03  2019 veeam\n",
        "drwxr-xr-x    6 1001     1001        4096 Jun 27  2016 win32InetKeyTeraTerm226 Directory send OK.\n",
        "ftp> bye\n",
        "221 Goodbye.\n",
        "```"
      ],
      "metadata": {
        "id": "YKJ-TSXmpMNO"
      }
    },
    {
      "cell_type": "markdown",
      "source": [
        "You can clearly see that we're able to successfully receive the __FTP__ banner and send in a username and password, and that it cleanly exits."
      ],
      "metadata": {
        "id": "j8medLkDqsth"
      }
    }
  ]
}