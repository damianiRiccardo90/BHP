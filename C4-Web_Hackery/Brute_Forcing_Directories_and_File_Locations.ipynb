{
  "nbformat": 4,
  "nbformat_minor": 0,
  "metadata": {
    "colab": {
      "provenance": [],
      "authorship_tag": "ABX9TyOj6YaJW05ROfowhH1SFnIK",
      "include_colab_link": true
    },
    "kernelspec": {
      "name": "python3",
      "display_name": "Python 3"
    },
    "language_info": {
      "name": "python"
    }
  },
  "cells": [
    {
      "cell_type": "markdown",
      "metadata": {
        "id": "view-in-github",
        "colab_type": "text"
      },
      "source": [
        "<a href=\"https://colab.research.google.com/github/damianiRiccardo90/BHP/blob/master/C4-Web_Hackery/Brute_Forcing_Directories_and_File_Locations.ipynb\" target=\"_parent\"><img src=\"https://colab.research.google.com/assets/colab-badge.svg\" alt=\"Open In Colab\"/></a>"
      ]
    },
    {
      "cell_type": "markdown",
      "source": [
        "# *__Brute-Forcing Directories and File Locations__*\n",
        "\n",
        "The previous example assumed a lot of knowledge about your target. But when you're attacking a custom web application or large e-commerce system, you often won't be aware of all the files accessible on the web server.\n",
        "\n",
        "Generally, you'll deploy a spider, such as the one included in _Burp Suite_, to crawl the target website in order to discover as much of the web application as possible. But in a lot of cases, you'll want to get ahold of configuration files, leftover development files, debugging scripts, and other security bread-crumbs that can provide sensitive information or expose functionality that the software developer did not intend. The only way to discover this content is to use a brute-forcing tool to hunt down common filenames and directories.\n",
        "\n",
        "We'll build a simple tool that will accept word lists from common brute forcers, such as the __gobuster__ project (_https://github.com/OJ/gobuster/_) and __SVNDigger__ (_https://www.netsparker.com/blog/web-security/svn-digger-better-lists-for-forced-browsing/_), and attempt to discover directories and files that are reachable on the target web server. You'll find many word lists available on the internet, and you already have quite a few in your Kali distribution (see _/usr/share/wordlists_). For this example, we'll use a list from SVNDigger. You can retrieve the files for SVNDigger as follows:\n",
        "```\n",
        "cd ~/Downloads\n",
        "wget https://www.netsparker.com/s/research/SVNDigger.zip\n",
        "unzip SVNDigger.zip\n",
        "```\n",
        "When you unzip this file, the file __all.txt__ will be in your __Downloads__ directory.\n",
        "\n",
        "As before, we'll create a pool of threads to aggressively attempt to discover content. Let's start by creating some functionality to create a __Queue__ out of a word-list file. Open up a new file, name it __bruter.py__, and enter the following code:"
      ],
      "metadata": {
        "id": "u27bIBzbnR7i"
      }
    },
    {
      "cell_type": "code",
      "source": [
        "import queue\n",
        "import requests\n",
        "import threading\n",
        "import sys\n",
        "\n",
        "AGENT = \"Mozilla/5.0 (X11; Linux x86_64; rv:19.0) Gecko/20100101 Firefox/19.\"\n",
        "EXTENSIONS = [\".php\", \".bak\", \".orig\", \".inc\"]\n",
        "TARGET = \"http://testphp.vulnweb.com\"\n",
        "THREADS = 50\n",
        "WORDLIST = \"/home/tim/Downloads/all.txt\"\n",
        "\n",
        "def get_words(resume=None): #[1]\n",
        "\n",
        "    def extend_words(word): #[2]\n",
        "        if '.' in word:\n",
        "            words.put(f\"/{word}\")\n",
        "        else:\n",
        "            words.put(f\"/{word}/\") #[3]\n",
        "\n",
        "        for extension in EXTENSIONS:\n",
        "            words.put(f\"/{word}{extension}\")\n",
        "\n",
        "    with open(WORDLIST) as f:\n",
        "        raw_words = f.read() #[4]\n",
        "    \n",
        "    found_resume = False\n",
        "    words = queue.Queue()\n",
        "    for word in raw_words.split():\n",
        "        if resume is not None: #[5]\n",
        "            if found_resume:\n",
        "                extend_words(word)\n",
        "            elif word == resume:\n",
        "                found_resume = True\n",
        "                print(f\"Resuming wordlist from: {resume}\")\n",
        "        else:\n",
        "            print(word)\n",
        "            extend_words(word)\n",
        "    return words #[6]\n",
        "        "
      ],
      "metadata": {
        "id": "BGg32DvYrgTL"
      },
      "execution_count": null,
      "outputs": []
    }
  ]
}