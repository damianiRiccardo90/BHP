{
  "nbformat": 4,
  "nbformat_minor": 0,
  "metadata": {
    "colab": {
      "provenance": [],
      "authorship_tag": "ABX9TyO/ek6PjkD/k1Hipy5GT53Z",
      "include_colab_link": true
    },
    "kernelspec": {
      "name": "python3",
      "display_name": "Python 3"
    },
    "language_info": {
      "name": "python"
    }
  },
  "cells": [
    {
      "cell_type": "markdown",
      "metadata": {
        "id": "view-in-github",
        "colab_type": "text"
      },
      "source": [
        "<a href=\"https://colab.research.google.com/github/damianiRiccardo90/BHP/blob/master/C4-Web_Hackery/Mapping_Web_Apps.ipynb\" target=\"_parent\"><img src=\"https://colab.research.google.com/assets/colab-badge.svg\" alt=\"Open In Colab\"/></a>"
      ]
    },
    {
      "cell_type": "markdown",
      "source": [
        "# *__Web Hackery__*\n",
        "\n",
        "The ability to analyze web applications is an absolutely critical skill for any attacker or penetration tester. In most modern networks, web applications present the largest attack surface and therefore are also the most common avenue for gaining access to the web applications themselves.\n",
        "\n",
        "You'll find a number of excellent web application tools written in Python, including __w3af__ and __sqlmap__. Quite frankly, topics such as _SQL injection_ have been beaten to death, and the tooling available is mature enough that we don't need to reinvent the wheel. Instead, we'll explore the basics of interacting with the web by using Python and then build on this knowledge to create reconnaissance and brute-force tooling. By creating a few different tools, you should learn the fundamental skills you need to build any type of web application assessment tool that your particular attack scenario calls for.\n",
        "\n",
        "In this chapter, we'll look at three scenarios for attacking a web app. In the first scenario, you know the web framework that the target uses, and that framework happens to be open source. A web app framework contains many files and directories within directories within directories. We'll create a map that shows the hierarchy of the web app locally and use that information to locate the real files and directories on the live target.\n",
        "\n",
        "In the second scenario, you know only the URL for your target, so we'll resort to brute-forcing the same kind of mapping by using a word list to generate a list of filepaths and directory names that may be present on the target. We'll then attempt to connect to the resulting list of possible paths against a live target.\n",
        "\n",
        "In the third scenario, you know the base URL of your target and its login page. We'll examine the login page and use a word list to brute-force a login."
      ],
      "metadata": {
        "id": "Nruv5Cc5tekK"
      }
    },
    {
      "cell_type": "markdown",
      "source": [
        "### *__Using Web Libraries__*\n",
        "\n",
        "We'll start by going over the libraries you can use to interact with web services."
      ],
      "metadata": {
        "id": "fKgDLVYqtzzT"
      }
    },
    {
      "cell_type": "markdown",
      "source": [
        "## *__Mapping Open Source Web App Installations__*\n",
        "\n"
      ],
      "metadata": {
        "id": "am792f9otlR2"
      }
    },
    {
      "cell_type": "markdown",
      "source": [
        "### *__Mapping the WordPress Framework__*\n",
        "\n"
      ],
      "metadata": {
        "id": "DQ1vWir0uAgi"
      }
    }
  ]
}