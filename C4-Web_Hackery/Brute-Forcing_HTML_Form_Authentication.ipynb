{
  "nbformat": 4,
  "nbformat_minor": 0,
  "metadata": {
    "colab": {
      "provenance": [],
      "authorship_tag": "ABX9TyNQ0fOSgXqzI8uq6/+CBsee",
      "include_colab_link": true
    },
    "kernelspec": {
      "name": "python3",
      "display_name": "Python 3"
    },
    "language_info": {
      "name": "python"
    }
  },
  "cells": [
    {
      "cell_type": "markdown",
      "metadata": {
        "id": "view-in-github",
        "colab_type": "text"
      },
      "source": [
        "<a href=\"https://colab.research.google.com/github/damianiRiccardo90/BHP/blob/master/C4-Web_Hackery/Brute-Forcing_HTML_Form_Authentication.ipynb\" target=\"_parent\"><img src=\"https://colab.research.google.com/assets/colab-badge.svg\" alt=\"Open In Colab\"/></a>"
      ]
    },
    {
      "cell_type": "markdown",
      "source": [
        "# *__Brute-Forcing HTML Form Authentication__*\n",
        "\n",
        "There may come a time in your web hacking career when you need to gain access to a target or, if you're consulting, assess the password strength on an existing web system. It has become increasingly common for web systems to have brute-force protection, whether a captcha, a simple math equation, or a login token that has to be submitted with the request. There are a number of brute forcers that can do the brute-forcing of a POST request to the login script, but in a lot of cases they are not flexible enough to deal with dynamic content or handle simple \"are you human?\" checks.\n",
        "\n",
        "We'll create a simple brute forcer that will be useful against WordPress, a popular content management system. Modern WordPress systems include some basic anti brute-force techniques, but still lack account lockouts or strong captchas by default.\n",
        "\n",
        "In order to brute-force WordPress, our tool needs to meet two requirements: It must retrieve the hidden token from the login form before submitting the password attempt, and it must ensure that we accept cookies in our HTTP session. The remote application sets one or more cookies on first contact, and it will expect the cookies back on a login attempt. In order to parse out the login form values, we'll use the __lxml__ package introduced in \"The lxml and BeautifulSoup Packages\" on page 74.\n",
        "\n",
        "Let's get started by having a look at the WordPress login form. You can find this by browsing to _http://<yourtarget>/wp-login.php/_. You can use your browser's tools to \"view source\" to find the HTML structure. For example, using the Firefox browser, choose Tools -> Web Developer -> Inspector. For the sake of brevity, we've included the relevant form elements only:\n",
        "```\n",
        "<form name=\"loginform\" id=\"loginform\"\n",
        "    action=\"http://boodelyboo.com/wordpress/wp-login.php\" method=\"post\"> [1]\n",
        "    <p>\n",
        "        <label for=\"user_login\">Username or Email Address</label>\n",
        "        <input type=\"text\" name=\"log\" id=\"user_login\" value=\"\" size=\"20\" /> [2]\n",
        "    </p>\n",
        "\n",
        "    <div class=\"user-pass-wrap\">\n",
        "        <label for=\"user_pass\">Password</label>\n",
        "        <div class=\"wp-pwd\">\n",
        "            <input type=\"password\" name=\"pwd\" id=\"user_pass\" value=\"\" size=\"20\" /> [3]\n",
        "        </div>\n",
        "    </div>\n",
        "    <p class=\"submit\">\n",
        "        <input type=\"submit\" name=\"wp-submit\" id=\""
      ],
      "metadata": {
        "id": "3IdLepEw7iFL"
      }
    }
  ]
}